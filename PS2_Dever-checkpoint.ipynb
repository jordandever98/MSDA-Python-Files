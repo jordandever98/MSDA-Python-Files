{
 "cells": [
  {
   "cell_type": "markdown",
   "metadata": {},
   "source": [
    "# Problem Set 2\n",
    "\n",
    "Name: Jordan Dever\n",
    "\n",
    "# GRADE: 9.5/10\n",
    "\n",
    "abc123: xfd461\n",
    "\n",
    "Collaborators:\n",
    "- Colaborator 1\n",
    "- Colaborator 2\n",
    "\n",
    "### Introduction\n",
    "You are a data scientist working for the government. You want to understand the public opinion regarding hurricane Maria which is responsible for killing at least 499 people in Puerto Rico. Total losses are estimated at $94.4 billion dollars which accrued to government agencies, businesses, and more importantly, familes [1]. With this background, whether you are a politician, bussiness person, or one effected by the hurricane, understanding the sentiment of the general populace is important. For this assigment, you will use a subset of the tweets retrieved from Twitter that mentioned #PuertoRico over the period of October 4 to November 7, 2017 [2] to measure the sentiment (i.e., the \"good\" or \"bad\" opinions people have about the hurricane and its impact) of this event.\n",
    "\n",
    "For this task, we will write code for a lexicon-based analysis (i.e., lexicon-based classification). Lexicon-based classification is a way to categorize text based using manually generated lists of topical words. Essentially, we just need to check if the topical words appear in a piece of text (e.g., a tweet). In this exercise we will make use of manually curated sentiment words. However, the basic experimental process is the same for other tasks (e.g., identifying offensive language).\n",
    "\n",
    "If you are interested, though it is not needed, you can learn more about lexicon-based classification in Chapter 21 (21.2 and 21.6) of the free online book at the following link: [Speech and Language Processing](https://web.stanford.edu/~jurafsky/slp3/21.pdf)\n",
    "\n",
    "### References\n",
    "[1]  Spalding, Rebecca (November 13, 2017). \"Puerto Rico Seeks $94 Billion in Federal Aid for Hurricane Recovery\". Bloomberg News. Retrieved December 15, 2017.\n",
    "\n",
    "[2]  site: https://archive.org/details/puertorico-tweets\n",
    "\n",
    "## Submission Instructions\n",
    "\n",
    "After completing the exercises below, generate a pdf of the code **with** outputs. After that create a zip file containing both the completed exercise and the generated PDF/HTML. You are **required** to check the PDF/HTML to make sure all the code **and** outputs are clearly visible and easy to read. If your code goes off the page, you should reduce the line size. I generally recommend not going over 80 characters.\n",
    "\n",
    "For this task, unzip and move the file \"puerto-rico.jsonl\" in to the same directory as this notebook, then complete the following exercises. However, when you turn the assigment in, do **NOT** include puerto-rico.jsonl in your zip file when you submit the homework, you will kill Blackboard.\n",
    "\n",
    "Finally, name the zip file using a combination of your the assigment and your name, e.g., ps2_rios.zip"
   ]
  },
  {
   "cell_type": "markdown",
   "metadata": {
    "tags": []
   },
   "source": [
    "## Exercise 1 (1 points)\n",
    "\n",
    "The files \"positive_words.txt\" and \"negative_words.txt\" contain mannually curated positive (e.g., good, great, awesome) and negative words (e.g., bad, hate, terrible). The files contain one word on each line. Write a function that takes the open file (i.e., the file handle) and adds the words (i.e., on each line) to a set then returns the set.\n",
    "\n",
    "**Note:** You should use \".strip()\" to remove the newline character from the end of each word. "
   ]
  },
  {
   "cell_type": "code",
   "execution_count": 3,
   "metadata": {
    "tags": []
   },
   "outputs": [],
   "source": [
    "# Write code here\n",
    "\n",
    "def file_to_set(file):\n",
    "    \"\"\"\n",
    "    This function should take a file handler as input and return a set.\n",
    "    \n",
    "        Parameters:\n",
    "            - file file handle: This variable is a file handle\n",
    "            \n",
    "        Return:\n",
    "            - The file should return a set (e.g., {'good', 'great', 'happy'})\n",
    "    \"\"\"\n",
    "    file_set = set()\n",
    "    for line in file:\n",
    "        word = line.strip() #remove newline character \\n\n",
    "        file_set.add(word)\n",
    "    return file_set # You should return a set\n",
    "\n",
    "positive_file = open('./bing_liu/positive-words.txt', encoding='utf8')\n",
    "positive_words = file_to_set(positive_file) # the function is taking a file handle as input.\n",
    "positive_file.close()\n",
    "\n",
    "negative_file = open('./bing_liu/negative-words.txt', encoding='iso-8859-1') # If you get a weird read error. Let me know. We can change the encoding.\n",
    "negative_words = file_to_set(negative_file)\n",
    "negative_file.close()\n"
   ]
  },
  {
   "cell_type": "markdown",
   "metadata": {},
   "source": [
    "The lines below give example inputs and correct outputs using asserts, and can be run to test the code. Passing these tests is necessary, but **NOT** sufficient to guarantee your implementation is correct. You may add additional test cases, but do not remove any tests."
   ]
  },
  {
   "cell_type": "code",
   "execution_count": 6,
   "metadata": {
    "tags": []
   },
   "outputs": [
    {
     "name": "stdout",
     "output_type": "stream",
     "text": [
      "Asserts finished successfully!\n"
     ]
    }
   ],
   "source": [
    "assert(type(positive_words) == type(set()))\n",
    "assert(type(negative_words) == type(set()))\n",
    "assert(len(positive_words) == 2006)\n",
    "assert(len(negative_words) == 4783)\n",
    "assert(('good' in positive_words)  == True)\n",
    "assert(('bad' in negative_words)  == True)\n",
    "assert(('bad' not in positive_words) == True)\n",
    "print(\"Asserts finished successfully!\")"
   ]
  },
  {
   "cell_type": "markdown",
   "metadata": {},
   "source": [
    "## Exercise 2 (1 points)\n",
    "\n",
    "For this exercise, you need to write a function that counts the number of words in a sentence that also appear in a set. For example, given the set set(['good', 'great']) and the sentence \"this is good good good\", the function should return 3. The lower parameter should lowercase the input tweet text if it is set to True. Otherwise, it should keep the tweet text as-is.\n",
    "\n",
    "**Hint:** You can check if something is in a set using the following notation:\n",
    "\n",
    "```python\n",
    "mySet = set([\"a\", \"b\", \"c\"])\n",
    "otherList = [\"c\", \"d\"]\n",
    "for letter in otherList:\n",
    "    if letter in mySet:\n",
    "        print(letter)\n",
    "```\n",
    "\n",
    "The above code will print \"c\"."
   ]
  },
  {
   "cell_type": "code",
   "execution_count": 18,
   "metadata": {
    "tags": []
   },
   "outputs": [
    {
     "data": {
      "text/plain": [
       "3"
      ]
     },
     "execution_count": 18,
     "metadata": {},
     "output_type": "execute_result"
    }
   ],
   "source": [
    "def count_sentiment_words(sentiment_set, tweet_text, lower):\n",
    "    \"\"\"\n",
    "    This function takes a set and string as input, then counts the number of words that \n",
    "    appear in the string (tweet_text) that are also in the set (sentiment_set). The\n",
    "    tweet_text should be normalized based on the lower argument (i.e., lowercase if True)\n",
    "    \n",
    "        Parameters:\n",
    "            - sentiment_set set: A set of sentiment words, e.g., {'good', 'great', 'happy'}\n",
    "            - tweet_text string: A tweet, e.g., \"I go to UTSA!!!\"\n",
    "            - lower bool: A True or False boolean value indicating the tweet_text should be lowercased. If False, keep tweet_text as-is.\n",
    "    \"\"\"\n",
    "    count = 0\n",
    "    if lower is True:\n",
    "        tweet_text = tweet_text.lower()\n",
    "    text = tweet_text.split()\n",
    "    for words in text:\n",
    "        if words in sentiment_set:\n",
    "            count += 1\n",
    "            #print(count)\n",
    "            \n",
    "    return count #You should return a number\n",
    "count_sentiment_words(positive_words, \"this is a good good good class\", True)"
   ]
  },
  {
   "cell_type": "markdown",
   "metadata": {},
   "source": [
    "The lines below give example inputs and correct outputs using asserts, and can be run to test the code. Passing these tests is necessary, but **NOT** sufficient to guarantee your implementation is correct. You may add additional test cases, but do not remove any tests."
   ]
  },
  {
   "cell_type": "code",
   "execution_count": 19,
   "metadata": {
    "tags": []
   },
   "outputs": [
    {
     "name": "stdout",
     "output_type": "stream",
     "text": [
      "Asserts complete!\n"
     ]
    }
   ],
   "source": [
    "assert(count_sentiment_words(positive_words, \"this is a good good good class\", True) == 3)\n",
    "assert(count_sentiment_words(positive_words, \"this is a good\\tgood\\tgood class\", True) == 3)\n",
    "assert(count_sentiment_words(positive_words, \"this is a GOOD GOOD GOOD class\", False) == 0)\n",
    "assert(count_sentiment_words(positive_words, \"this is a GOOD GOOD GOOD class\", True) == 3)\n",
    "assert(count_sentiment_words(positive_words, \"this is a GOOD GOOD good class\", False) == 1)\n",
    "assert(count_sentiment_words(positive_words, \"Python is the best programming language for data science\", True) == 1)\n",
    "assert(count_sentiment_words(negative_words, \"R is bad compared to Python ;)\", True) == 1)\n",
    "print(\"Asserts complete!\")"
   ]
  },
  {
   "cell_type": "markdown",
   "metadata": {},
   "source": [
    "## Exercise 3 (1 point)\n",
    "\n",
    "For this exercise, you will write a function that takes two numbers as input and returns a string. Intuitively, this is a basic classification function for lexicon-based sentiment classification. \n",
    "\n",
    "The function should take as input parameters the the number of positive (num_pos_words) and negative (num_neg_words) words in each tweet to predict sentiment. If the number of positive words is greater than to the number of negative tweets (num_pos_words > num_neg_words), then predict **\"positive\"**. If the number of negative words is greater than the number of positive words (num_neg_words > num_pos_words), then predict **\"negative\"**. If both num_pos_words and num_neg_words are equal (num_neg_words = num_pos_words), predict **\"neutral\"**. This is known as lexicon-based classification.\n",
    "\n",
    "Intuitively, the idea is simple, a tweet with more positive words is generally express \"positive\" sentiment. Likewise, a tweet with more negative words is expressing \"negative\" sentiment."
   ]
  },
  {
   "cell_type": "code",
   "execution_count": 24,
   "metadata": {
    "tags": []
   },
   "outputs": [
    {
     "name": "stdout",
     "output_type": "stream",
     "text": [
      "positive\n",
      "negative\n",
      "neutral\n"
     ]
    }
   ],
   "source": [
    "def predict(num_pos_words, num_neg_words):\n",
    "    \"\"\"\n",
    "    This function should return the string \"positive\", \"negative\", or \"neutral\" given\n",
    "    the input parameters, i.e., if num_pos_words is greater than num_neg_words, return \"positive\"\n",
    "    \n",
    "        Parameters:\n",
    "            - num_pos_words int: This is a count representing the number of positive words in a tweet.\n",
    "            - num_neg_words int: This is a count representing the number of negative words in a tweet.\n",
    "            \n",
    "        Return:\n",
    "            - Return a string \"positive\", \"negative\", or \"neutral\"\n",
    "    \"\"\"\n",
    "    if num_pos_words > num_neg_words:\n",
    "        return 'positive'\n",
    "    elif num_pos_words < num_neg_words:\n",
    "        return 'negative'\n",
    "    else:\n",
    "        return 'neutral' # You should return a string\n",
    "\n",
    "print(predict(100,5))\n",
    "print(predict(-5,5))\n",
    "print(predict(5,5))"
   ]
  },
  {
   "cell_type": "markdown",
   "metadata": {},
   "source": [
    "The lines below give example inputs and correct outputs using asserts, and can be run to test the code. Passing these tests is necessary, but **NOT** sufficient to guarantee your implementation is correct. You may add additional test cases, but do not remove any tests."
   ]
  },
  {
   "cell_type": "code",
   "execution_count": 21,
   "metadata": {
    "tags": []
   },
   "outputs": [
    {
     "name": "stdout",
     "output_type": "stream",
     "text": [
      "Assert finished successfully!\n"
     ]
    }
   ],
   "source": [
    "assert(predict(2, 5) == 'negative')\n",
    "assert(predict(5, 2) == 'positive')\n",
    "assert(predict(3, 3) == 'neutral')\n",
    "print(\"Assert finished successfully!\")"
   ]
  },
  {
   "cell_type": "markdown",
   "metadata": {},
   "source": [
    "## Exercise 4 (1 point)\n",
    "\n",
    "This exercise is similar to Exercise 3. However, instead of making a prediction, we should write a function that returns a sentiment score. Specifically, assume num_pos_words is 3 and num_neg_words is 4, the function should return -1. The idea is that the more *positive* the number, the more positive the sentiment. Likewise, the more *negative* the number, the more negative the sentiment."
   ]
  },
  {
   "cell_type": "code",
   "execution_count": 31,
   "metadata": {
    "tags": []
   },
   "outputs": [],
   "source": [
    "def predict_score(num_pos_words, num_neg_words):\n",
    "    \"\"\"\n",
    "    This function should generate a sentiment score num_pos_words - num_neg_words.\n",
    "    \n",
    "        Parameters:\n",
    "            - num_pos_words int: This is a count representing the number of positive words in a tweet.\n",
    "            - num_neg_words int: This is a count representing the number of negative words in a tweet.\n",
    "            \n",
    "        Return:\n",
    "            - Return an integer representing the difference between positive words and negative words.\n",
    "    \"\"\"\n",
    "    return int(num_pos_words - num_neg_words)"
   ]
  },
  {
   "cell_type": "markdown",
   "metadata": {},
   "source": [
    "The lines below give example inputs and correct outputs using asserts, and can be run to test the code. Passing these tests is necessary, but **NOT** sufficient to guarantee your implementation is correct. You may add additional test cases, but do not remove any tests."
   ]
  },
  {
   "cell_type": "code",
   "execution_count": 32,
   "metadata": {
    "tags": []
   },
   "outputs": [
    {
     "name": "stdout",
     "output_type": "stream",
     "text": [
      "Asserts finished successfully!\n"
     ]
    }
   ],
   "source": [
    "assert(predict_score(3, 1) == 2)\n",
    "assert(predict_score(2, 2) == 0)\n",
    "assert(predict_score(2, 5) == -3)\n",
    "print(\"Asserts finished successfully!\")"
   ]
  },
  {
   "cell_type": "markdown",
   "metadata": {},
   "source": [
    "## Exercise 5 (1 point)\n",
    "\n",
    "Write a function that takes a json string as input and returns a Python object. Hint: This can be one line. You can use the json library."
   ]
  },
  {
   "cell_type": "code",
   "execution_count": 35,
   "metadata": {
    "tags": []
   },
   "outputs": [],
   "source": [
    "import json\n",
    "\n",
    "def json_string_to_dictionary(json_string):\n",
    "    \"\"\"\n",
    "    This function should take a json string and convert it into a Python object (hint: loads)\n",
    "    \n",
    "        Parameters:\n",
    "            - json_string str: A json string, e.g., '{\"a\": 1}'\n",
    "            \n",
    "        Returns:\n",
    "            - Return a python object, e.g., {\"a\": 1} <--- look no quotes, so this is a dictionary\n",
    "    \"\"\"\n",
    "    return json.loads(json_string)"
   ]
  },
  {
   "cell_type": "markdown",
   "metadata": {},
   "source": [
    "The lines below give example inputs and correct outputs using asserts, and can be run to test the code. Passing these tests is necessary, but **NOT** sufficient to guarantee your implementation is correct. You may add additional test cases, but do not remove any tests."
   ]
  },
  {
   "cell_type": "code",
   "execution_count": 36,
   "metadata": {
    "tags": []
   },
   "outputs": [
    {
     "name": "stdout",
     "output_type": "stream",
     "text": [
      "Assert finished successfully!\n"
     ]
    }
   ],
   "source": [
    "data = json_string_to_dictionary('{\"a\": 1}')\n",
    "assert(data == {'a': 1})\n",
    "data = json_string_to_dictionary('[1,2,3]')\n",
    "assert(data == [1,2,3])\n",
    "print(\"Assert finished successfully!\")"
   ]
  },
  {
   "cell_type": "markdown",
   "metadata": {},
   "source": [
    "## Exercise 6 (3 points)\n",
    "\n",
    "For this task, we combine the functions written for the previous exercises to classify all of the tweets in a real Twitter dataset. You should write code that does the following:\n",
    "1. Keeps track of the number of tweets\n",
    "2. Keeps track of the number of positive and negative tweets\n",
    "3. Keeps track of the user that tweets the most\n",
    "4. Keeps track of the total number of unique users\n",
    "5. Keeps track of the average number of tweets per user (how many tweets does each user make, on average)\n",
    "6. Keeps track of the most positive and negative tweets.\n",
    "\n",
    "Note: This task depends on Exercises 1 through 5. You will need to complete them first. Also, do **not** store all of the tweets in a list.  This will use too much memory because of the size of the dataset. It is okay to store all of the user's screen names.\n",
    "\n",
    "Finally, the dataset is big! So, I recommend working on a subset of the dataset to make sure your code works, i.e., you could \"break\" after the first 100 lines.\n",
    "\n"
   ]
  },
  {
   "cell_type": "code",
   "execution_count": 133,
   "metadata": {
    "tags": []
   },
   "outputs": [],
   "source": [
    "total_number_of_tweets = 0\n",
    "total_number_of_positive_tweets = 0\n",
    "total_number_of_negative_tweets = 0\n",
    "most_positive_tweet = ''\n",
    "most_negative_tweet = ''\n",
    "user_with_most_tweets = ''\n",
    "average_number_tweets_per_user = 0\n",
    "total_number_of_users = 0\n",
    "user_counts = {}\n",
    "most_tweets = 0\n",
    "# NOTE: You may need to define extra variables to help generate the required output.\n",
    "\n",
    "twitter_dataset = open('puerto-rico.jsonl', 'r')\n",
    "\n",
    "# NOTE: Process the data line-by-line. Do NOT load the entire dataset into memory.\n",
    "\n",
    "for row in twitter_dataset:\n",
    "    tweet_dict = json_string_to_dictionary(row)\n",
    "    \n",
    "    ###############################\n",
    "    \n",
    "    tweet_text = tweet_dict['full_text'] # MODIFY THIS LINE TO GET THE \"full_text\" from the tweet_dict\n",
    "    screen_name = tweet_dict['user']['screen_name'] # MODIFY THIS LINE TO GET THE \"screen_name\" from the tweet_dict\n",
    "    \n",
    "    ###############################\n",
    "    \n",
    "    num_pos_words = count_sentiment_words(positive_words, tweet_text, True)\n",
    "    num_neg_words = count_sentiment_words(negative_words, tweet_text, True)\n",
    "    \n",
    "    sentiment_prediction = predict(num_pos_words, num_neg_words)\n",
    "    sentiment_score = predict_score(num_pos_words, num_neg_words)\n",
    "    \n",
    "    ################################\n",
    "    # Your code should do the following:\n",
    "    #   1. Keep track of the number of tweets\n",
    "    #   2. Keep track of the number of positive and negative tweets\n",
    "    #   3. Keep track of the user that tweet the most\n",
    "    #   4. Keep track of the total number of unique users\n",
    "    #   5. Keep track of the average number of tweets per user (how many tweets does each user make, on average)\n",
    "    #   6. Keep track of the most positive and negative tweets.\n",
    "    \n",
    "    # YOUR CODE HERE\n",
    "    total_number_of_tweets += 1\n",
    "    if sentiment_prediction == 'positive':\n",
    "        total_number_of_positive_tweets += 1\n",
    "    if sentiment_prediction == 'negative':\n",
    "        total_number_of_negative_tweets += 1\n",
    "    most_pos = 0\n",
    "    most_neg = 0\n",
    "    if sentiment_score > most_pos:\n",
    "        most_pos = sentiment_score\n",
    "        most_positive_tweet = tweet_text\n",
    "    if sentiment_score < most_neg:\n",
    "        most_neg = sentiment_score\n",
    "        most_negative_tweet = tweet_text\n",
    "    unique_users = set(screen_name)\n",
    "    user_counts[screen_name] = user_counts.get(screen_name, 0) + 1\n",
    "    for k, v in user_counts.items(): # INSTRUCTOR: This part is very slow. This can be done faster by using an appraoch sinilar to most_positive_tweet. -.5 points\n",
    "        if v > most_tweets:\n",
    "            most_tweets = v\n",
    "            user_with_most_tweets = k\n",
    "\n",
    "        \n",
    "    #print(tweet_text)\n",
    "    if total_number_of_tweets == 1000:\n",
    "        break\n",
    "    ################################\n",
    "\n",
    "# NOTE: You may need to have code after the for loop, depending on your implementation instead of everything being inside it.\n",
    "# CODE HERE (Maybe, depending on your implementation)\n",
    "total_number_of_users = len(unique_users)\n",
    "average_number_tweets_per_user = round(total_number_of_tweets / total_number_of_users, 2) \n",
    "twitter_dataset.close()"
   ]
  },
  {
   "cell_type": "code",
   "execution_count": 134,
   "metadata": {
    "tags": []
   },
   "outputs": [
    {
     "name": "stdout",
     "output_type": "stream",
     "text": [
      "Total Number of Tweets: 1000\n",
      "Total Number of Positive Tweets: 312\n",
      "Total Number of Negative Tweets: 241\n",
      "\n",
      "Most Positive Tweet\n",
      "This is what a hero does. Thank you @Bethenny for all your hard work to help the people of #PuertoRico.\n",
      "\n",
      "Please check her TL for details.\n",
      "\n",
      "Most Negative Tweet\n",
      "RT @ericbolling: When will @realDonaldTrump catch a break from fake news outrage? Very unfair slams over #PuertoRico visit.\n",
      "\n",
      "Total Number of Users: 8\n",
      "Average Number of Tweets per User: 125.0\n",
      "User with the most tweets: DyEliana\n"
     ]
    }
   ],
   "source": [
    "print(\"Total Number of Tweets: {}\".format(total_number_of_tweets))\n",
    "print(\"Total Number of Positive Tweets: {}\".format(total_number_of_positive_tweets))\n",
    "print(\"Total Number of Negative Tweets: {}\\n\".format(total_number_of_negative_tweets))\n",
    "\n",
    "print(\"Most Positive Tweet\")\n",
    "print(most_positive_tweet)\n",
    "print()\n",
    "\n",
    "print(\"Most Negative Tweet\")\n",
    "print(most_negative_tweet)\n",
    "print()\n",
    "\n",
    "print(\"Total Number of Users: {}\".format(total_number_of_users))\n",
    "print(\"Average Number of Tweets per User: {}\".format(average_number_tweets_per_user))\n",
    "print(\"User with the most tweets: {}\".format(user_with_most_tweets))"
   ]
  },
  {
   "cell_type": "markdown",
   "metadata": {},
   "source": [
    "The lines below give example inputs and correct outputs using asserts, and can be run to test the code. Passing these tests is necessary, but **NOT** sufficient to guarantee your implementation is correct. You may add additional test cases, but do not remove any tests."
   ]
  },
  {
   "cell_type": "code",
   "execution_count": 135,
   "metadata": {
    "tags": []
   },
   "outputs": [
    {
     "ename": "AssertionError",
     "evalue": "",
     "output_type": "error",
     "traceback": [
      "\u001b[1;31m---------------------------------------------------------------------------\u001b[0m",
      "\u001b[1;31mAssertionError\u001b[0m                            Traceback (most recent call last)",
      "Cell \u001b[1;32mIn[135], line 7\u001b[0m\n\u001b[0;32m      5\u001b[0m \u001b[38;5;28;01massert\u001b[39;00m(\u001b[38;5;28misinstance\u001b[39m(most_negative_tweet, \u001b[38;5;28mstr\u001b[39m))\n\u001b[0;32m      6\u001b[0m \u001b[38;5;28;01massert\u001b[39;00m(\u001b[38;5;28misinstance\u001b[39m(user_with_most_tweets, \u001b[38;5;28mstr\u001b[39m))\n\u001b[1;32m----> 7\u001b[0m \u001b[38;5;28;01massert\u001b[39;00m(total_number_of_tweets \u001b[38;5;241m==\u001b[39m \u001b[38;5;241m737153\u001b[39m)\n\u001b[0;32m      8\u001b[0m \u001b[38;5;28mprint\u001b[39m(\u001b[38;5;124m\"\u001b[39m\u001b[38;5;124mAssert finished successfully!\u001b[39m\u001b[38;5;124m\"\u001b[39m)\n",
      "\u001b[1;31mAssertionError\u001b[0m: "
     ]
    }
   ],
   "source": [
    "assert(isinstance(total_number_of_tweets, int) or isinstance(total_number_of_tweets, float))\n",
    "assert(isinstance(total_number_of_positive_tweets, int) or isinstance(total_number_of_positive_tweets, float))\n",
    "assert(isinstance(total_number_of_negative_tweets, int) or isinstance(total_number_of_negative_tweets, float))\n",
    "assert(isinstance(most_positive_tweet, str))\n",
    "assert(isinstance(most_negative_tweet, str))\n",
    "assert(isinstance(user_with_most_tweets, str))\n",
    "assert(total_number_of_tweets == 737153)\n",
    "print(\"Assert finished successfully!\")"
   ]
  },
  {
   "cell_type": "markdown",
   "metadata": {},
   "source": [
    "## Exercise 7 (2 points)\n",
    "\n",
    "For this exercise, you will perform manual analysis of the predictions. Modify the code to load the tweet text, then answer the questions below."
   ]
  },
  {
   "cell_type": "code",
   "execution_count": 129,
   "metadata": {
    "tags": []
   },
   "outputs": [
    {
     "name": "stdout",
     "output_type": "stream",
     "text": [
      "Tweet 1: RT @TheSWPrincess: @bri_sacks To find out how to help, visit the site below. Virgin Islanders are not getting the media attention that #Pue…\n",
      "Tweet 1 Prediction: neutral\n",
      "\n",
      "Tweet 2: I have yet to be able to express my thoughts without expletives about @realDonaldTrump + Hurricane Maria recovery #PuertoRico\n",
      "Tweet 2 Prediction: positive\n",
      "\n",
      "Tweet 3: RT @TalbertSwan: @TaIbertSwan @realDonaldTrump “Sire, the people don’t have power, food, or water!” \n",
      "\n",
      "#Trump: “Let them eat paper towels!”…\n",
      "Tweet 3 Prediction: neutral\n",
      "\n",
      "Tweet 4: RT @NYPDSpecialops: #NYPD ESU K9 “Harley” &amp; “Nash” deployed as part @fema NY-TF1 have been hard at work assisting in the #PuertoRico rescue…\n",
      "Tweet 4 Prediction: neutral\n",
      "\n",
      "Tweet 5: RT @StarrMSS: .@elvisduran gave 30K to @Bethenny to charter  plane to bring supplies to #PuertoRico #HurricaneMaria. He also gave 100K to @…\n",
      "Tweet 5 Prediction: neutral\n",
      "\n",
      "Tweet 6: RT @ericbolling: When will @realDonaldTrump catch a break from fake news outrage? Very unfair slams over #PuertoRico visit.\n",
      "Tweet 6 Prediction: negative\n",
      "\n",
      "Tweet 7: FCC approves up to $77 million to restore communications after hurricane https://t.co/hn0WqJiE9T #WonkAmerica https://t.co/m6P6RvDkZi\n",
      "Tweet 7 Prediction: neutral\n",
      "\n",
      "Tweet 8: \"@daddy_yankee,#PuertoRico native,to #Donate $250,000 to #Habitat &amp; raise $1.5+ #Million!\"❤\n",
      "\n",
      "https://t.co/32kjy93dNZ\n",
      "https://t.co/15bza8gjW0\n",
      "Tweet 8 Prediction: neutral\n",
      "\n",
      "Tweet 9: RT @ericbolling: When will @realDonaldTrump catch a break from fake news outrage? Very unfair slams over #PuertoRico visit.\n",
      "Tweet 9 Prediction: negative\n",
      "\n",
      "Tweet 10: RT @chefjoseandres: Forget politics forget pundits. What I have seen in #PuertoRico is people coming together, sacrificing 2 serve. This is…\n",
      "Tweet 10 Prediction: neutral\n",
      "\n",
      "Tweet 11: RT @mercycorps: Our neighbors in #PuertoRico are resilient, but they need our help to recover + rebuild. We invite you to join us.\n",
      "\n",
      "https:/…\n",
      "Tweet 11 Prediction: positive\n",
      "\n",
      "Tweet 12: RT @StopTrump2020: At least 34 dead - #Trump blames #PuertoRico for #FEMA not having enough money.  #SAD! https://t.co/DHuW7xGlOY\n",
      "Tweet 12 Prediction: neutral\n",
      "\n",
      "Tweet 13: RT @SamaritansPurse: With your support, our disaster response team continues to bring emergency relief to families in #PuertoRico. https://…\n",
      "Tweet 13 Prediction: negative\n",
      "\n",
      "Tweet 14: RT @usairforce: 4 @USARMY Pave Hawks, 4 pallets of search &amp; rescue gear, 1 ATV and 39 search &amp; rescue passengers aboard a C5 headed to #Pue…\n",
      "Tweet 14 Prediction: neutral\n",
      "\n",
      "Tweet 15: RT @RoseAnnDeMoro: RNRN and @AFLCIO send 300+ volunteers to #PuertoRico: union nurses, construction and transportation workers fly out toda…\n",
      "Tweet 15 Prediction: neutral\n",
      "\n",
      "Tweet 16: RT @daddy_yankee: I know the reconstruction of my home island will requiere long-term solutions. - go to the link and help me raise more mo…\n",
      "Tweet 16 Prediction: neutral\n",
      "\n",
      "Tweet 17: RT @Jenniffer2012: Thanks from my heart to @FLOTUS for your caring and your commitment to help. #PuertoRico 🇺🇸🇵🇷 https://t.co/p8fkXfKbXd\n",
      "Tweet 17 Prediction: positive\n",
      "\n",
      "Tweet 18: RT @RichardMadan: Here is President Trump tossing paper towels at hurricane victims in #PuertoRico https://t.co/JjLMRNFcAt\n",
      "Tweet 18 Prediction: positive\n",
      "\n",
      "Tweet 19: RT @JimmyPatronis: I’m deploying law enforcement assets to join @fdlepio, @FLHSMV and @MyFWC to help in #PuertoRico after #Maria: https://t…\n",
      "Tweet 19 Prediction: neutral\n",
      "\n",
      "Tweet 20: RT @ExDemLatina: .@CarmenYulinCruz is a Lying policial Corrupt hack! \n",
      "She has time to make another shirt for media rounds. #PuertoRico #San…\n",
      "Tweet 20 Prediction: negative\n",
      "\n"
     ]
    }
   ],
   "source": [
    "import json\n",
    "twitter_dataset = open('puerto-rico.jsonl', 'r')\n",
    "\n",
    "num_tweets_to_print = 20\n",
    "\n",
    "num_tweets = 0\n",
    "\n",
    "for row in twitter_dataset:\n",
    "    num_tweets += 1\n",
    "    tweet_dict = json_string_to_dictionary(row)\n",
    "    \n",
    "    ###############################\n",
    "    # YOUR CODE HERE\n",
    "    tweet_text = tweet_dict['full_text'] # MODIFY THIS LINE TO GET THE \"full_text\" from the tweet_dict    \n",
    "    ###############################\n",
    "    \n",
    "    num_pos_words = count_sentiment_words(positive_words, tweet_text, True)\n",
    "    num_neg_words = count_sentiment_words(negative_words, tweet_text, True)\n",
    "    \n",
    "    sentiment_prediction = predict(num_pos_words, num_neg_words)\n",
    "    \n",
    "    print(\"Tweet {}: {}\".format(num_tweets, tweet_text))\n",
    "    print(\"Tweet {} Prediction: {}\".format(num_tweets, sentiment_prediction))\n",
    "    print()\n",
    "    \n",
    "    if num_tweets == num_tweets_to_print:\n",
    "        break\n",
    "    \n",
    "twitter_dataset.close()\n"
   ]
  },
  {
   "cell_type": "markdown",
   "metadata": {},
   "source": [
    "Complete the following tasks:\n",
    " \n",
    "- Manually annotate all of the tweets printed above. This is your interpretation. We want to understand how accurate the predictions are at the tweet-level:\n",
    "   1. Tweet 1 neutral\n",
    "   1. Tweet 2 negative\n",
    "   1. Tweet 3 negative\n",
    "   1. Tweet 4 positive\n",
    "   1. Tweet 5 positive\n",
    "   1. Tweet 6 negative\n",
    "   1. Tweet 7 positive\n",
    "   1. Tweet 8 positive\n",
    "   1. Tweet 9 negative\n",
    "   1. Tweet 10 positive\n",
    "   1. Tweet 11 positive\n",
    "   1. Tweet 12 negative\n",
    "   1. Tweet 13 positive\n",
    "   1. Tweet 14 positive\n",
    "   1. Tweet 15 positive\n",
    "   1. Tweet 16 neutral\n",
    "   1. Tweet 17 positive\n",
    "   1. Tweet 18 negative\n",
    "   1. Tweet 19 positive\n",
    "   1. Tweet 20 negative\n",
    "\n",
    "- How many of the predictions are right or wrong compared to your annotations?\n",
    "    - 8/20 were the same\n",
    "    \n",
    "- Do you see any major limitations of lexicon-based classificaiton (i.e., making sentiment predictions using individual words)? Use your intuition, I will accept most answers, as long as it makes some sense. Please describe and provide examples below:\n",
    "\n",
    "I see that there are limitations to lexicon-based classification because it may not be able to detect sarcasm, slang, \n",
    "or ways that we use certain words to emphasize the meaning of other words (like using words opposite to their connotation).\n",
    "Like in Tweet 18, the lexicon can't see pictures (yet) but it said it was positive for Trump throwing paper towels\n",
    "at hurricane victims when throwing things at victims isn't a positive thing. It also said neutral or negative to a lot of\n",
    "tweets that were providing aid to Puerto Rico like when people made donations or came together to help in person.\n",
    "It was limited to treat words like assisting and rescue as neutral when it is a positive action for the people who were suffering."
   ]
  },
  {
   "cell_type": "markdown",
   "metadata": {},
   "source": [
    "## Extra Credit (2 points)\n",
    "\n",
    "For this exercise, you should use a different dataset (email me if you want me to share a dataset with your directly, or you can use your own---see below for dataset resources) and analyze it with a different (non-sentiment) lexicon. You can complete the same analysis as above, or do something different as long as you make use of a new lexicon and a new dataset. Notice some lexicons only have one class, or more than 2 classes. The processing will be slightly different. Feel free to ask how this can be done via Slack.\n",
    "\n",
    "Possible lexicons:\n",
    "- Hate speech and offensive language lexicons:\n",
    "    - https://github.com/steve050798/hate-speech-and-offensive-language/raw/master/lexicons/hatebase_dict.csv\n",
    "    - https://www.cs.cmu.edu/~biglou/resources/bad-words.txt\n",
    "- Emotion Lexicon:\n",
    "    - https://saifmohammad.com/WebPages/NRC-Emotion-Lexicon.htm#:~:text=The%20NRC%20Emotion%20Lexicon%20is,were%20manually%20done%20by%20crowdsourcing.\n",
    "        - Note that this lexicon has more than two classes. Message me for discussion about how to handle this.\n",
    "        \n",
    "You may use one of the lexicons above or another non-sentiment lexicon of your choice. I may allow another sentiment lexicon if the new analysis is interesting; however, email me before doing this. An example would be using a Spanish sentiment lexicon to analyze Spanish text, or doing a different analysis than the one abouve (e.g., anayzing sentiment over time).\n",
    "\n",
    "Where to look for new data?\n",
    "- https://www.kaggle.com\n",
    "- https://www.docnow.io/catalog/ (Some datasets contain the text, not just tweet ids). If you have something specific you want, I can grab it for you using my developer account.\n",
    "- Google :). You do not need to use tweets.\n",
    "\n",
    "You can pull new data from Twitter, but you will need to create a developer account. The easiest way to pull new data is via the use of Twarc (https://github.com/DocNow/twarc).\n",
    "\n",
    "Finally, when you submit, I don't need to have your data, just make sure to provide a couple of examples, a link to the data (if available), and make sure all of the output of your code is printed with the output so I can analyze it."
   ]
  },
  {
   "cell_type": "code",
   "execution_count": null,
   "metadata": {},
   "outputs": [],
   "source": [
    "# Write and document your code here"
   ]
  }
 ],
 "metadata": {
  "kernelspec": {
   "display_name": "Python 3 (ipykernel)",
   "language": "python",
   "name": "python3"
  },
  "language_info": {
   "codemirror_mode": {
    "name": "ipython",
    "version": 3
   },
   "file_extension": ".py",
   "mimetype": "text/x-python",
   "name": "python",
   "nbconvert_exporter": "python",
   "pygments_lexer": "ipython3",
   "version": "3.8.12"
  }
 },
 "nbformat": 4,
 "nbformat_minor": 4
}
