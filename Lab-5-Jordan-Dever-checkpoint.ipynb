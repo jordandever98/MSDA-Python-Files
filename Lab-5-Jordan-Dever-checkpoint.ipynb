{
 "cells": [
  {
   "cell_type": "markdown",
   "metadata": {},
   "source": [
    "# Python: Objects\n",
    "\n",
    "Blank notebook to be used for class exercises.\n",
    "\n",
    "Name: Jordan Dever\n",
    "\n",
    "abc123: xfd461"
   ]
  },
  {
   "cell_type": "markdown",
   "metadata": {},
   "source": [
    "## Exercise 1\n",
    "\n",
    "This exercise has two parts. First, answer the following questions:\n",
    "\n",
    "- What is the division **method** called for float objects?\n",
    "- How many methods and attributes are there for float objects?\n",
    "- How many methods and attributes are there for list objects?\n",
    "\n",
    "Second, write code that uses the division **METHOD** (don't use \"/\", but the result should be the same as using \"/\") to divide a float object with the value 42 by 7."
   ]
  },
  {
   "cell_type": "code",
   "execution_count": 42,
   "metadata": {
    "tags": []
   },
   "outputs": [
    {
     "name": "stdout",
     "output_type": "stream",
     "text": [
      "<class 'float'>\n",
      "59\n",
      "p1: Division method is __truediv__()\n",
      "p2: 59 methods & attributes for float objs\n",
      "<class 'list'>\n",
      "48\n",
      "p3: 48 methods & attributes for list objs\n",
      "6.0\n"
     ]
    }
   ],
   "source": [
    "p1  = 5.5\n",
    "print(type(p1))\n",
    "dir(p1)\n",
    "print(len(dir(p1)))\n",
    "# Division method is __truediv__()\n",
    "print('p1: Division method is __truediv__()')\n",
    "print('p2: 59 methods & attributes for float objs')\n",
    "# 59 methods & attributes for float objs\n",
    "p3 = [1,2,3]\n",
    "print(type(p3))\n",
    "print(len(dir(p3)))\n",
    "print('p3: 48 methods & attributes for list objs')\n",
    "# 48 methods & attributes for list objs\n",
    "div_method = 42.0\n",
    "print(div_method.__truediv__(7.0))"
   ]
  },
  {
   "cell_type": "markdown",
   "metadata": {},
   "source": [
    "## Exercise 2\n",
    "\n",
    "Write a class named “CheckingAccount” that contains the current balance of the account (an int) and the following methods:\n",
    "\n",
    "- **init** - takes a “balance” parameter to initialize the data (balance)of the object.\n",
    "- **withdraw** - takes an input parameter “amount” and modifies thedata by reducing the balance.  If “amount” results in an overdraw,subtract an extra 20 dollars.  This method should return the balance.\n",
    "- **deposit** - takes an input parameter “amount” and modifies the databy increasing the balance by “amount”.\n",
    "\n",
    "Write a few test cases to check your work (Use assert)"
   ]
  },
  {
   "cell_type": "code",
   "execution_count": 40,
   "metadata": {
    "tags": []
   },
   "outputs": [
    {
     "name": "stdout",
     "output_type": "stream",
     "text": [
      "Starting balance: 30\n",
      "Assert Successful\n",
      "New balance: -21\n",
      "Assert Successful\n"
     ]
    }
   ],
   "source": [
    "class CheckingAccount:\n",
    "    current_balance = 0\n",
    "    def __init__(self, balance):\n",
    "        self.current_balance = balance\n",
    "        print('Starting balance: {}'.format(self.current_balance))\n",
    "    def withdraw(self, amount):\n",
    "        if amount > self.current_balance:\n",
    "            self.current_balance = (self.current_balance - amount) - 20\n",
    "        else:\n",
    "            self.current_balance -= amount\n",
    "        print('New balance: {}'.format(self.current_balance))\n",
    "    def deposit(self, amount):\n",
    "        self.current_balance += amount\n",
    "        print('New balance: {}'.format(self.current_balance))\n",
    "\n",
    "start = 30        \n",
    "ca = CheckingAccount(30)\n",
    "assert(ca.current_balance == 30)\n",
    "print('Assert Successful')\n",
    "ca.withdraw(31)\n",
    "assert(ca.current_balance == -21)\n",
    "print('Assert Successful')"
   ]
  },
  {
   "cell_type": "code",
   "execution_count": null,
   "metadata": {},
   "outputs": [],
   "source": []
  },
  {
   "cell_type": "markdown",
   "metadata": {},
   "source": [
    "## Exercise 3\n",
    "\n",
    "Answer the following questions before running the code below:\n",
    "\n",
    "- What are the parent and child classes here?\n",
    "- What does the code print out?  (Try figuring it out without running itin Python)\n",
    "- Which get description method is called when ‘studyspell(Confundo())’ is executed?  Why?\n",
    "- What do we need to do so that ‘print(Accio())’ will print the appropriate description (‘This charm summons an object to the caster,potentially over a significant distance’)?  Change to code to do this."
   ]
  },
  {
   "cell_type": "code",
   "execution_count": 5,
   "metadata": {},
   "outputs": [],
   "source": [
    "class Spell:\n",
    "    name = ''\n",
    "    incantation = ''\n",
    "    \n",
    "    def __init__(self, incantation, name): # \"Accio\" and \"Summoning Charm\"\n",
    "        self.name = name\n",
    "        self.incantation = incantation\n",
    "        \n",
    "    def __str__(self):\n",
    "        return self.name + \" \" + self.incantation + \"\\n\" + self.get_description()\n",
    "    \n",
    "    def get_description(self):\n",
    "        return \"No description\"\n",
    "    \n",
    "    def execute(self):\n",
    "        print(self.incantation)\n",
    "        \n",
    "class Accio(Spell):\n",
    "    def __init__(self):\n",
    "        Spell.__init__(self, \"Accio\", \"Summoning Charm\")\n",
    "        \n",
    "    def get_description(self):\n",
    "        return 'This charm summons an object to the caster,potentially over a significant distance'\n",
    "        \n",
    "        \n",
    "class Confundo(Spell):\n",
    "    def __init__(self):\n",
    "        Spell.__init__(self, \"Confundo\", \"Confundus Charm\")\n",
    "        \n",
    "    def get_description(self):\n",
    "        return \"Causes the victim to become confused and befuddled.\"\n",
    "    \n",
    "def study_spell(spell):\n",
    "    print(spell)"
   ]
  },
  {
   "cell_type": "code",
   "execution_count": 6,
   "metadata": {},
   "outputs": [
    {
     "name": "stdout",
     "output_type": "stream",
     "text": [
      "Accio\n",
      "Summoning Charm Accio\n",
      "This charm summons an object to the caster,potentially over a significant distance\n",
      "Confundus Charm Confundo\n",
      "Causes the victim to become confused and befuddled.\n"
     ]
    }
   ],
   "source": [
    "# DO NOT RUN THIS CELL UNTIL YOU ANSWER THE QUESTIONS ABOVE!\n",
    "spell = Accio()\n",
    "spell.execute()\n",
    "study_spell(spell)\n",
    "study_spell(Confundo())"
   ]
  },
  {
   "cell_type": "markdown",
   "metadata": {},
   "source": [
    "PUT YOUR ANSWERS TO THE QUESTIONS HERE IN THIS MARKDOWN CELL\n",
    "- What are the parent and child classes here?\n",
    "Parent: Spell\n",
    "Child: Accio, Cunfundo\n",
    "- What does the code print out?  (Try figuring it out without running itin Python)\n",
    "Accio\n",
    "Accio\n",
    "Cunfundo\n",
    "Causes the victim to become confused and befuddled.\n",
    "- Which get description method is called when ‘studyspell(Confundo())’ is executed?  Why?\n",
    "def get_description(self):\n",
    "        return \"Causes the victim to become confused and befuddled.\"\n",
    "is being executed because it is overriding the parent class.\n",
    "- What do we need to do so that ‘print(Accio())’ will print the appropriate description (‘This charm summons an object to the caster,potentially over a significant distance’)?  Change to code to do this.\n",
    "Need to define a get_desc function within the Accio class to print the string"
   ]
  },
  {
   "cell_type": "markdown",
   "metadata": {},
   "source": [
    "## Exercise 4\n",
    "\n",
    "Expand on the Point class presented above by overloading the following operators:\n",
    "\n",
    "- Equality (== / \\_\\_eq\\_\\_) – Two points should be equal if all the values are equal (i.e., x in self is equal to x in other)\n",
    "    - This method should return either True or False\n",
    "- Greater than (> / \\_\\_gt\\_\\_) – One point is greater than another if the magnitude of self is greater than other.\n",
    "    - This method should return True or False.\n",
    "    - Calculate magnitude as $x^2+y^2$ (hint 1: self.x ** 2 hint 2: other.x ** 2)\n",
    "    \n",
    "Write a few test cases for your code (use assert)"
   ]
  },
  {
   "cell_type": "code",
   "execution_count": 15,
   "metadata": {},
   "outputs": [],
   "source": [
    "class Point:\n",
    "    def __init__(self, x=0, y=0):\n",
    "        self.x = x\n",
    "        self.y = y\n",
    "\n",
    "    def __str__(self):\n",
    "        return \"({0},{1})\".format(self.x, self.y)\n",
    "\n",
    "    def __add__(self, other):\n",
    "        x = self.x + other.x\n",
    "        y = self.y + other.y\n",
    "        return Point(x, y)\n",
    "\n",
    "    # WRITE CODE HERE\n",
    "    def __eq__(self, other):\n",
    "        x = self.x == other.x\n",
    "        y = self.y == other.y\n",
    "        if x == True and y == True:\n",
    "            return True\n",
    "        return False\n",
    "       \n",
    "    def __gt__(self,other):\n",
    "        self_magnitude = ((self.x ** 2) + (self.y ** 2)) \n",
    "        other_mag =  ((other.x ** 2) + (other.y ** 2))\n",
    "        if self_magnitude > other_mag:\n",
    "            return True\n",
    "        return False"
   ]
  },
  {
   "cell_type": "code",
   "execution_count": 17,
   "metadata": {},
   "outputs": [
    {
     "name": "stdout",
     "output_type": "stream",
     "text": [
      "True\n",
      "True\n"
     ]
    }
   ],
   "source": [
    "# WRITE TEST CODE HERE\n",
    "point1 = Point(5,5)\n",
    "point2 = Point(3,4)\n",
    "point3 = Point(5,5)\n",
    "print(point1 == point3)\n",
    "print(point1 > point2)"
   ]
  },
  {
   "cell_type": "code",
   "execution_count": null,
   "metadata": {},
   "outputs": [],
   "source": []
  }
 ],
 "metadata": {
  "kernelspec": {
   "display_name": "Python 3 (ipykernel)",
   "language": "python",
   "name": "python3"
  },
  "language_info": {
   "codemirror_mode": {
    "name": "ipython",
    "version": 3
   },
   "file_extension": ".py",
   "mimetype": "text/x-python",
   "name": "python",
   "nbconvert_exporter": "python",
   "pygments_lexer": "ipython3",
   "version": "3.11.4"
  }
 },
 "nbformat": 4,
 "nbformat_minor": 4
}
