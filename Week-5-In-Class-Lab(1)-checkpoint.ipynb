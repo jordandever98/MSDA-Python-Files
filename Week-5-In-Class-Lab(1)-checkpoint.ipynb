{
 "cells": [
  {
   "cell_type": "markdown",
   "id": "e5e69cd8-c93d-4c09-b18b-1d81e5c6d3ab",
   "metadata": {
    "tags": []
   },
   "source": [
    "# NOTES"
   ]
  },
  {
   "cell_type": "code",
   "execution_count": 21,
   "id": "565afcff-bf54-4f45-a898-d527a5864fe8",
   "metadata": {
    "tags": []
   },
   "outputs": [
    {
     "name": "stdout",
     "output_type": "stream",
     "text": [
      "user 1\n",
      "user 2\n",
      "blah\n"
     ]
    }
   ],
   "source": [
    "# General Questions\n",
    "my_File = open('blah.txt','w')\n",
    "my_File.seek(0,0)\n",
    "my_File.write('START')\n",
    "my_File.close()\n",
    "\n",
    "# relative path vs absolute path\n",
    "# absolute paths are bad if ur working with multiple people\n",
    "# because they need to change their paths to access the same material\n",
    "# think of the Orion Dataset for Tools and Tech\n",
    "\n",
    "# sets are useful for unique values especially from a for loop\n",
    "#list if you want potential dupes in a specific order\n",
    "#dictionary when we want to store key:value pairs\n",
    "users = {'user 1': '23424', 'user 2' : 24423}\n",
    "for user in users.keys():\n",
    "    print(user)\n",
    "# when creating functions, we don't want complex functions its better to\n",
    "# break them down into more simplistic terms\n",
    "# what is our variable, data type, how to do a conditional statement\n",
    "\n",
    "# Function definition\n",
    "def myFunc():\n",
    "    print('blah')\n",
    "myFunc()\n",
    "#once this function is created and processed into the background,\n",
    "# it is stored and can be called as long as kernel hasnt been reset\n",
    "#if we have big functions / constantly use them we import them like\n",
    "#a personal library\n",
    "\n",
    "#asserts return an error if your code is not working like intended"
   ]
  },
  {
   "cell_type": "code",
   "execution_count": 33,
   "id": "736f51a7-0754-4fc2-ad7a-324ac15fa2cc",
   "metadata": {
    "tags": []
   },
   "outputs": [
    {
     "name": "stdout",
     "output_type": "stream",
     "text": [
      "['User ID: 1']\n",
      "['Screen Name: PythonIsTheBest']\n",
      "['Real Name: John Doe']\n",
      "['Address: 1 UTSA Circle', ' San Antonio', ' TX 78249']\n",
      "['Bio: Pythons', ' i.e.', ' snakes', ' are my favorite animals']\n",
      "['Occupation: Snake Farmer']\n",
      "['Hobbies:']\n",
      "['    1. Bicycling']\n",
      "[]\n",
      "['User ID: 2']\n",
      "['Screen Name: RisTheBest']\n",
      "['Real Name: Jane Doe']\n",
      "['Address: 1 UTSA Circle', ' San Antonio', ' TX 78249']\n",
      "['Bio: R is my favorite letter.']\n",
      "['Hobbies:']\n",
      "['    1. Weightlifting']\n",
      "['    2. Cycling']\n",
      "['    3. Reading']\n"
     ]
    }
   ],
   "source": [
    "# CSV Files\n",
    "\n",
    "### Opening\n",
    "iFile = open('py_exercise_1a.csv')\n",
    "\n",
    "iCSV = csv.reader(iFile, delimiter = ',')\n",
    "header = next(iCSV)  # file pointer - uses first line and goes next to 2nd line\n",
    "print(header)\n",
    "for row in iCSV:\n",
    "    print(row)\n",
    "\n",
    "iFile.close()\n",
    "\n",
    "### Creating\n",
    "oFile = open('new-csv.csv','w')\n",
    "oCSV = csv.writer(oFile, delimiter = '|')\n",
    "\n",
    "person = ['Anthony', 'F', 'San Antonio']\n",
    "\n",
    "oCSV.writerow(person)\n",
    "\n",
    "oFile.close()"
   ]
  },
  {
   "cell_type": "code",
   "execution_count": 35,
   "id": "e5c26547-d04b-4309-9cb4-90803905b1f3",
   "metadata": {
    "tags": []
   },
   "outputs": [],
   "source": [
    "# JSON Files\n",
    "\n",
    "# Users\n",
    "# Name\n",
    "# Age or Grade\n",
    "# hobbies?\n",
    "\n",
    "import json\n",
    "\n",
    "user = {'name':'Anthony','grade':'A','hobbies':['h1','h2','h3']}\n",
    "\n",
    "oFile = open('newJSON.json','w')\n",
    "json.dump(user,oFile)\n",
    "oFile.close()\n",
    "## Opening\n",
    "\n",
    "## Creating\n",
    "\n",
    "## JSON Lines"
   ]
  },
  {
   "cell_type": "code",
   "execution_count": null,
   "id": "447359cd-ac5a-4912-8f50-5099cafd51a4",
   "metadata": {},
   "outputs": [],
   "source": [
    "# XML Files\n",
    "\n",
    "## Opening and Reading XML Files\n",
    "tree = ET.parse('example')\n",
    "\n",
    "root = tree.getroot()\n",
    "\n",
    "nodes = root.finall('./Student')\n",
    "for s in node:\n",
    "    print(s.find('Name').text)\n",
    "    print(s.find('Grade').get('probation')) # get attribute from xml\n",
    "## Creating XML Files\n",
    "### https://www.geeksforgeeks.org/create-xml-documents-using-python/"
   ]
  },
  {
   "cell_type": "markdown",
   "id": "33baa48f-31b0-43e8-81fd-c50e8138f330",
   "metadata": {},
   "source": [
    "# Exercise 1a\n",
    "\n",
    "Convert the following data into a csv file. \n",
    "\n",
    "```\n",
    "User ID: 1\n",
    "Screen Name: PythonIsTheBest\n",
    "Real Name: John Doe\n",
    "Address: 1 UTSA Circle, San Antonio, TX 78249\n",
    "Bio: Pythons, i.e., snakes, are my favorite animals\n",
    "Occupation: Snake Farmer\n",
    "Hobbies:\n",
    "    1. Bicycling\n",
    "\n",
    "User ID: 2\n",
    "Screen Name: RisTheBest\n",
    "Real Name: Jane Doe\n",
    "Address: 1 UTSA Circle, San Antonio, TX 78249\n",
    "Bio: R is my favorite letter.\n",
    "Hobbies:\n",
    "    1. Weightlifting\n",
    "    2. Cycling\n",
    "    3. Reading\n",
    "```\n",
    "\n",
    "\n",
    "**NOTE:** You can just open up any editor (e.g., Notepad or the Jupyter Lab text editor to create the file."
   ]
  },
  {
   "cell_type": "code",
   "execution_count": null,
   "id": "344142af-38de-47cd-a3e0-66ea01ef2ff0",
   "metadata": {},
   "outputs": [],
   "source": [
    "# No code needed for this exercise"
   ]
  },
  {
   "cell_type": "markdown",
   "id": "c4341720-0243-4f4f-8b14-f2b00d3ef01c",
   "metadata": {},
   "source": [
    "# Exercise 1b\n",
    "\n",
    "Using the csv file created in Exercise 1, write code read and print every line of the file (use the csv Python package)"
   ]
  },
  {
   "cell_type": "code",
   "execution_count": 17,
   "id": "fb7ef413-4acc-458f-9e58-9eb7e6b949bc",
   "metadata": {
    "tags": []
   },
   "outputs": [
    {
     "name": "stdout",
     "output_type": "stream",
     "text": [
      "['User ID: 1']\n",
      "['Screen Name: PythonIsTheBest']\n",
      "['Real Name: John Doe']\n",
      "['Address: 1 UTSA Circle', ' San Antonio', ' TX 78249']\n",
      "['Bio: Pythons', ' i.e.', ' snakes', ' are my favorite animals']\n",
      "['Occupation: Snake Farmer']\n",
      "['Hobbies:']\n",
      "['    1. Bicycling']\n",
      "[]\n",
      "['User ID: 2']\n",
      "['Screen Name: RisTheBest']\n",
      "['Real Name: Jane Doe']\n",
      "['Address: 1 UTSA Circle', ' San Antonio', ' TX 78249']\n",
      "['Bio: R is my favorite letter.']\n",
      "['Hobbies:']\n",
      "['    1. Weightlifting']\n",
      "['    2. Cycling']\n",
      "['    3. Reading']\n"
     ]
    }
   ],
   "source": [
    "import csv\n",
    "ex_1b = open('py_exercise_1a.csv')\n",
    "ex_read = csv.reader(ex_1b, delimiter=',')\n",
    "for line in ex_read:\n",
    "    print(line)\n",
    "ex_1b.close()"
   ]
  },
  {
   "cell_type": "markdown",
   "id": "cbfa4c23-fa49-4a74-9d55-ecfc60836b4b",
   "metadata": {},
   "source": [
    "# Exercise 2a\n",
    "\n",
    "Repeate Exericse 1a, however, for this exercise you will create a json file, not a csv file. Again, you can use any editor of your choice.\n",
    "\n",
    "Look at basic JSON syntax here: https://www.w3schools.com/js/js_json_datatypes.asp"
   ]
  },
  {
   "cell_type": "code",
   "execution_count": null,
   "id": "d15adf96-46be-4c43-86aa-eb4ccced29f7",
   "metadata": {},
   "outputs": [],
   "source": [
    "# NO CODE NEEDED HERE"
   ]
  },
  {
   "cell_type": "markdown",
   "id": "0d68236c-70e7-4f8d-b102-164309a2f8f5",
   "metadata": {},
   "source": [
    "# Exercise 2b\n",
    "\n",
    "Repeat Exercise 1b, however, for this exercise you will read the json file you created and print each of the elements."
   ]
  },
  {
   "cell_type": "code",
   "execution_count": 53,
   "id": "074c6ec5-c606-4a96-85b6-4dc97b15aba7",
   "metadata": {
    "tags": []
   },
   "outputs": [
    {
     "ename": "TypeError",
     "evalue": "Object of type TextIOWrapper is not JSON serializable",
     "output_type": "error",
     "traceback": [
      "\u001b[1;31m---------------------------------------------------------------------------\u001b[0m",
      "\u001b[1;31mTypeError\u001b[0m                                 Traceback (most recent call last)",
      "Cell \u001b[1;32mIn[53], line 3\u001b[0m\n\u001b[0;32m      1\u001b[0m \u001b[38;5;28;01mimport\u001b[39;00m \u001b[38;5;21;01mjson\u001b[39;00m\n\u001b[0;32m      2\u001b[0m ex_2b \u001b[38;5;241m=\u001b[39m \u001b[38;5;28mopen\u001b[39m(\u001b[38;5;124m'\u001b[39m\u001b[38;5;124mWeek5Ex.json\u001b[39m\u001b[38;5;124m'\u001b[39m)\n\u001b[1;32m----> 3\u001b[0m ex2JSON \u001b[38;5;241m=\u001b[39m json\u001b[38;5;241m.\u001b[39mdumps(ex_2b)\n\u001b[0;32m      6\u001b[0m ex_2b\u001b[38;5;241m.\u001b[39mclose()\n",
      "File \u001b[1;32m~\\anaconda3\\Lib\\json\\__init__.py:231\u001b[0m, in \u001b[0;36mdumps\u001b[1;34m(obj, skipkeys, ensure_ascii, check_circular, allow_nan, cls, indent, separators, default, sort_keys, **kw)\u001b[0m\n\u001b[0;32m    226\u001b[0m \u001b[38;5;66;03m# cached encoder\u001b[39;00m\n\u001b[0;32m    227\u001b[0m \u001b[38;5;28;01mif\u001b[39;00m (\u001b[38;5;129;01mnot\u001b[39;00m skipkeys \u001b[38;5;129;01mand\u001b[39;00m ensure_ascii \u001b[38;5;129;01mand\u001b[39;00m\n\u001b[0;32m    228\u001b[0m     check_circular \u001b[38;5;129;01mand\u001b[39;00m allow_nan \u001b[38;5;129;01mand\u001b[39;00m\n\u001b[0;32m    229\u001b[0m     \u001b[38;5;28mcls\u001b[39m \u001b[38;5;129;01mis\u001b[39;00m \u001b[38;5;28;01mNone\u001b[39;00m \u001b[38;5;129;01mand\u001b[39;00m indent \u001b[38;5;129;01mis\u001b[39;00m \u001b[38;5;28;01mNone\u001b[39;00m \u001b[38;5;129;01mand\u001b[39;00m separators \u001b[38;5;129;01mis\u001b[39;00m \u001b[38;5;28;01mNone\u001b[39;00m \u001b[38;5;129;01mand\u001b[39;00m\n\u001b[0;32m    230\u001b[0m     default \u001b[38;5;129;01mis\u001b[39;00m \u001b[38;5;28;01mNone\u001b[39;00m \u001b[38;5;129;01mand\u001b[39;00m \u001b[38;5;129;01mnot\u001b[39;00m sort_keys \u001b[38;5;129;01mand\u001b[39;00m \u001b[38;5;129;01mnot\u001b[39;00m kw):\n\u001b[1;32m--> 231\u001b[0m     \u001b[38;5;28;01mreturn\u001b[39;00m _default_encoder\u001b[38;5;241m.\u001b[39mencode(obj)\n\u001b[0;32m    232\u001b[0m \u001b[38;5;28;01mif\u001b[39;00m \u001b[38;5;28mcls\u001b[39m \u001b[38;5;129;01mis\u001b[39;00m \u001b[38;5;28;01mNone\u001b[39;00m:\n\u001b[0;32m    233\u001b[0m     \u001b[38;5;28mcls\u001b[39m \u001b[38;5;241m=\u001b[39m JSONEncoder\n",
      "File \u001b[1;32m~\\anaconda3\\Lib\\json\\encoder.py:200\u001b[0m, in \u001b[0;36mJSONEncoder.encode\u001b[1;34m(self, o)\u001b[0m\n\u001b[0;32m    196\u001b[0m         \u001b[38;5;28;01mreturn\u001b[39;00m encode_basestring(o)\n\u001b[0;32m    197\u001b[0m \u001b[38;5;66;03m# This doesn't pass the iterator directly to ''.join() because the\u001b[39;00m\n\u001b[0;32m    198\u001b[0m \u001b[38;5;66;03m# exceptions aren't as detailed.  The list call should be roughly\u001b[39;00m\n\u001b[0;32m    199\u001b[0m \u001b[38;5;66;03m# equivalent to the PySequence_Fast that ''.join() would do.\u001b[39;00m\n\u001b[1;32m--> 200\u001b[0m chunks \u001b[38;5;241m=\u001b[39m \u001b[38;5;28mself\u001b[39m\u001b[38;5;241m.\u001b[39miterencode(o, _one_shot\u001b[38;5;241m=\u001b[39m\u001b[38;5;28;01mTrue\u001b[39;00m)\n\u001b[0;32m    201\u001b[0m \u001b[38;5;28;01mif\u001b[39;00m \u001b[38;5;129;01mnot\u001b[39;00m \u001b[38;5;28misinstance\u001b[39m(chunks, (\u001b[38;5;28mlist\u001b[39m, \u001b[38;5;28mtuple\u001b[39m)):\n\u001b[0;32m    202\u001b[0m     chunks \u001b[38;5;241m=\u001b[39m \u001b[38;5;28mlist\u001b[39m(chunks)\n",
      "File \u001b[1;32m~\\anaconda3\\Lib\\json\\encoder.py:258\u001b[0m, in \u001b[0;36mJSONEncoder.iterencode\u001b[1;34m(self, o, _one_shot)\u001b[0m\n\u001b[0;32m    253\u001b[0m \u001b[38;5;28;01melse\u001b[39;00m:\n\u001b[0;32m    254\u001b[0m     _iterencode \u001b[38;5;241m=\u001b[39m _make_iterencode(\n\u001b[0;32m    255\u001b[0m         markers, \u001b[38;5;28mself\u001b[39m\u001b[38;5;241m.\u001b[39mdefault, _encoder, \u001b[38;5;28mself\u001b[39m\u001b[38;5;241m.\u001b[39mindent, floatstr,\n\u001b[0;32m    256\u001b[0m         \u001b[38;5;28mself\u001b[39m\u001b[38;5;241m.\u001b[39mkey_separator, \u001b[38;5;28mself\u001b[39m\u001b[38;5;241m.\u001b[39mitem_separator, \u001b[38;5;28mself\u001b[39m\u001b[38;5;241m.\u001b[39msort_keys,\n\u001b[0;32m    257\u001b[0m         \u001b[38;5;28mself\u001b[39m\u001b[38;5;241m.\u001b[39mskipkeys, _one_shot)\n\u001b[1;32m--> 258\u001b[0m \u001b[38;5;28;01mreturn\u001b[39;00m _iterencode(o, \u001b[38;5;241m0\u001b[39m)\n",
      "File \u001b[1;32m~\\anaconda3\\Lib\\json\\encoder.py:180\u001b[0m, in \u001b[0;36mJSONEncoder.default\u001b[1;34m(self, o)\u001b[0m\n\u001b[0;32m    161\u001b[0m \u001b[38;5;28;01mdef\u001b[39;00m \u001b[38;5;21mdefault\u001b[39m(\u001b[38;5;28mself\u001b[39m, o):\n\u001b[0;32m    162\u001b[0m \u001b[38;5;250m    \u001b[39m\u001b[38;5;124;03m\"\"\"Implement this method in a subclass such that it returns\u001b[39;00m\n\u001b[0;32m    163\u001b[0m \u001b[38;5;124;03m    a serializable object for ``o``, or calls the base implementation\u001b[39;00m\n\u001b[0;32m    164\u001b[0m \u001b[38;5;124;03m    (to raise a ``TypeError``).\u001b[39;00m\n\u001b[1;32m   (...)\u001b[0m\n\u001b[0;32m    178\u001b[0m \n\u001b[0;32m    179\u001b[0m \u001b[38;5;124;03m    \"\"\"\u001b[39;00m\n\u001b[1;32m--> 180\u001b[0m     \u001b[38;5;28;01mraise\u001b[39;00m \u001b[38;5;167;01mTypeError\u001b[39;00m(\u001b[38;5;124mf\u001b[39m\u001b[38;5;124m'\u001b[39m\u001b[38;5;124mObject of type \u001b[39m\u001b[38;5;132;01m{\u001b[39;00mo\u001b[38;5;241m.\u001b[39m\u001b[38;5;18m__class__\u001b[39m\u001b[38;5;241m.\u001b[39m\u001b[38;5;18m__name__\u001b[39m\u001b[38;5;132;01m}\u001b[39;00m\u001b[38;5;124m \u001b[39m\u001b[38;5;124m'\u001b[39m\n\u001b[0;32m    181\u001b[0m                     \u001b[38;5;124mf\u001b[39m\u001b[38;5;124m'\u001b[39m\u001b[38;5;124mis not JSON serializable\u001b[39m\u001b[38;5;124m'\u001b[39m)\n",
      "\u001b[1;31mTypeError\u001b[0m: Object of type TextIOWrapper is not JSON serializable"
     ]
    }
   ],
   "source": [
    "import json\n",
    "ex_2b = open('Week5Ex.json')\n",
    "ex2JSON = json.dump(ex_2b)\n",
    "\n",
    "\n",
    "ex_2b.close()\n",
    "# Reminders\n",
    "#   json.reads(stringHere) <- reads a json file from a string\n",
    "#   json.dumps(list_or_dict_here) <- converts a dictionary or list to a json string\n",
    "#   json.read(file_handle_here) <- reads a json file from a file handle\n",
    "#   json.dump(list_or_dict_here, file_handle_here) <- converts a dictionary or list to a json string"
   ]
  },
  {
   "cell_type": "markdown",
   "id": "3a5e06a1-a163-4df7-bab8-999c2bb3de12",
   "metadata": {},
   "source": [
    "# Exercise 3a\n",
    "\n",
    "Again, repeate the previous 1a/2a exercise, but this time create an XML file that represents the data. You can use any text editor of your choice."
   ]
  },
  {
   "cell_type": "code",
   "execution_count": null,
   "id": "6f18d787-16aa-403d-9ccf-c5bf6aa564a9",
   "metadata": {},
   "outputs": [],
   "source": [
    "# NO CODE NEEDED HERE"
   ]
  },
  {
   "cell_type": "markdown",
   "id": "df6bb24b-b9dc-46fd-bb29-5da324fc475b",
   "metadata": {},
   "source": [
    "# Exercise 3b\n",
    "\n",
    "Now read the XML file you created!\n",
    "\n",
    "**HINT:** References are your friend. Nobody remembers all the XML commands :)."
   ]
  },
  {
   "cell_type": "code",
   "execution_count": 45,
   "id": "2728f64b-f73b-42c8-a884-ff2251b6eac1",
   "metadata": {
    "tags": []
   },
   "outputs": [
    {
     "ename": "ParseError",
     "evalue": "syntax error: line 1, column 0 (<string>)",
     "output_type": "error",
     "traceback": [
      "Traceback \u001b[1;36m(most recent call last)\u001b[0m:\n",
      "\u001b[0m  File \u001b[0;32m~\\anaconda3\\Lib\\site-packages\\IPython\\core\\interactiveshell.py:3505\u001b[0m in \u001b[0;35mrun_code\u001b[0m\n    exec(code_obj, self.user_global_ns, self.user_ns)\u001b[0m\n",
      "\u001b[0m  Cell \u001b[0;32mIn[45], line 5\u001b[0m\n    xml_data = ET.parse(xml_ex)\u001b[0m\n",
      "\u001b[0m  File \u001b[0;32m~\\anaconda3\\Lib\\xml\\etree\\ElementTree.py:1218\u001b[0m in \u001b[0;35mparse\u001b[0m\n    tree.parse(source, parser)\u001b[0m\n",
      "\u001b[1;36m  File \u001b[1;32m~\\anaconda3\\Lib\\xml\\etree\\ElementTree.py:580\u001b[1;36m in \u001b[1;35mparse\u001b[1;36m\n\u001b[1;33m    self._root = parser._parse_whole(source)\u001b[1;36m\n",
      "\u001b[1;36m  File \u001b[1;32m<string>\u001b[1;36m\u001b[0m\n\u001b[1;31mParseError\u001b[0m\u001b[1;31m:\u001b[0m syntax error: line 1, column 0\n"
     ]
    }
   ],
   "source": [
    "import xml.etree.ElementTree as ET\n",
    "xml_ex = open('py_exercise_1a.xml')\n",
    "#in_xml_ex = xml_ex.read()\n",
    "#data = ET.fromstring(in_xml_ex)\n",
    "xml_data = ET.parse(xml_ex)\n",
    "xml_ex.close()\n",
    "\n",
    "# Reminders:\n",
    "# data = ET.fromstring(data) <- reads XML data as a string and converts to etree object\n",
    "# text_of_node = tree.find(\"nodeName\").text  <- Gets text in a node, e.g., <nodeHere>TEXT</nodeHere>\n",
    "# nodes = tree.findall(\"nodeNames\") <- returns a list/iterator of all nodes of type \"nodeNames\"\n",
    "# attribute = node.get(\"attributeName\") <- returns the value of a node's attribute called attributeName"
   ]
  },
  {
   "cell_type": "code",
   "execution_count": null,
   "id": "0c9d93bc-e6cd-4b0e-af95-7db2be11bcee",
   "metadata": {},
   "outputs": [],
   "source": []
  }
 ],
 "metadata": {
  "kernelspec": {
   "display_name": "Python 3 (ipykernel)",
   "language": "python",
   "name": "python3"
  },
  "language_info": {
   "codemirror_mode": {
    "name": "ipython",
    "version": 3
   },
   "file_extension": ".py",
   "mimetype": "text/x-python",
   "name": "python",
   "nbconvert_exporter": "python",
   "pygments_lexer": "ipython3",
   "version": "3.11.4"
  }
 },
 "nbformat": 4,
 "nbformat_minor": 5
}
