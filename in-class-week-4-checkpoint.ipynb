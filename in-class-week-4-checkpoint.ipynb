{
 "cells": [
  {
   "cell_type": "markdown",
   "id": "3c445dc4-5f04-4e30-ace7-4b7012b0b24b",
   "metadata": {},
   "source": [
    "# NOTES"
   ]
  },
  {
   "cell_type": "code",
   "execution_count": 22,
   "id": "01ad4497-69e3-4484-a10a-3fb7f3c9129d",
   "metadata": {
    "tags": []
   },
   "outputs": [
    {
     "name": "stdout",
     "output_type": "stream",
     "text": [
      "A A\n",
      "B B\n",
      "A A\n",
      "B B\n"
     ]
    }
   ],
   "source": [
    "#dictionary review\n",
    "#Nested dictionary is a dictionary where the values are also dictionaries\n",
    "nest = {'A':{'A': 1, 'B': 1}, 'B' : {'A': 0, 'B' : 0}}\n",
    "\n",
    "for k,v in nest.items():\n",
    "        for k1, v1 in v.items():\n",
    "            print(k1,k1)"
   ]
  },
  {
   "cell_type": "code",
   "execution_count": 23,
   "id": "97c4d955-85b0-4fe5-aa99-c424c1e1458a",
   "metadata": {
    "tags": []
   },
   "outputs": [
    {
     "name": "stdout",
     "output_type": "stream",
     "text": [
      "1\n",
      "1\n",
      "0\n",
      "0\n"
     ]
    }
   ],
   "source": [
    "for x in 'AB':\n",
    "    for y in 'AB':\n",
    "        print(nest[x][y])"
   ]
  },
  {
   "cell_type": "code",
   "execution_count": 27,
   "id": "a737f085-1e46-4d70-aa49-7d632260ec1f",
   "metadata": {
    "tags": []
   },
   "outputs": [
    {
     "name": "stdout",
     "output_type": "stream",
     "text": [
      "1\n",
      "2\n",
      "3\n",
      "3\n"
     ]
    }
   ],
   "source": [
    "# a boolean expression can be incorrect if it outputs the wrong answer than intended\n",
    "\n",
    "#for loop - predefined # of times or looping over something\n",
    "myList = [1,2,3]\n",
    "index = 0\n",
    "while index < len(myList):\n",
    "    print(myList[index])\n",
    "    index += 1\n",
    "#while loop - if # of times you want to iterate is unknown beforehand  \n",
    "print(len(myList))\n",
    "# try except is not worth using unless you are trying to catch errors\n",
    "# not recommended in boolean code, just use if statements"
   ]
  },
  {
   "cell_type": "code",
   "execution_count": 36,
   "id": "22dea71b-5e3d-4e34-9fcc-cecccb1b9a63",
   "metadata": {
    "tags": []
   },
   "outputs": [
    {
     "name": "stdout",
     "output_type": "stream",
     "text": [
      "Hello World!\n",
      "4\n"
     ]
    }
   ],
   "source": [
    "# Functions\n",
    "\n",
    "## Function definitions\n",
    "def myFunc(): # function definition\n",
    "    print('Hello World!')\n",
    "myFunc()\n",
    "\n",
    "#len() # is another function\n",
    "## Function Parameters\n",
    "\n",
    "def getSize(myObj):\n",
    "    cnt = 0\n",
    "    for x in myObj:\n",
    "        cnt += 1\n",
    "    return cnt\n",
    "#Void functions are funcs missing the return\n",
    "\n",
    "x = getSize([1,1,2,3])\n",
    "print(x)\n",
    "\n",
    "#What should be the function input and function output?\n",
    "\n",
    "## Extra: Default Parameters\n",
    "# We can set a default parameter in a function by doing\n",
    "# myFunc(x, y = 100) and would default y as 100"
   ]
  },
  {
   "cell_type": "code",
   "execution_count": 41,
   "id": "79ac4eb4-e6e0-419b-9d16-e77b75184b70",
   "metadata": {
    "tags": []
   },
   "outputs": [
    {
     "name": "stdout",
     "output_type": "stream",
     "text": [
      "Done\n"
     ]
    }
   ],
   "source": [
    "# Asserts\n",
    "#assert() # A function that takes a boolean as input and returns an ERROR if it is false\n",
    "# If a parameter should always be an integer, we could put an asseert to make sure it is an int\n",
    "\n",
    "# Value > 50\n",
    "x = 65\n",
    "assert(x > 50)\n",
    "print('Done')"
   ]
  },
  {
   "cell_type": "code",
   "execution_count": 45,
   "id": "68d00b48-968c-4613-905b-fafbf89ae0e2",
   "metadata": {
    "tags": []
   },
   "outputs": [
    {
     "name": "stdout",
     "output_type": "stream",
     "text": [
      "42\n",
      "18\n",
      "22\n",
      "18\n",
      "SUM: 100\n"
     ]
    }
   ],
   "source": [
    "# Reading Files\n",
    "\n",
    "#Open file, do stuff, then close file\n",
    "\n",
    "myFile = open('numbers.txt')\n",
    "for line in myFile:\n",
    "    fixed_line = line.strip() #remove blank characters '\\n' from left and right sides of the variable line\n",
    "    print(fixed_line)\n",
    "myFile.close()"
   ]
  },
  {
   "cell_type": "code",
   "execution_count": 47,
   "id": "6f6ffb64-48c1-4250-a3b3-42c3bb47607f",
   "metadata": {
    "tags": []
   },
   "outputs": [],
   "source": [
    "# Writing Files\n",
    "\n",
    "outFile = open('new_file.txt','w')\n",
    "outFile.write('Blah\\n')\n",
    "outFile.write('BLAH2\\n')\n",
    "outFile.write('BLAH3\\n')\n",
    "outFile.close()"
   ]
  },
  {
   "cell_type": "code",
   "execution_count": 48,
   "id": "3a3201f2-c679-47a4-bd7b-3ccc3636c33a",
   "metadata": {
    "tags": []
   },
   "outputs": [],
   "source": [
    "# Appending to Files\n",
    "appFile = open('new_file.txt','a') # 'newfile.txt', encoding = 'cp1252'\n",
    "appFile.write('123')\n",
    "appFile.close()\n",
    "# we can't loop over this file because we are in append mode, we would need to reopen in read or do 'a+' to be able to read it"
   ]
  },
  {
   "cell_type": "code",
   "execution_count": 49,
   "id": "d2ff3b2d-812a-47a4-bd8d-c816a3d7b324",
   "metadata": {
    "tags": []
   },
   "outputs": [
    {
     "name": "stdout",
     "output_type": "stream",
     "text": [
      "cp1252\n"
     ]
    }
   ],
   "source": [
    "# Encodings\n",
    "\n",
    "## Get encoding local machine: .getpreferredencoding()\n",
    "\n",
    "import locale\n",
    "\n",
    "print(locale.getpreferredencoding())\n",
    "\n",
    "##  .isascii() ✔️\n",
    "\n",
    "## Files and encodings"
   ]
  },
  {
   "cell_type": "code",
   "execution_count": 54,
   "id": "c0ceb9d7-e206-40fe-93e9-401e3fcce552",
   "metadata": {
    "tags": []
   },
   "outputs": [
    {
     "name": "stdout",
     "output_type": "stream",
     "text": [
      "{1, 2, 3}\n",
      "{2, 3}\n"
     ]
    },
    {
     "data": {
      "text/plain": [
       "{1, 2, 3, 4}"
      ]
     },
     "execution_count": 54,
     "metadata": {},
     "output_type": "execute_result"
    }
   ],
   "source": [
    "# Sets\n",
    "\n",
    "# Set is like a dict w/out 'values' - keys only\n",
    "\n",
    "## Creating Sets\n",
    "mySet = set()\n",
    "\n",
    "mySet.add(1)\n",
    "mySet.add(2)\n",
    "mySet.add(3)\n",
    "mySet.add(1)\n",
    "\n",
    "print(mySet) # look up and store unique values\n",
    "\n",
    "myList = set([1,2,3,4])\n",
    "#hashing\n",
    "hash('abc')\n",
    "#5 in myList\n",
    "\n",
    "## Adding items to sets\n",
    "\n",
    "## Removing items from sets\n",
    "mySet.remove(1)\n",
    "print(mySet)\n",
    "\n",
    "## Union\n",
    "a= set([1,2,3])\n",
    "b= set([2,3,4])\n",
    "a.union(b)\n",
    "## Intersection\n",
    "\n"
   ]
  },
  {
   "cell_type": "markdown",
   "id": "f781180b-327b-4e1e-840c-7ebebcd592e1",
   "metadata": {},
   "source": [
    "# Exercise 1\n",
    "\n",
    "Write a function that returns that calculates the mean squared error between two lists of numbers:\n",
    "\n",
    "$error = \\frac{1}{N} \\sum_{i=1}^N (x_i - y_i)^2$\n",
    "\n",
    "**HINT:** You can loop over the items in x and y using \"for x1, y1 in zip(x,y):\" or using an index with \"for i in range(len(x))\"---we will assume x and y are the same size."
   ]
  },
  {
   "cell_type": "code",
   "execution_count": null,
   "id": "a368ef7f-c1f8-4b6d-a18c-715d76860f58",
   "metadata": {},
   "outputs": [],
   "source": [
    "    \"\"\"\n",
    "        Returns the mean squared error between x and y\n",
    "    \n",
    "        parameters:\n",
    "            x list: x is a list of numbers, e.g., [1,2,3]\n",
    "            y list: y is a list of numbers, e.g., [3,4,5]\n",
    "\n",
    "        return float: A number should be returned\n",
    "    \"\"\"\n",
    "    for i in range(len(x)):\n",
    "    calc = 1/\n",
    "    \n",
    "    \n",
    "    \n",
    "    calc = 0\n",
    "N = 0\n",
    "def mse(x, y):\n",
    "    for xi, yi in zip(x,y): # (x[0], y[0]), \n",
    "        calc +=  (x1 - y1) ** 2\n",
    "        N += 1\n",
    "    return float(calc/N)"
   ]
  },
  {
   "cell_type": "code",
   "execution_count": 76,
   "id": "98cae7e2-01b2-432e-b052-adb309b80380",
   "metadata": {
    "tags": []
   },
   "outputs": [],
   "source": [
    "\n",
    "calc = 0\n",
    "def mse(x, y):\n",
    "    for x1, y1 in zip(x,y): # (x[0], y[0]), \n",
    "        calc = 1/(len(x)) * (x1 - y1) ** 2\n",
    "    return float(calc)"
   ]
  },
  {
   "cell_type": "code",
   "execution_count": null,
   "id": "ae603b9d-1771-4df7-a1fa-54c0419d72c3",
   "metadata": {
    "tags": []
   },
   "outputs": [],
   "source": [
    "vec1 = [1,2,3]\n",
    "vec2 = [3,4,5]\n",
    "error = mse(vec1, vec2)\n",
    "\n",
    "print(error)"
   ]
  },
  {
   "cell_type": "markdown",
   "id": "9802ce18-4d6e-4996-ada1-c3c84bf94c1e",
   "metadata": {},
   "source": [
    "# Exercise 2\n",
    "\n",
    "Loop over the book (file) \"alice_in_wonderland.txt\" and write code to answer the following questions:\n",
    "1. How many words are in the file?\n",
    "    - HINT: You can use .strip() to split each line into a list of words. Then, you can count each item in the list as a word.\n",
    "2. How many unique words are in the file (with and without lowercasing all words, i.e., you will get two counts here)?\n",
    "    - HINT: Create a set of words that you will use to store unique words, then you can take the len() of the set after looping over the entire file.\n",
    "3. How many chapters are in the file? Write code to check this :) \n",
    "    - HINT: Check for \"CHAPTERS \" \n",
    "\n",
    "**TIME:** 10 Minutes"
   ]
  },
  {
   "cell_type": "code",
   "execution_count": 65,
   "id": "bc7d8750-c786-43da-94cd-9129cf1f11b9",
   "metadata": {
    "tags": []
   },
   "outputs": [
    {
     "name": "stdout",
     "output_type": "stream",
     "text": [
      "0\n"
     ]
    }
   ],
   "source": [
    "# WRITE CODE HERE\n",
    "AIW = open(\"alice_in_wonderland.txt\")\n",
    "entireAIW = AIW.read()\n",
    "AIW.close()\n",
    "words = entireAIW.split()\n",
    "print(words[:10])\n",
    "print(len(words))\n",
    "\n",
    "\n",
    "wordSet = set(words)\n",
    "print(len(words))\n",
    "\n",
    "\n",
    "count = 0\n",
    "for line in AIW:\n",
    "    AIW_lines = AIW.strip()\n",
    "    AIW_words = AIW_lines.split(' ')\n",
    "    for word in AIW_words:\n",
    "        count += 1\n",
    "print(count)    \n",
    "AIW.close()"
   ]
  },
  {
   "cell_type": "code",
   "execution_count": 80,
   "id": "04ce1411-3800-4c83-8e4a-4c4732892d97",
   "metadata": {
    "tags": []
   },
   "outputs": [
    {
     "name": "stdout",
     "output_type": "stream",
     "text": [
      "0\n"
     ]
    }
   ],
   "source": [
    "myFile = open(\"alice_in_wonderland.txt\")\n",
    "entireFile = myFile.read()\n",
    "words = entireFile.lower().split()\n",
    "wordSet = set(words)\n",
    "print(len(words))\n",
    "myFile.close()"
   ]
  },
  {
   "cell_type": "code",
   "execution_count": 62,
   "id": "4f28dee6-3481-4f40-895f-a6d79c0d2eee",
   "metadata": {
    "tags": []
   },
   "outputs": [],
   "source": [
    "AIW.close()"
   ]
  },
  {
   "cell_type": "markdown",
   "id": "55e571b7-0b00-4aae-824f-5e61dd362e22",
   "metadata": {
    "tags": []
   },
   "source": [
    "# Exercise 3\n",
    "\n",
    "Lets make the book Alice in Wonderland more interesting. Specifically, lets create a new file call \"anthony_in_wonderland.txt\". We are going to loop over with the following exceptions:\n",
    "\n",
    "1. For every occurrence of the word \"Alice\", replace it with \"Anthony\".\n",
    "    - The basic code construct would be to loop over alice_in_wonderland.txt line-by-line, where you read a line as a string, replace the associated text, then write it to the new file.\n",
    "2. For every occurrence of the word \"rabbit-hole\", replace it with \"burning hole of fire\".\n",
    "3. For the book to be \"cool\", it needs fewer chapters. Only write Chapter 1 to the file \"anthony_in_wonderland.txt\".\n",
    "    - HINT: You can use \"break\" to exit the loop over each line in alice_in_wonderland.txt.\n",
    "    - HINT 2: Check for \"CHAPTER II\"\n",
    "\n",
    "**TIME:** 10 minutes"
   ]
  },
  {
   "cell_type": "code",
   "execution_count": null,
   "id": "cd92d4dd-5497-4929-b4a0-c3fc17b44eda",
   "metadata": {},
   "outputs": [],
   "source": [
    "# WRITE CODE HERE"
   ]
  },
  {
   "cell_type": "markdown",
   "id": "327a2266-2f5f-4ff0-888d-069fb04760c4",
   "metadata": {},
   "source": [
    "# Exercise 4 (EXTRA: If time allows)\n",
    "\n",
    "Im the file alice_in_wonderland.txt, we are going to count the following for each chapter:\n",
    "1. Total number of words (i.e., write code to create a dictionary where each key is a chapter). For example, \"Chapter 1\" and the value is the total number of words in the chapter)\n",
    "2. Count the times that the word 'tea' appears within the text. Store that count in the dictionary total_tea.\n",
    "\n",
    "**GOAL:** Using \"switches\" is a common programming pattern for file io in many data processing tasks. We will explore that here to \"switch\" between chapters\n",
    "\n",
    "**TIME:** 15 minutes"
   ]
  },
  {
   "cell_type": "code",
   "execution_count": null,
   "id": "da947bba-8b30-434b-a4a1-a80387deb989",
   "metadata": {},
   "outputs": [],
   "source": [
    "total_words = {}\n",
    "total_tea = {}\n",
    "current_chapter = None # This is the \"switch\" to tell us which chapter we are in\n",
    "cur_word_total = 0\n",
    "cur_tea_total = 0\n",
    "with open('alice_in_wonderland.txt') as iFile:\n",
    "    for row in iFile:\n",
    "        if \"CHAPTER \" in row:\n",
    "            if current_chapter is not None: # The switch changed, so store totals and set to 0 for next chapter\n",
    "                total_words[current_chapter] = cur_word_total\n",
    "                total_tea[current_chapter] = cur_tea_total\n",
    "                cur_word_total = 0\n",
    "                cur_tea_total = 0\n",
    "                current_chapter = row.strip()\n",
    "            else: # Special case for \"CHAPTER I\"\n",
    "                current_chapter = row.strip()\n",
    "        else:\n",
    "            ############################################################\n",
    "\n",
    "            # 1. Add total count of words in current line to cur_word_total\n",
    "            # 2. Add # times \"tea\" appears to cur_tea_total\n",
    "            \n",
    "            # WRITE CODE HERE\n",
    "            pass # You can replace this line of code when you start adding your own\n",
    "            ############################################################\n",
    "\n",
    "\n",
    "total_words[current_chapter] = cur_word_total # This makes sure we store the counts for the last chapter\n",
    "total_tea[current_chapter] = cur_tea_total"
   ]
  },
  {
   "cell_type": "code",
   "execution_count": null,
   "id": "7bd41ddc-e9f0-4c73-87c8-2ce616e640fb",
   "metadata": {},
   "outputs": [],
   "source": [
    "# DO NOT MODIFY THIS CELL\n",
    "\n",
    "chapters =['CHAPTER I', 'CHAPTER II', 'CHAPTER III', 'CHAPTER IV', 'CHAPTER V',\n",
    " 'CHAPTER VI', 'CHAPTER VII', 'CHAPTER VIII', 'CHAPTER IX', 'CHAPTER X',\n",
    " 'CHAPTER XI', 'CHAPTER XII']\n",
    "\n",
    "prob_data = []\n",
    "for c in chapters:\n",
    "    prob_data.append(total_tea[c]/total_words[c])"
   ]
  },
  {
   "cell_type": "code",
   "execution_count": null,
   "id": "a91958f2-ceb0-4dfb-b652-0abb370f50e1",
   "metadata": {},
   "outputs": [],
   "source": [
    "%matplotlib inline\n",
    "\n",
    "# DO NOTE EDIT THE CODE IN THIS CELL\n",
    "\n",
    "import matplotlib.pyplot as plt\n",
    "\n",
    "plt.plot(chapters, prob_data)\n",
    "plt.title('Mentions of tea')\n",
    "plt.xlabel('Chapter')\n",
    "plt.ylabel('P(\"tea\")')\n",
    "plt.xticks(rotation = 45)\n",
    "plt.show()"
   ]
  }
 ],
 "metadata": {
  "kernelspec": {
   "display_name": "Python 3 (ipykernel)",
   "language": "python",
   "name": "python3"
  },
  "language_info": {
   "codemirror_mode": {
    "name": "ipython",
    "version": 3
   },
   "file_extension": ".py",
   "mimetype": "text/x-python",
   "name": "python",
   "nbconvert_exporter": "python",
   "pygments_lexer": "ipython3",
   "version": "3.11.4"
  }
 },
 "nbformat": 4,
 "nbformat_minor": 5
}
