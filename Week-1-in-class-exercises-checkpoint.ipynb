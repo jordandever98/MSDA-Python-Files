{
 "cells": [
  {
   "cell_type": "markdown",
   "id": "bd0bea9b-560f-48ba-9c4f-9584054674a8",
   "metadata": {},
   "source": [
    "# NOTES"
   ]
  },
  {
   "cell_type": "code",
   "execution_count": 6,
   "id": "69d58944-ec57-4b1c-8618-c4b263087c16",
   "metadata": {},
   "outputs": [],
   "source": [
    "# Data types\n",
    "\n",
    "## Integers\n",
    "\n",
    "## Floats"
   ]
  },
  {
   "cell_type": "code",
   "execution_count": 15,
   "id": "9effb04a-a0f9-4db3-941f-b3c48e0da0e3",
   "metadata": {
    "tags": []
   },
   "outputs": [
    {
     "name": "stdout",
     "output_type": "stream",
     "text": [
      "20.22 30.000 10.535\n",
      "10.54 20.2245 30\n"
     ]
    }
   ],
   "source": [
    "# Print Statements\n",
    "var1 = 10.535\n",
    "var2 =20.2245\n",
    "var3 = 30\n",
    "print('{1:.2f} {2:.3f} {0}'.format(var1, var2, var3))\n",
    "\n",
    "print(f\"{round(var1,2)} {var2} {var3}\")"
   ]
  },
  {
   "cell_type": "code",
   "execution_count": 1,
   "id": "60043e24-e946-49d7-a89c-eb0891c823a1",
   "metadata": {},
   "outputs": [],
   "source": [
    "# Boolean expressions\n",
    "# and, not, or\n",
    "# !=, == , <=, >=, <, > "
   ]
  },
  {
   "cell_type": "code",
   "execution_count": 2,
   "id": "e82adb3f-7eb3-4611-8751-530490cb33be",
   "metadata": {},
   "outputs": [],
   "source": [
    "# If Statements"
   ]
  },
  {
   "cell_type": "code",
   "execution_count": 21,
   "id": "74b8514c-0514-4012-a604-b0812c3e77c1",
   "metadata": {
    "tags": []
   },
   "outputs": [
    {
     "name": "stdout",
     "output_type": "stream",
     "text": [
      "True\n",
      "False\n",
      "ABC\n",
      "True\n",
      "hello\n"
     ]
    }
   ],
   "source": [
    "# Strings\n",
    "\n",
    "# Splitting a string\n",
    "\n",
    "# Substrings\n",
    "\n",
    "# Check if alpha\n",
    "newString = 'abc'\n",
    "print(newString.isalpha())\n",
    "# Check if numeric\n",
    "print(newString.isnumeric())\n",
    "# Check if upper/lower\n",
    "print(newString.upper())\n",
    "cap = \"HELLO\"\n",
    "print(cap.isupper())\n",
    "print(cap.lower())\n",
    "# Convert to uppler/lower"
   ]
  },
  {
   "cell_type": "markdown",
   "id": "af66533c-08ff-41cd-b70e-c584e87bc9cf",
   "metadata": {},
   "source": [
    "# In Class Exercises\n",
    "\n",
    "We will work through a few more examples in class today which will be helpful for the homework and better understanding the concepts.\n",
    "\n",
    "Work in groups for the following exercises (2-4 people). Someone should be the designated \"driver\" by downloading the in-class lab assignment, sharing their screen, and help facilitating discussion among everyone on the team to solve the problem. You can choose who is the driver in your group among yourself. Also, we will work through one problem, then we will come back together and discuss before moving on to the next one."
   ]
  },
  {
   "cell_type": "markdown",
   "id": "2d1067e0-2d63-459f-b3aa-d4293ef08d7f",
   "metadata": {},
   "source": [
    "## Exercise 1 (10 minutes)\n",
    "\n",
    "Download the in-class lab notebook on Canvas. You can find it in the Week 2 folder.\n",
    "\n",
    "Write code to calculate and print the following formulas\n",
    "\n",
    "1. $y = x + 1$\n",
    "2. $y = 3x + 2x + x + 1$\n",
    "3. $y = 6x^2+3x+2$\n",
    "4. $y = \\frac{1}{2} x^3$"
   ]
  },
  {
   "cell_type": "code",
   "execution_count": 6,
   "id": "18a0566f-ff75-4f08-86e5-7306b39d2df6",
   "metadata": {
    "tags": []
   },
   "outputs": [
    {
     "name": "stdout",
     "output_type": "stream",
     "text": [
      "3\n",
      "13\n",
      "32\n",
      "4.0\n"
     ]
    }
   ],
   "source": [
    "x = 2 \n",
    "# You can try different x values.\n",
    "# Write code here\n",
    "y1 = x + 1\n",
    "y2 = 3*x + 2*x + x + 1\n",
    "y3 = 6*x**2 + 3*x + 2\n",
    "y4 = 0.5*x**3\n",
    "print(y1)\n",
    "print(y2)\n",
    "print(y3)\n",
    "print(y4)"
   ]
  },
  {
   "cell_type": "markdown",
   "id": "2e6de8bb-dde0-4185-a108-842989a50b84",
   "metadata": {},
   "source": [
    "## Exercise 2 (10 minutes)\n",
    "\n",
    "Write code that will print \"U...T...S...A\" if the variable \"number\" is **greater** than 50 **and** even (e.g., 52). If the variable \"number\" is **less** than 50 **and** odd (e.g., 31), then print \"UTSA\". If the variable is less than 50 and even **or** greater than 50 and odd, then print \"San Anotnio\".\n",
    "\n",
    "Tip: You can change the value currently assigned to the variable number to check your code."
   ]
  },
  {
   "cell_type": "code",
   "execution_count": 7,
   "id": "e81819ac-55ff-4047-98c8-1d4fd163d460",
   "metadata": {
    "tags": []
   },
   "outputs": [
    {
     "name": "stdout",
     "output_type": "stream",
     "text": [
      "San Anotnio\n"
     ]
    }
   ],
   "source": [
    "number = 32\n",
    "# Write code here\n",
    "#could 2nd elif statement be replaced with an else only\n",
    "if number > 50 and number % 2 == 0:\n",
    "    print('U...T...S...A')\n",
    "elif number< 50 and number % 2 == 1:\n",
    "    print('UTSA')\n",
    "elif (number < 50 and number % 2 == 0) or (number > 50 and number % 2 == 1):\n",
    "    print('San Anotnio')"
   ]
  },
  {
   "cell_type": "markdown",
   "id": "fa957892-d5c1-496f-9bf4-824597e7930f",
   "metadata": {},
   "source": [
    "## Exercise 3 (15 minutes)\n",
    "\n",
    "Write code that prints \"That is an email!\" if the text in the variable \"email\" is formatted as a valid email, otherwise print \"Not an email!\"\n",
    "\n",
    "To simplify the task, we will only consider an email address valid if it matches the following rules:\n",
    "1. Everything before @ sign must be all alphabetic characters (i.e., numbers, special characters, and periods are not allowed)\n",
    "2. The domain address (e.g., \"gmail\" in \"gmail.com\") must be all alphabetic (i.e., a-z capital or lowercase) characters.\n",
    "3. The email must end with \".com\", \".net\", \".org\", or \".edu\"\n",
    "\n",
    "Tip: Start small, e.g., check there is an @ sign, then slowly add to your boolean expressions. Also, you can change the string currently assigned to the variable email to check your code."
   ]
  },
  {
   "cell_type": "code",
   "execution_count": 65,
   "id": "17e5f6e5-7207-4f8c-be16-4bf8049a4134",
   "metadata": {
    "tags": []
   },
   "outputs": [
    {
     "name": "stdout",
     "output_type": "stream",
     "text": [
      "AnthonyRios@abc.com\n",
      "abc.com\n",
      "com\n",
      "That is an email!\n"
     ]
    }
   ],
   "source": [
    "email = \"AnthonyRios@abc.com\"\n",
    "Newemail = email.split('@')\n",
    "domain = (Newemail[1].split('.'))\n",
    "print(email)\n",
    "print(Newemail[1])\n",
    "print(domain[1])\n",
    "# Write code here\n",
    "if (Newemail[0].isalpha) and (domain[0].isalpha) and (domain[1] == 'com'):\n",
    "    print('That is an email!')\n",
    "else:\n",
    "    print('Not an email!')"
   ]
  }
 ],
 "metadata": {
  "kernelspec": {
   "display_name": "Python 3 (ipykernel)",
   "language": "python",
   "name": "python3"
  },
  "language_info": {
   "codemirror_mode": {
    "name": "ipython",
    "version": 3
   },
   "file_extension": ".py",
   "mimetype": "text/x-python",
   "name": "python",
   "nbconvert_exporter": "python",
   "pygments_lexer": "ipython3",
   "version": "3.11.4"
  }
 },
 "nbformat": 4,
 "nbformat_minor": 5
}
