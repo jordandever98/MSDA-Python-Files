{
 "cells": [
  {
   "cell_type": "markdown",
   "metadata": {},
   "source": [
    "# Python: Annotation\n",
    "\n",
    "Blank notebook to be used for class exercises."
   ]
  },
  {
   "cell_type": "markdown",
   "metadata": {},
   "source": [
    "## Exercise 1\n",
    "\n",
    "Complete the Sentiment Annotation Survey on Blackboard. \n"
   ]
  },
  {
   "cell_type": "markdown",
   "metadata": {},
   "source": [
    "## Exercise 2\n",
    "\n",
    "Judge the annotations in following Data:\n",
    "\n",
    "sentiment.txt\n",
    "\n",
    "You are the judge. Look over the annotations and come up with the following:\n",
    "- What is your judgment for the correct entity + sentiment annotation?\n",
    "- How would you amend the annotation guidelines to solicit more consistent annotations?\n",
    "\n",
    "While judging the annotations, keep track of them below:\n",
    "\n",
    "1. Your judgement for the first tweet here\n",
    "2. Your judgement for the second tweet here\n",
    "3. ....\n",
    "\n",
    "\n",
    "How many of your judgements match the majority view?"
   ]
  },
  {
   "cell_type": "markdown",
   "metadata": {},
   "source": [
    "## Exercise 3\n",
    "\n",
    "Manually calculate Cohen's kappa for the tables in the slides and put your answers below:\n",
    "\n",
    "Answers here"
   ]
  },
  {
   "cell_type": "code",
   "execution_count": 1,
   "metadata": {},
   "outputs": [
    {
     "name": "stdout",
     "output_type": "stream",
     "text": [
      "0.0\n"
     ]
    }
   ],
   "source": [
    "# WRITE CODE HERE"
   ]
  },
  {
   "cell_type": "markdown",
   "metadata": {},
   "source": [
    "## Exercise 4\n",
    "\n",
    "Write code to calculate and print the cohen's kappa between rater1 and rater2.\n",
    "\n",
    "Hint: You will need to create the confusion matrix (matrix of how many times each rater agrees for each item)"
   ]
  },
  {
   "cell_type": "code",
   "execution_count": 10,
   "metadata": {},
   "outputs": [],
   "source": [
    "rater1 = ['yes','no','yes','yes','yes','yes','no','yes','yes']\n",
    "rater2 = ['yes','no','no','yes','yes','yes','yes','yes','yes']"
   ]
  },
  {
   "cell_type": "code",
   "execution_count": null,
   "metadata": {},
   "outputs": [],
   "source": [
    "# WRITE CODE HERE"
   ]
  }
 ],
 "metadata": {
  "kernelspec": {
   "display_name": "Python 3",
   "language": "python",
   "name": "python3"
  },
  "language_info": {
   "codemirror_mode": {
    "name": "ipython",
    "version": 3
   },
   "file_extension": ".py",
   "mimetype": "text/x-python",
   "name": "python",
   "nbconvert_exporter": "python",
   "pygments_lexer": "ipython3",
   "version": "3.8.3"
  }
 },
 "nbformat": 4,
 "nbformat_minor": 4
}
