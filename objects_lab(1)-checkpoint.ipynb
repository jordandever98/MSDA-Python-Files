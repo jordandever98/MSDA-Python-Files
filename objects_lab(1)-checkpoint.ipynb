{
 "cells": [
  {
   "cell_type": "markdown",
   "id": "0f6469e1-be60-472b-9333-66c920aa83ef",
   "metadata": {},
   "source": [
    "# NOTES"
   ]
  },
  {
   "cell_type": "code",
   "execution_count": null,
   "id": "5b1ff3ce-9e80-4745-b5b9-0c1076cec569",
   "metadata": {},
   "outputs": [],
   "source": [
    "#csv vs json vs xml \n",
    "# the best way to store the data depends more on the data you want to analyze"
   ]
  },
  {
   "cell_type": "code",
   "execution_count": 19,
   "id": "b59c4235-ae91-4c96-9eb9-372059e5d70b",
   "metadata": {
    "tags": []
   },
   "outputs": [
    {
     "name": "stdout",
     "output_type": "stream",
     "text": [
      "inside init\n",
      "1 2\n",
      "IN DEL\n",
      "inside init\n",
      "3 4\n",
      "IN DEL\n",
      "3\n",
      "7\n",
      "11\n",
      "11\n"
     ]
    }
   ],
   "source": [
    "# Midterm\n",
    "\n",
    "#extra credit based on regular expression (regx)\n",
    "\n",
    "\n",
    "# Classes\n",
    "# As a way to abstract complex functionality such that code is easier to read/work with\n",
    "\n",
    "class Vector():\n",
    "    x = 0\n",
    "    y = 0\n",
    "    def __init__(self,x,y): #invoked/called when intiantiate a new instance of the class\n",
    "        print('inside init')\n",
    "        self.x = x\n",
    "        self.y = y\n",
    "        print(x,y)\n",
    "    \n",
    "    def summation(self):\n",
    "        return self.x + self.y\n",
    "        \n",
    "    def dot(self, o):\n",
    "        return self.x * o.x + self.y * o.y\n",
    "    \n",
    "    def __mul__(self,o): #mul = *\n",
    "        return self.x * o.x + self.y * o.y\n",
    "    \n",
    "    def __del__(self):\n",
    "        return ('IN DEL')\n",
    "\n",
    "v1 = Vector(1,2)\n",
    "mySet = set()\n",
    "v2 = Vector(3,4) #same class but different instances\n",
    "print(v1.summation())\n",
    "#class attribute can be called before?\n",
    "#instance attribute can only be accessed after the class is intiantiated\n",
    "print(v2.summation())\n",
    "\n",
    "## Defining Classes Attributes and Methods\n",
    "\n",
    "\n",
    "\n",
    "## Using Classes\n",
    "\n",
    "\n",
    "\n",
    "## Operator Overloading\n",
    "print(v1.dot(v2)) #1 * 3 + 2 * 4\n",
    "# v1 * v2 instead of v1.dot(v2) have to access special methods -> mul\n",
    "print(v1*v2)\n",
    "v2 = 'blah'\n",
    "## Special Methods"
   ]
  },
  {
   "cell_type": "code",
   "execution_count": 11,
   "id": "2a6e0488-b946-4d0b-a6f9-253493a6e014",
   "metadata": {
    "tags": []
   },
   "outputs": [
    {
     "name": "stdout",
     "output_type": "stream",
     "text": [
      "{4, 5, 6}\n"
     ]
    },
    {
     "data": {
      "text/plain": [
       "0"
      ]
     },
     "execution_count": 11,
     "metadata": {},
     "output_type": "execute_result"
    }
   ],
   "source": [
    "v1.x\n",
    "v1.y\n",
    "v2.x\n",
    "v2.y\n",
    "s1 = set([1,2,3])\n",
    "s2 = set([4,5,6])\n",
    "print(s2)\n",
    "Vector.x"
   ]
  },
  {
   "cell_type": "markdown",
   "id": "bff54cb7-4a2a-4f5c-bd4e-1cb783852e61",
   "metadata": {},
   "source": [
    "# In-Class Exercises"
   ]
  },
  {
   "cell_type": "markdown",
   "id": "059ab0a3-fc94-4ad3-aa9e-5dd35154e8e2",
   "metadata": {
    "tags": []
   },
   "source": [
    "## Exercise 1\n",
    "\n",
    "For today's exercies, we will implement a class representing a vector. Vectors are essential for all things in data science, whether it is statistical analysis using linear regression or neural networks. All modern statistical and machine learning packages require that the input be a vector (or matrix) of numbers. Hence, having a basic understanding of how they work is important when developing new real-world systems.\n",
    "\n",
    "For Exercise 1, you will complete the method \"size()\" and \"magnitude()\". The method \"size()\" should return an integer indicating how many items are in the vector. For instance, a vector [1,1,1] has a size of 3, while the vector [1,1] has a size of 2. **HINT:** We are using lists to store items in a vector, you can get size with len().\n",
    "\n",
    "The magnitude() method should return a float indicating the magnitude of the vector. Magnitude is defined as\n",
    "$$\\text{magnitude} = \\sqrt{\\sum_i^N x_i^2} $$\n",
    "where $N$ is the total number of items in the vector. Hence, given the vector [1,2,3], the magnitude would be calculated as\n",
    "$$ \\sqrt{1^2 + 2^2 + 3^2} = \\sqrt{1 + 4 + 9} = \\sqrt{14} \\approx 3.74 $$\n",
    "\n",
    "**TIME**: 15 minutes\n"
   ]
  },
  {
   "cell_type": "code",
   "execution_count": 25,
   "id": "f9a9df53-ba62-4860-9603-b37eb67bbddc",
   "metadata": {
    "tags": []
   },
   "outputs": [],
   "source": [
    "# NO NEED TO MODIFY THIS CELL\n",
    "def sqrt(x):\n",
    "    return x**.5"
   ]
  },
  {
   "cell_type": "code",
   "execution_count": 1,
   "id": "5bdc909e-c28c-46bd-b62d-144fa59ec2f3",
   "metadata": {
    "tags": []
   },
   "outputs": [],
   "source": [
    "class Vector:    \n",
    "    def __init__(self, items):\n",
    "        # YOU DO NOT NEED TO MODIFY THIS METHOD\n",
    "        # Checks if all items in list are int or float\n",
    "        assert(all([isinstance(x, int) or\n",
    "                    isinstance(x, float)\n",
    "                    for x in items]))\n",
    "        \n",
    "        self.items = items # Assigns items as an instance variable\n",
    "    \n",
    "    def size(self):\n",
    "        # COMPLETE THIS CODE FOR EX 1\n",
    "        # HINT: Take the \"len\" of self.items\n",
    "        return len(self.items)\n",
    "        \n",
    "    def magnitude(self):\n",
    "        # COMPLETE THIS CODE FOR EX 1\n",
    "        # HINT: Use self.items\n",
    "        total = 0\n",
    "        for x in self.items:\n",
    "            total += x ** 2\n",
    "            #magn = self.items**2 \n",
    "        return sqrt(total)\n",
    "    \n",
    "    def dot(self, v2):\n",
    "        # COMPLETE THIS CODE FOR EX 2\n",
    "        # Start here, then do the __mul__ method\n",
    "        total = 0\n",
    "        for x,y in zip(self.items, v2.items):\n",
    "            total += x * y \n",
    "        return total\n",
    "    \n",
    "    def __mul__(self, v2):\n",
    "        # COMPLETE THIS CODE FOR EX 2\n",
    "        #return self.x * o.x + self.y * o.y\n",
    "        return self.dot(v2) #reuse teh function we already created"
   ]
  },
  {
   "cell_type": "code",
   "execution_count": 44,
   "id": "3542c1f7-0ec5-4841-91f3-5f530382d42d",
   "metadata": {
    "tags": []
   },
   "outputs": [
    {
     "name": "stdout",
     "output_type": "stream",
     "text": [
      "Test Cases Completed Successfully\n"
     ]
    }
   ],
   "source": [
    "v1 = Vector([1,2,3])\n",
    "v2 = Vector([1,2,3,4])\n",
    "assert(v1.size() == 3) # Check if size is correct.\n",
    "assert(v2.size() == 4) # Check if size is correct.\n",
    "assert(sqrt(1+4+9) == v1.magnitude()) # Check if magnitude is correct.\n",
    "assert(sqrt(1+4+9+16) == v2.magnitude()) # Check if magnitude is correct.\n",
    "print(\"Test Cases Completed Successfully\")"
   ]
  },
  {
   "cell_type": "markdown",
   "id": "eaa6a3b1-0468-4844-ba00-f86d64d62814",
   "metadata": {},
   "source": [
    "## Exercise 2\n",
    "\n",
    "\n",
    "For this exercise, you should implement the \"dot()\" and \"\\_\\_mul\\_\\_()\" methods to perform a dot (inner) preduct. The inner prodcut is important for models such as Linear Regression, Logistic Regression, and Neural Networks. Formally, the dot product is defined as\n",
    "$$ dot(\\mathbf{x}, \\mathbf{y}) = \\mathbf{x}^T \\mathbf{y} = \\sum_i^N x_i y_i$$\n",
    "where $N$ is the number of items (size) of $\\mathbf{x}$ and $\\mathbf{y}$. For example, given two vectors $x = [1,2,3]$ and $y = [4,5,6]$, we can calcuate the dot product as\n",
    "$$1*4 + 2*5 + 6*3 = 4 + 10 + 18 = 32 $$\n",
    "Intuively, we are just multiplying and summing each corresponding element in both vectors. This will be important to know after the Midterm when we start using machine learning packages :) \n",
    "\n",
    "**TIME**: 15 minutes"
   ]
  },
  {
   "cell_type": "code",
   "execution_count": 54,
   "id": "438629ec-7a38-4e8c-9592-544a1aced2a2",
   "metadata": {
    "tags": []
   },
   "outputs": [
    {
     "name": "stdout",
     "output_type": "stream",
     "text": [
      "Test Cases Completed Successfully\n"
     ]
    }
   ],
   "source": [
    "# Test cases. You can modify the code in the Vector class defined above.\n",
    "v1 = Vector([3,3,3])\n",
    "v2 = Vector([2,2,2])\n",
    "\n",
    "assert(v1.dot(v2) == 18)\n",
    "assert(v2.dot(v2) == 12)\n",
    "assert(v1 * v2 == 18)\n",
    "assert(v2 * v2 == 12)\n",
    "print(\"Test Cases Completed Successfully\")"
   ]
  },
  {
   "cell_type": "code",
   "execution_count": null,
   "id": "11929b7d-ea72-4a94-b9c1-2b17790dcfd5",
   "metadata": {},
   "outputs": [],
   "source": []
  },
  {
   "cell_type": "code",
   "execution_count": null,
   "id": "aafa0bcd-2a53-4eb7-a7d0-4cc9e649cfb7",
   "metadata": {},
   "outputs": [],
   "source": []
  },
  {
   "cell_type": "code",
   "execution_count": null,
   "id": "71291081-d0a9-4873-ae64-b085c380056e",
   "metadata": {},
   "outputs": [],
   "source": []
  },
  {
   "cell_type": "code",
   "execution_count": null,
   "id": "c03254bb-eabb-4eb2-a940-86e024ec5ad9",
   "metadata": {},
   "outputs": [],
   "source": []
  },
  {
   "cell_type": "code",
   "execution_count": 3,
   "id": "63de5313-54a6-4b83-b0ba-9b44804bf2ee",
   "metadata": {
    "tags": []
   },
   "outputs": [
    {
     "data": {
      "text/plain": [
       "32"
      ]
     },
     "execution_count": 3,
     "metadata": {},
     "output_type": "execute_result"
    }
   ],
   "source": [
    "import numpy as np\n",
    "\n",
    "v1 = np.array([1,2,3])\n",
    "\n",
    "v2 = np.array([4,5,6])\n",
    "\n",
    "v1.dot(v2)\n",
    "\n"
   ]
  },
  {
   "cell_type": "code",
   "execution_count": 4,
   "id": "1aec6f9b-af1a-4611-a02e-7d44a026feb0",
   "metadata": {
    "tags": []
   },
   "outputs": [
    {
     "name": "stdout",
     "output_type": "stream",
     "text": [
      "[1 2 3]\n"
     ]
    }
   ],
   "source": [
    "# what is the __init__\n",
    "# used whenever we instanstiate a class\n",
    "# when we need to add a name, doing __init__(self, name)\n",
    "# will work so we can properly assign the name to it\n",
    "\n",
    "# use self to access ALL of the instance/class attributes in the methods\n",
    "\n",
    "# __str__ is useful because it allows us to tell Python how to print the object\n",
    "# to the screen in a specific format by defining it in the class.\n",
    "print(v1)\n",
    "\n",
    "# two types of attributes, class and instance\n",
    "# attributes can only be accessed within their scope"
   ]
  },
  {
   "cell_type": "code",
   "execution_count": null,
   "id": "8f2ad2ec-213e-49bb-9503-c0d776807fa7",
   "metadata": {},
   "outputs": [],
   "source": [
    "### Review\n"
   ]
  },
  {
   "cell_type": "code",
   "execution_count": null,
   "id": "311458ed-ba83-4a94-9726-d0d6456e8a8a",
   "metadata": {},
   "outputs": [],
   "source": [
    "# Basic data types\n",
    "num = 1\n",
    "num2 = int(num/2)\n",
    "print(num2)\n",
    "type(num2)\n"
   ]
  },
  {
   "cell_type": "code",
   "execution_count": 11,
   "id": "98f0b8d8-4d81-422e-ac9f-5f03d88b5f4d",
   "metadata": {
    "tags": []
   },
   "outputs": [
    {
     "name": "stdout",
     "output_type": "stream",
     "text": [
      "[1, 2, 3]\n",
      "1\n",
      "3\n",
      "3\n"
     ]
    },
    {
     "data": {
      "text/plain": [
       "[1, 2]"
      ]
     },
     "execution_count": 11,
     "metadata": {},
     "output_type": "execute_result"
    }
   ],
   "source": [
    "# Lists\n",
    "# Allow us to store an ordered squence of itms\n",
    "myList = list()\n",
    "\n",
    "myList.append(1)\n",
    "myList.append(2)\n",
    "myList.append(3)\n",
    "\n",
    "print(myList)\n",
    "\n",
    "print(myList[0])\n",
    "print(len(myList))\n",
    "\n",
    "test = myList.pop()\n",
    "print(test)\n",
    "myList"
   ]
  },
  {
   "cell_type": "code",
   "execution_count": 18,
   "id": "c567979d-a456-4df2-b696-90bb86d86d0a",
   "metadata": {
    "tags": []
   },
   "outputs": [
    {
     "name": "stdout",
     "output_type": "stream",
     "text": [
      "{'Anthony': 'Professor', 'Jane': 'Dean'}\n",
      "Professor\n",
      "Unemployed\n",
      "Dean\n",
      "Unemployed\n"
     ]
    }
   ],
   "source": [
    "# Dictionaries\n",
    "\n",
    "#dict allow us to store key/value pairs\n",
    "myDict = {} # dict()\n",
    "\n",
    "myDict['Anthony'] = 'Professor'\n",
    "myDict['Jane'] = 'Dean'\n",
    "print(myDict)\n",
    "#Access anthony - can only access keys and the values associated with the keys\n",
    "print(myDict['Anthony'])\n",
    "\n",
    "# print(myDoct[0]) wont work because this key does not exist\n",
    "\n",
    "print(myDict.get(0, 'Unemployed')) #default if it doesnt exist\n",
    "print(myDict.get('Jane', 'Unemployed'))\n",
    "\n",
    "if 0 not in myDict:\n",
    "    print('Unemployed')"
   ]
  },
  {
   "cell_type": "code",
   "execution_count": 19,
   "id": "8128a7dc-9e0a-465c-ab28-ab38467510a0",
   "metadata": {
    "tags": []
   },
   "outputs": [
    {
     "name": "stdout",
     "output_type": "stream",
     "text": [
      "{1, 2, 3}\n"
     ]
    }
   ],
   "source": [
    "# Sets\n",
    "# are collection of UNIQUE objects\n",
    "# easy to search for things within sets (a lot of lookups)\n",
    "\n",
    "mySet = set() #hashing - looking up where an item should be\n",
    "mySet.add(1)\n",
    "mySet.add(2)\n",
    "mySet.add(1)\n",
    "mySet.add(3)\n",
    "print(mySet) #not a list - it is unsupervised\n",
    "#mySet[0] wont work\n",
    "\n",
    "#.intersection() what do 2 sets have in common\n",
    "#.union() merge 2 sets but keep the uniques"
   ]
  },
  {
   "cell_type": "code",
   "execution_count": 20,
   "id": "57dc7b4c-cf96-4706-86c9-ab2c0266144c",
   "metadata": {
    "tags": []
   },
   "outputs": [
    {
     "name": "stdout",
     "output_type": "stream",
     "text": [
      "a\n",
      "b\n",
      "c\n"
     ]
    }
   ],
   "source": [
    "myString = 'abc'\n",
    "for c in myString:\n",
    "    print(c)"
   ]
  },
  {
   "cell_type": "code",
   "execution_count": 26,
   "id": "85e78737-ab69-4939-9b84-f4eff1777c33",
   "metadata": {
    "tags": []
   },
   "outputs": [
    {
     "name": "stdout",
     "output_type": "stream",
     "text": [
      "you can retire early\n",
      "No\n",
      "cool\n"
     ]
    }
   ],
   "source": [
    "# Conditional Statements\n",
    "# if/elif/else\n",
    "\n",
    "# if BOOLEAN EXPRESSION:\n",
    "#.   Code \n",
    "# elif BOOLEAN EXPRESSION:\n",
    "#    Code\n",
    "# else:\n",
    "#    Code\n",
    "\n",
    "age = 55\n",
    "if age > 65:\n",
    "    print('You can retire')\n",
    "elif age >= 55:\n",
    "    print('you can retire early')\n",
    "else:\n",
    "    print('no')\n",
    "    \n",
    "    \n",
    "mySet = set([1,2,3])\n",
    "\n",
    "if 4 not in mySet:\n",
    "    print('No')\n",
    "    \n",
    "myDict = {1:'BLAH', 2:'TEST'}\n",
    "if 3 in myDict: # is 3 a key in myDict?\n",
    "    print('in if statement')\n",
    "    \n",
    "# and, or\n",
    "\n",
    "age = 67\n",
    "\n",
    "if age > 65 and age % 2 == 1: # if age is greater than 65 and is odd\n",
    "    print('cool')"
   ]
  },
  {
   "cell_type": "code",
   "execution_count": 32,
   "id": "4b5b0cb0-2a24-4ca0-8ff4-62f568ed981d",
   "metadata": {
    "tags": []
   },
   "outputs": [
    {
     "name": "stdout",
     "output_type": "stream",
     "text": [
      "1\n",
      "2\n",
      "3\n",
      "break\n",
      "1\n",
      "2\n",
      "3\n",
      "break\n",
      "5\n",
      "6\n",
      "7\n",
      "8\n",
      "9\n"
     ]
    }
   ],
   "source": [
    "# Looping Constructs\n",
    "# For & While loops\n",
    "# while is when u don't know how many times u want to iterate\n",
    "# for loop if its n amount of times\n",
    "\n",
    "# for VAR NAME in ITERABLE_OBJECT:\n",
    "#     Code\n",
    "\n",
    "mL = [1,2,3] #can be a set, string, list, but data type will change but it will still work\n",
    "for x in mL:\n",
    "    print(x)\n",
    "print('break') \n",
    "for i in range(3):\n",
    "    print(mL[i])\n",
    "print('break')   \n",
    "# range is important if we ONLY WANT TO LOOP  CERTAIN AMOUNT OF TIMES\n",
    "for i in range(5): #i = 0, i = 1, i= 2, etc...\n",
    "    print(i)\n",
    "    "
   ]
  },
  {
   "cell_type": "code",
   "execution_count": 34,
   "id": "4824eb8d-065f-42b8-9f27-c8289a526026",
   "metadata": {
    "tags": []
   },
   "outputs": [
    {
     "name": "stdout",
     "output_type": "stream",
     "text": [
      "0\n",
      "1\n",
      "2\n",
      "3\n",
      "4\n",
      "5\n",
      "6\n",
      "7\n",
      "8\n",
      "9\n",
      "10\n"
     ]
    }
   ],
   "source": [
    "# while loop\n",
    "\n",
    "#while BOOLEAN EXPRESSION:\n",
    "#      Code\n",
    "\n",
    "count = 0\n",
    "while count < 10:\n",
    "    print(count) #if we stop here it will run indefinelty\n",
    "    count+= 1\n",
    "print(count) # prints 10 because of our while statement "
   ]
  },
  {
   "cell_type": "code",
   "execution_count": 37,
   "id": "2a284f7b-078c-4797-a6c2-2382c866b209",
   "metadata": {
    "tags": []
   },
   "outputs": [
    {
     "name": "stdout",
     "output_type": "stream",
     "text": [
      "User ID: 1\n",
      "Screen Name: PythonIsTheBest\n",
      "Real Name: John Doe\n",
      "Address: 1 UTSA Circle, San Antonio, TX 78249\n",
      "Bio: Pythons, i.e., snakes, are my favorite animals\n",
      "Occupation: Snake Farmer\n",
      "Hobbies:\n",
      "1. Bicycling\n",
      "\n",
      "User ID: 2\n",
      "Screen Name: RisTheBest\n",
      "Real Name: Jane Doe\n",
      "Address: 1 UTSA Circle, San Antonio, TX 78249\n",
      "Bio: R is my favorite letter.\n",
      "Hobbies:\n",
      "1. Weightlifting\n",
      "2. Cycling\n",
      "3. Reading\n"
     ]
    }
   ],
   "source": [
    "# File IO\n",
    "myFile = open('untitled.txt')\n",
    "\n",
    "for line in myFile:\n",
    "    print(line.strip())\n",
    "myFile.close()"
   ]
  },
  {
   "cell_type": "code",
   "execution_count": 38,
   "id": "c3ec7302-17bd-41a0-8c33-ee43c3d93e6c",
   "metadata": {
    "tags": []
   },
   "outputs": [],
   "source": [
    "oFile = open('myFile.txt','w')\n",
    "\n",
    "oFile.write('a\\n')\n",
    "oFile.write('b\\n')\n",
    "oFile.write('c\\n')\n",
    "\n",
    "oFile.close()\n",
    "json.dumps()\n",
    "json.loads()\n",
    "json.load()\n",
    "json.dump()\n",
    "# xml file is only if it correct or not like the quiz question\n",
    "\n",
    "csv.reader()\n",
    "csv.writer()"
   ]
  },
  {
   "cell_type": "code",
   "execution_count": 45,
   "id": "74a00ea2-5fd5-45ad-bb0a-fad98319e1f1",
   "metadata": {
    "tags": []
   },
   "outputs": [
    {
     "name": "stdout",
     "output_type": "stream",
     "text": [
      "Hello World\n",
      "1 2\n"
     ]
    }
   ],
   "source": [
    "# Functions\n",
    "# functions definition\n",
    "\n",
    "def hello(p1,p2):\n",
    "    print('Hello World')\n",
    "    print(p1,p2)\n",
    "hello(1,2) # function call function parameters that are required to call the function now\n",
    "#hello() # function call\n",
    "#hello() # function call\n",
    "# DONT USE EXTERNAL VARIABLES IN A FUNCTION"
   ]
  },
  {
   "cell_type": "code",
   "execution_count": 46,
   "id": "2a730c6b-a6f9-4117-8b59-81286ed1dcf8",
   "metadata": {
    "tags": []
   },
   "outputs": [
    {
     "name": "stdout",
     "output_type": "stream",
     "text": [
      "i cant jump, im old\n",
      "i can jump\n"
     ]
    }
   ],
   "source": [
    "# Classes\n",
    "class par:\n",
    "        def __init__(self,name):\n",
    "            self.name = name\n",
    "        def jump(self):\n",
    "            print('i cant jump, im old')\n",
    "class chi(par):\n",
    "    def jump(self): #overriding the jump method in this class\n",
    "        print('i can jump')\n",
    "    def run(self):\n",
    "        print('RUN')\n",
    "\n",
    "p1 = par('Anthony')\n",
    "c1 = chi('Jane')\n",
    "\n",
    "p1.jump()\n",
    "c1.jump()\n",
    "#p1.run would not work because the parent cant inherit from the child"
   ]
  }
 ],
 "metadata": {
  "kernelspec": {
   "display_name": "Python 3 (ipykernel)",
   "language": "python",
   "name": "python3"
  },
  "language_info": {
   "codemirror_mode": {
    "name": "ipython",
    "version": 3
   },
   "file_extension": ".py",
   "mimetype": "text/x-python",
   "name": "python",
   "nbconvert_exporter": "python",
   "pygments_lexer": "ipython3",
   "version": "3.11.4"
  }
 },
 "nbformat": 4,
 "nbformat_minor": 5
}
