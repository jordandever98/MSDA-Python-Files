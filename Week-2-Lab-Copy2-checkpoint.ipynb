{
 "cells": [
  {
   "cell_type": "markdown",
   "metadata": {},
   "source": [
    "# Python as a Programming Language\n",
    "\n",
    "Blank notebook to be used for lab\n",
    "exercises.\n",
    "\n",
    "**Name**: Jordan Dever\n",
    "\n",
    "**abc123**: xfd461"
   ]
  },
  {
   "cell_type": "markdown",
   "metadata": {},
   "source": [
    "## Exercise 1: Putting it all together\n",
    "\n",
    "Write a program that does the following:\n",
    "\n",
    "- Prints the numbers 1 to 100\n",
    "- For the  numbers 10 to 25 (including 10 and 25), instead of printing the number, print the word \"cheese\".\n",
    "- For numbers 55 to 100 (including 55, but not including 100), instead of printing the number, print the word \"cake\".\n",
    "- For 100 print the word \"Done!\".\n",
    "\n",
    "**Important Python concepts:** print(), if, elif, else, for"
   ]
  },
  {
   "cell_type": "code",
   "execution_count": 14,
   "metadata": {
    "tags": []
   },
   "outputs": [
    {
     "name": "stdout",
     "output_type": "stream",
     "text": [
      "1\n",
      "2\n",
      "3\n",
      "4\n",
      "5\n",
      "6\n",
      "7\n",
      "8\n",
      "9\n",
      "cheese10\n",
      "cheese11\n",
      "cheese12\n",
      "cheese13\n",
      "cheese14\n",
      "cheese15\n",
      "cheese16\n",
      "cheese17\n",
      "cheese18\n",
      "cheese19\n",
      "cheese20\n",
      "cheese21\n",
      "cheese22\n",
      "cheese23\n",
      "cheese24\n",
      "cheese25\n",
      "26\n",
      "27\n",
      "28\n",
      "29\n",
      "30\n",
      "31\n",
      "32\n",
      "33\n",
      "34\n",
      "35\n",
      "36\n",
      "37\n",
      "38\n",
      "39\n",
      "40\n",
      "41\n",
      "42\n",
      "43\n",
      "44\n",
      "45\n",
      "46\n",
      "47\n",
      "48\n",
      "49\n",
      "50\n",
      "51\n",
      "52\n",
      "53\n",
      "54\n",
      "cake55\n",
      "cake56\n",
      "cake57\n",
      "cake58\n",
      "cake59\n",
      "cake60\n",
      "cake61\n",
      "cake62\n",
      "cake63\n",
      "cake64\n",
      "cake65\n",
      "cake66\n",
      "cake67\n",
      "cake68\n",
      "cake69\n",
      "cake70\n",
      "cake71\n",
      "cake72\n",
      "cake73\n",
      "cake74\n",
      "cake75\n",
      "cake76\n",
      "cake77\n",
      "cake78\n",
      "cake79\n",
      "cake80\n",
      "cake81\n",
      "cake82\n",
      "cake83\n",
      "cake84\n",
      "cake85\n",
      "cake86\n",
      "cake87\n",
      "cake88\n",
      "cake89\n",
      "cake90\n",
      "cake91\n",
      "cake92\n",
      "cake93\n",
      "cake94\n",
      "cake95\n",
      "cake96\n",
      "cake97\n",
      "cake98\n",
      "cake99\n",
      "Done!\n"
     ]
    }
   ],
   "source": [
    "# Write code here\n",
    "#Could be simplified to i >= 10 and i <= 25\n",
    "for i in range(1,101,1):\n",
    "    if i < 10:\n",
    "        print('{}'.format(i))\n",
    "    elif i <= 25:\n",
    "        print('cheese{}'.format(i))\n",
    "    elif i < 55:\n",
    "        print('{}'.format(i))\n",
    "    elif i <= 99:\n",
    "        print('cake{}'.format(i))\n",
    "    elif i == 100:\n",
    "        print('Done!')\n",
    "    else:\n",
    "        print('Outside intended range')"
   ]
  },
  {
   "cell_type": "markdown",
   "metadata": {},
   "source": [
    "## Exercise 2\n",
    "\n",
    "Write a program which repeatedly reads numbers until the user enters “done”. Once “done” is entered, print out the total, count, and average of the numbers. If the user enters anything other than a number, detect their mistake using try and except and print an error message and skip to the next number.\n",
    "\n",
    "What the code should look like when running:\n",
    "```\n",
    "Enter a number: 4\n",
    "Enter a number: 5\n",
    "Enter a number: bad data\n",
    "Invalid input\n",
    "Enter a number: 7\n",
    "Enter a number: done\n",
    "16 3 5.33333333333\n",
    "```\n",
    "\n",
    "**Important Python concepts:** print(), try, except, break, while"
   ]
  },
  {
   "cell_type": "code",
   "execution_count": 11,
   "metadata": {
    "tags": []
   },
   "outputs": [
    {
     "name": "stdin",
     "output_type": "stream",
     "text": [
      "Enter a number:  4\n",
      "Enter a number:  5\n",
      "Enter a number:  b\n"
     ]
    },
    {
     "name": "stdout",
     "output_type": "stream",
     "text": [
      "Invalid Input\n"
     ]
    },
    {
     "name": "stdin",
     "output_type": "stream",
     "text": [
      "Enter a number:  7\n",
      "Enter a number:  done\n"
     ]
    },
    {
     "name": "stdout",
     "output_type": "stream",
     "text": [
      "Sum: 16.0, Count: 3, Average: 5.333333333333333\n"
     ]
    }
   ],
   "source": [
    "total = 0\n",
    "count = 0\n",
    "average = 0\n",
    "while True:\n",
    "    try:\n",
    "        number = input('Enter a number: ')\n",
    "        number = float(number)\n",
    "        total += number\n",
    "        count = count + 1\n",
    "        average = total / count\n",
    "    except:\n",
    "        if number != 'done':\n",
    "            print('Invalid Input')\n",
    "        else:\n",
    "            break\n",
    "print('Sum: {}, Count: {}, Average: {}'.format(total,count,average))"
   ]
  },
  {
   "cell_type": "markdown",
   "metadata": {},
   "source": [
    "## Exercise 3\n",
    "\n",
    "Write a program that counts how many times each letter appears in a string. The counts for each character should be stored in a dictionary where the character is the key and the value is the count. Print the dictionary at the end.\n",
    "\n",
    "Given the string **'aaabbc'**, the output should be a dictionary **{'a':3, 'b':2, 'c':1}**.\n",
    "\n",
    "We are effectively computing a histogram, which is a statistical term for a set of counters (or frequencies).\n",
    "\n",
    "**Important Python concepts:** dict ({}), for"
   ]
  },
  {
   "cell_type": "code",
   "execution_count": null,
   "metadata": {},
   "outputs": [],
   "source": [
    "word = 'brontosaurus'"
   ]
  },
  {
   "cell_type": "code",
   "execution_count": 27,
   "metadata": {},
   "outputs": [
    {
     "name": "stdout",
     "output_type": "stream",
     "text": [
      "{'a': 3, 'b': 2, 'c': 1}\n"
     ]
    }
   ],
   "source": [
    "word = 'brontosaurus'\n",
    "abc = 'aaabbc'\n",
    "count_Dict = {}\n",
    "for letter in abc:\n",
    "    count_Dict[letter] = count_Dict.get(letter , 0) + 1\n",
    "print(count_Dict)"
   ]
  },
  {
   "cell_type": "code",
   "execution_count": null,
   "metadata": {},
   "outputs": [],
   "source": [
    "# Print dictionary here"
   ]
  }
 ],
 "metadata": {
  "kernelspec": {
   "display_name": "Python 3 (ipykernel)",
   "language": "python",
   "name": "python3"
  },
  "language_info": {
   "codemirror_mode": {
    "name": "ipython",
    "version": 3
   },
   "file_extension": ".py",
   "mimetype": "text/x-python",
   "name": "python",
   "nbconvert_exporter": "python",
   "pygments_lexer": "ipython3",
   "version": "3.11.4"
  }
 },
 "nbformat": 4,
 "nbformat_minor": 4
}
