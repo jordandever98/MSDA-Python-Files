{
 "cells": [
  {
   "cell_type": "code",
   "execution_count": 39,
   "id": "5c0efb48-f491-4b19-a69a-f5cd7b5189d3",
   "metadata": {
    "tags": []
   },
   "outputs": [
    {
     "data": {
      "text/plain": [
       "'town history indicate buy each design cost offer current temperature skin less object sugar her idea neighbor money case like section column people written'"
      ]
     },
     "execution_count": 39,
     "metadata": {},
     "output_type": "execute_result"
    }
   ],
   "source": [
    "#Replace with the file you want to decode\n",
    "in_file = 'coding_qual_input.txt'\n",
    "\n",
    "#Define our decode object\n",
    "def decode(in_file):\n",
    "    encoded_dict = {}\n",
    "    total_num = 0\n",
    "    with open(in_file, 'r') as file:\n",
    "        #Now we set up a dictionary of key,value pairs and get the total number of lines\n",
    "        for line in file:\n",
    "            num, word = line.split()\n",
    "            encoded_dict[int(num)] = word\n",
    "            total_num += 1\n",
    "        \n",
    "    #Setting up our pyramid variables\n",
    "    line_pyramid = []\n",
    "    current_num = 1\n",
    "    line_num = 1\n",
    "    #Incrementing our pyramid to create a new line after adding a new value to the end of the current line\n",
    "    while current_num <= total_num:\n",
    "        pyramid_rows = [x for x in range(current_num, min(current_num + line_num, total_num + 1))]\n",
    "        line_pyramid.append(pyramid_rows)\n",
    "        current_num += line_num\n",
    "        line_num += 1\n",
    "    #This gives us the last element of each line in the pyramid\n",
    "    encoded_message = [row[-1] for row in line_pyramid]\n",
    "    #Now we use the numbers from the encoded_message to decode\n",
    "    decoded_message = [encoded_dict[num] for num in encoded_message]\n",
    "    final_string = ' '.join(decoded_message)\n",
    "    return final_string\n",
    "decode(in_file)"
   ]
  },
  {
   "cell_type": "code",
   "execution_count": 7,
   "id": "0f641ba0-825a-44ae-9157-d4014871cf3a",
   "metadata": {
    "tags": []
   },
   "outputs": [
    {
     "name": "stdout",
     "output_type": "stream",
     "text": [
      "1\n",
      "2 3\n",
      "4 5 6\n",
      "7 8 9 10\n",
      "11 12 13 14 15\n",
      "16 17 18 19 20 21\n",
      "22 23 24 25 26 27 28\n",
      "29 30 31 32 33 34 35 36\n",
      "37 38 39 40 41 42 43 44 45\n",
      "46 47 48 49 50 51 52 53 54 55\n",
      "56 57 58 59 60 61 62 63 64 65 66\n",
      "67 68 69 70 71 72 73 74 75 76 77 78\n",
      "79 80 81 82 83 84 85 86 87 88 89 90 91\n",
      "92 93 94 95 96 97 98 99 100 101 102 103 104 105\n",
      "106 107 108 109 110 111 112 113 114 115 116 117 118 119 120\n",
      "121 122 123 124 125 126 127 128 129 130 131 132 133 134 135 136\n",
      "137 138 139 140 141 142 143 144 145 146 147 148 149 150 151 152 153\n",
      "154 155 156 157 158 159 160 161 162 163 164 165 166 167 168 169 170 171\n",
      "172 173 174 175 176 177 178 179 180 181 182 183 184 185 186 187 188 189 190\n",
      "191 192 193 194 195 196 197 198 199 200 201 202 203 204 205 206 207 208 209 210\n",
      "211 212 213 214 215 216 217 218 219 220 221 222 223 224 225 226 227 228 229 230 231\n",
      "232 233 234 235 236 237 238 239 240 241 242 243 244 245 246 247 248 249 250 251 252 253\n",
      "254 255 256 257 258 259 260 261 262 263 264 265 266 267 268 269 270 271 272 273 274 275 276\n",
      "277 278 279 280 281 282 283 284 285 286 287 288 289 290 291 292 293 294 295 296 297 298 299 300\n",
      "\n",
      "Last Numbers: [1, 3, 6, 10, 15, 21, 28, 36, 45, 55, 66, 78, 91, 105, 120, 136, 153, 171, 190, 210, 231, 253, 276, 300]\n"
     ]
    }
   ],
   "source": []
  }
 ],
 "metadata": {
  "kernelspec": {
   "display_name": "Python 3 (ipykernel)",
   "language": "python",
   "name": "python3"
  },
  "language_info": {
   "codemirror_mode": {
    "name": "ipython",
    "version": 3
   },
   "file_extension": ".py",
   "mimetype": "text/x-python",
   "name": "python",
   "nbconvert_exporter": "python",
   "pygments_lexer": "ipython3",
   "version": "3.11.4"
  }
 },
 "nbformat": 4,
 "nbformat_minor": 5
}
