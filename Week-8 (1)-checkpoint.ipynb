{
 "cells": [
  {
   "cell_type": "markdown",
   "metadata": {},
   "source": [
    "# Python: More Data Annotation and Numpy\n",
    "\n",
    "Name:Jordan Dever\n",
    "\n",
    "abc123: xfd461\n",
    "\n",
    "Blank notebook to be used for class exercises."
   ]
  },
  {
   "cell_type": "markdown",
   "metadata": {},
   "source": [
    "## Exercise 1\n",
    "\n",
    "Given the provided numpy array, write code that prints the following:\n",
    "    \n",
    "- Print the third row of the array\n",
    "- Print the second column of the array\n",
    "- Print the fourth row's third column (this should print a single number)."
   ]
  },
  {
   "cell_type": "code",
   "execution_count": 2,
   "metadata": {
    "tags": []
   },
   "outputs": [],
   "source": [
    "import numpy as np\n",
    "\n",
    "grades = [[79, 95, 60],\n",
    "          [95, 60, 61],\n",
    "          [99, 67, 84],\n",
    "          [76, 76, 97],\n",
    "          [91, 84, 98],\n",
    "          [70, 69, 96],\n",
    "          [88, 65, 76],\n",
    "          [67, 73, 80],\n",
    "          [82, 89, 61],\n",
    "          [94, 67, 88]] # \"grades\" is a list of lists.\n",
    "\n",
    "grades = np.array(grades) # Converts \"grades\" into a numpy array"
   ]
  },
  {
   "cell_type": "code",
   "execution_count": 28,
   "metadata": {
    "tags": []
   },
   "outputs": [
    {
     "name": "stdout",
     "output_type": "stream",
     "text": [
      "[99 67 84]\n",
      "[95 60 67 76 84 69 65 73 89 67]\n",
      "97\n"
     ]
    }
   ],
   "source": [
    "print(grades[2])\n",
    "print(grades[:,1])\n",
    "print(grades[3,2])"
   ]
  },
  {
   "cell_type": "markdown",
   "metadata": {},
   "source": [
    "## Exercise 2\n",
    "\n",
    "Given the provided array in the Lab file, write code the prints the following:\n",
    "\n",
    "- The average grade per test (column) (this should print an array with 3 items)\n",
    "- The average grade per row, i.e., the average test grade per student\n",
    "- Print the max grade per test\n",
    "- Print the average across all students (rows) and tests (columns)"
   ]
  },
  {
   "cell_type": "code",
   "execution_count": 2,
   "metadata": {},
   "outputs": [],
   "source": [
    "import numpy as np\n",
    "\n",
    "grades = [[79, 95, 60],\n",
    "          [95, 60, 61],\n",
    "          [99, 67, 84],\n",
    "          [76, 76, 97],\n",
    "          [91, 84, 98],\n",
    "          [70, 69, 96],\n",
    "          [88, 65, 76],\n",
    "          [67, 73, 80],\n",
    "          [82, 89, 61],\n",
    "          [94, 67, 88]] # \"grades\" is a list of lists.\n",
    "\n",
    "grades = np.array(grades) # Converts \"grades\" into a numpy array"
   ]
  },
  {
   "cell_type": "code",
   "execution_count": 35,
   "metadata": {
    "tags": []
   },
   "outputs": [
    {
     "name": "stdout",
     "output_type": "stream",
     "text": [
      "[84.1 74.5 80.1]\n",
      "[78.         72.         83.33333333 83.         91.         78.33333333\n",
      " 76.33333333 73.33333333 77.33333333 83.        ]\n",
      "[99 95 98]\n",
      "79.56666666666666\n"
     ]
    }
   ],
   "source": [
    "print(grades.mean(axis=0))\n",
    "print(grades.mean(axis=1))\n",
    "print(grades.max(axis=0))\n",
    "print(grades.mean())"
   ]
  },
  {
   "cell_type": "markdown",
   "metadata": {},
   "source": [
    "## Exercise 3\n",
    "\n",
    "Write code that prints the grades of all students that have an average grade less than 90."
   ]
  },
  {
   "cell_type": "code",
   "execution_count": 2,
   "metadata": {},
   "outputs": [],
   "source": [
    "import numpy as np\n",
    "\n",
    "grades = [[79, 95, 60],\n",
    "          [95, 60, 61],\n",
    "          [99, 67, 84],\n",
    "          [76, 76, 97],\n",
    "          [91, 84, 98],\n",
    "          [70, 69, 96],\n",
    "          [88, 65, 76],\n",
    "          [67, 73, 80],\n",
    "          [82, 89, 61],\n",
    "          [94, 67, 88]] # \"grades\" is a list of lists.\n",
    "\n",
    "grades = np.array(grades) # Converts \"grades\" into a numpy array"
   ]
  },
  {
   "cell_type": "code",
   "execution_count": 40,
   "metadata": {
    "tags": []
   },
   "outputs": [
    {
     "name": "stdout",
     "output_type": "stream",
     "text": [
      "[[79 95 60]\n",
      " [95 60 61]\n",
      " [99 67 84]\n",
      " [76 76 97]\n",
      " [70 69 96]\n",
      " [88 65 76]\n",
      " [67 73 80]\n",
      " [82 89 61]\n",
      " [94 67 88]]\n"
     ]
    }
   ],
   "source": [
    "lower_avg = grades.mean(axis=1) < 90\n",
    "print(grades[lower_avg,])\n"
   ]
  },
  {
   "cell_type": "markdown",
   "metadata": {},
   "source": [
    "## Exercise 4\n",
    "\n",
    "Write code to adds 10 points every student's test grade **if** their average test grade is greater than 90."
   ]
  },
  {
   "cell_type": "code",
   "execution_count": 50,
   "metadata": {
    "tags": []
   },
   "outputs": [],
   "source": [
    "import numpy as np\n",
    "\n",
    "grades = [[79, 95, 60],\n",
    "          [95, 60, 61],\n",
    "          [99, 67, 84],\n",
    "          [76, 76, 97],\n",
    "          [91, 84, 98],\n",
    "          [70, 69, 96],\n",
    "          [88, 65, 76],\n",
    "          [67, 73, 80],\n",
    "          [82, 89, 61],\n",
    "          [94, 67, 88]] # \"grades\" is a list of lists.\n",
    "\n",
    "grades = np.array(grades) # Converts \"grades\" into a numpy array"
   ]
  },
  {
   "cell_type": "code",
   "execution_count": 51,
   "metadata": {
    "tags": []
   },
   "outputs": [
    {
     "data": {
      "text/plain": [
       "array([[ 79,  95,  60],\n",
       "       [ 95,  60,  61],\n",
       "       [ 99,  67,  84],\n",
       "       [ 76,  76,  97],\n",
       "       [101,  94, 108],\n",
       "       [ 70,  69,  96],\n",
       "       [ 88,  65,  76],\n",
       "       [ 67,  73,  80],\n",
       "       [ 82,  89,  61],\n",
       "       [ 94,  67,  88]])"
      ]
     },
     "execution_count": 51,
     "metadata": {},
     "output_type": "execute_result"
    }
   ],
   "source": [
    "higher_avg = grades.mean(axis=1) > 90\n",
    "grades[higher_avg,] += 10\n",
    "grades"
   ]
  },
  {
   "cell_type": "markdown",
   "metadata": {},
   "source": [
    "## Exercise 5\n",
    "\n",
    "Write a function that takes two 1-dimensional arrays as input and returns the euclidean distance between the two arrays.\n",
    "\n",
    "Euclidean distance is defined as\n",
    "\n",
    "$EDist = \\sqrt{(x_0 - v_0)^2 + (x_1 - v_1)^2 + \\dots + (x_{D-1} - v_{D-1})^2}$\n",
    "\n",
    "The square root of a number in numpy can be calculated as np.sqrt(x), where x is a number or array.\n",
    "\n",
    "Try to complete this exercise with for loops and with vector notation."
   ]
  },
  {
   "cell_type": "code",
   "execution_count": 52,
   "metadata": {
    "tags": []
   },
   "outputs": [
    {
     "name": "stdout",
     "output_type": "stream",
     "text": [
      "8.0\n"
     ]
    }
   ],
   "source": [
    "def distance(x,v):\n",
    "    return np.sqrt(((x-v) ** 2).sum())\n",
    "\n",
    "x = np.array([1,2,3,4])\n",
    "\n",
    "v = np.array([5,6,7,8])\n",
    "\n",
    "print(distance(x,v))"
   ]
  },
  {
   "cell_type": "markdown",
   "metadata": {},
   "source": [
    "## Exercise 6\n",
    "\n",
    "Write code to load the data in the \"iris.csv\" into numpy arrays.\n",
    "\n",
    "The frst 4 columns are the features/attributes. The last column is the\n",
    "class. Simply load the class as a list of strings. Don't forget to convert the\n",
    "dataset into a numpy array. You can use either DictVectorizer or the CSV\n",
    "method on the previous slide to load the features."
   ]
  },
  {
   "cell_type": "code",
   "execution_count": 1,
   "metadata": {},
   "outputs": [
    {
     "name": "stdout",
     "output_type": "stream",
     "text": [
      "5.1,3.5,1.4,0.2,Iris-setosa\n",
      "4.9,3.0,1.4,0.2,Iris-setosa\n",
      "4.7,3.2,1.3,0.2,Iris-setosa\n",
      "4.6,3.1,1.5,0.2,Iris-setosa\n",
      "5.0,3.6,1.4,0.2,Iris-setosa\n",
      "5.4,3.9,1.7,0.4,Iris-setosa\n",
      "4.6,3.4,1.4,0.3,Iris-setosa\n",
      "5.0,3.4,1.5,0.2,Iris-setosa\n",
      "4.4,2.9,1.4,0.2,Iris-setosa\n",
      "4.9,3.1,1.5,0.1,Iris-setosa\n"
     ]
    }
   ],
   "source": [
    "with open('./iris.csv') as in_file:\n",
    "    count = 0\n",
    "    for row in in_file:\n",
    "        print(row.strip())\n",
    "        count += 1\n",
    "        if count == 10:\n",
    "            break"
   ]
  },
  {
   "cell_type": "code",
   "execution_count": 60,
   "metadata": {
    "tags": []
   },
   "outputs": [
    {
     "name": "stdout",
     "output_type": "stream",
     "text": [
      "(150, 4)\n",
      "(150,)\n"
     ]
    }
   ],
   "source": [
    "import csv\n",
    "import numpy as np\n",
    "X = []\n",
    "y = []\n",
    "in_iris = open('iris.csv')\n",
    "irs_csv = csv.reader(in_iris,delimiter=',')\n",
    "for line in irs_csv:\n",
    "    X.append([float(x) for x in line[:-1]])\n",
    "    y.append(line[-1])\n",
    "              \n",
    "in_iris.close()\n",
    "\n",
    "X = np.array(X)\n",
    "y = np.array(y)\n",
    "\n",
    "print(X.shape)\n",
    "print(y.shape)"
   ]
  }
 ],
 "metadata": {
  "kernelspec": {
   "display_name": "Python 3 (ipykernel)",
   "language": "python",
   "name": "python3"
  },
  "language_info": {
   "codemirror_mode": {
    "name": "ipython",
    "version": 3
   },
   "file_extension": ".py",
   "mimetype": "text/x-python",
   "name": "python",
   "nbconvert_exporter": "python",
   "pygments_lexer": "ipython3",
   "version": "3.11.4"
  }
 },
 "nbformat": 4,
 "nbformat_minor": 4
}
