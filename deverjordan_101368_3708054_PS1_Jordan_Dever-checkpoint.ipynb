{
 "cells": [
  {
   "cell_type": "markdown",
   "metadata": {},
   "source": [
    "**Name**: Jordan Dever\n",
    "\n",
    "**abc123**: xfd461\n",
    "\n",
    "# GRADE: 10/10\n",
    "\n",
    "Remember, it is okay to talk to your classmates about the homework, but do not share solutions. You should complete the homework on your own. Below, please list all of your peers (\"collaborators\") that you discussed the homework with.\n",
    "\n",
    "**Colaborators**:\n",
    "- Name 1\n",
    "- Name 2\n",
    "- Name 3\n",
    "\n",
    "# Problem Set 1 (PS 1)\n",
    "\n",
    "Complete the 4 functions as directed to:\n",
    "\n",
    "- validate the format of a string\n",
    "- compute probabilities and store them in a lookup table (dictionary)\n",
    "- generate a string deterministically based on a given string\n",
    "\n",
    "Each function is worth 1 to 4 points, for a total of 10 points. Other assignments will be more complicated, and worth more points, for this I just want to make sure you are in the correct course. I care mainly about correctness of the implementation, but reserve the right to deduct points for code that is difficult to read.\n",
    "\n",
    "This assignment will test your skills at implementing algorithms in Python from scratch. If this is your first experience with traditional programming assignments, then it may take some time to figure everything out. Please schedule time to meet with meet with me if you need help. I recommend you start early. For others with significant programming experience, it will not take long.\n",
    "\n",
    "## Submission Instructions\n",
    "\n",
    "After completing the exercises below, generate a PDF *or* HTML of the code **with** outputs. Then, create a zip file containing both the completed exercise and the generated PDF/HTML. You are **required** to check the PDF/HTML to make sure all the code **and** outputs are clearly visible and easy to read. If your code goes off the page, you should reduce the line size. I generally recommend not going over 80 characters.\n",
    "\n",
    "Finally, name the zip file using a combination of the assigment ID and your name, e.g., ps1_rios.zip. Submit your homework on Blackboard.\n",
    "\n",
    "## Preliminary Information\n",
    "\n",
    "For the homework exercises, you will need to write code in the specified functions. The variable specified in the open and close parenthesis \"my_function(**variable_name**)\" of the function should **NOT** be reassigned. They will hold important information---such as the string you should process---which is required to complete each task. Your job is to write code that returns the required value for each exercise. \n",
    "\n",
    "Please refer to the example below to understand how functions work in python:\n",
    "```python\n",
    "def my_function(my_variable):\n",
    "    # Your code goes here\n",
    "    print(\"The parameter is {}\".format(my_variable))\n",
    "    new_variable = my_variable + 100\n",
    "    return new_variable\n",
    "\n",
    "# my_variable in my_function() will be assigned 42.\n",
    "return_value = my_function(42) # return value will be asigned the value given by the \"return\" in my_function()\n",
    "print(\"The function returned the value {}\".format(return_value))\n",
    "```\n",
    "\n",
    "If you run the code above, you will get the following output:\n",
    "```\n",
    "The parameter is 42\n",
    "The function returned the value 142\n",
    "```\n",
    "\n",
    "Please note that you do **NOT** need to create new functions. The functions have already been specified. You simply need to fill them out with code. "
   ]
  },
  {
   "cell_type": "markdown",
   "metadata": {},
   "source": [
    "## Exercise 1 (4 points)"
   ]
  },
  {
   "cell_type": "markdown",
   "metadata": {},
   "source": [
    "Checks whether the string is a valid employee ID. An employee ID is valid if and only if it consists only of 6-10 alphabetic characters (letters), followed by 2 numeric digits. Implement the validation  **without** any external libraries (i.e., do not use the \"re\" package). You may use the .isalpha() and .isdigit() methods, variables, standard data structures such as lists, if statements, loops, etc."
   ]
  },
  {
   "cell_type": "code",
   "execution_count": 3,
   "metadata": {},
   "outputs": [
    {
     "name": "stdout",
     "output_type": "stream",
     "text": [
      "True\n",
      "False\n",
      "True\n",
      "12\n"
     ]
    }
   ],
   "source": [
    "# Example use of .isalpha() and .isdigit(). This code is just to help, you can delete this cell if you want.\n",
    "print(\"32\".isdigit()) # if the string is a digit, .isdigit() will return True, otherwise it returns false\n",
    "print(\"lkjsdaf\".isdigit()) # Here is an example of .isdigit() returning False\n",
    "print(\"lskdjf\".isalpha()) # In this case we can check if all characters are \"alphabetic\" by using .isalpha() it returns True here.\n",
    "print(\"ab1\".isalpha()) # Here is an example of .isalpha() resulting in a False\n",
    "print(len(\"ALKJDSLKFJDS\")) # You can check how many characters are in a string by using the len() function.\n"
   ]
  },
  {
   "cell_type": "code",
   "execution_count": 3,
   "metadata": {},
   "outputs": [
    {
     "name": "stdout",
     "output_type": "stream",
     "text": [
      "DS\n",
      "ALKJDSLKFJ\n"
     ]
    },
    {
     "data": {
      "text/plain": [
       "False"
      ]
     },
     "execution_count": 3,
     "metadata": {},
     "output_type": "execute_result"
    }
   ],
   "source": [
    "# Write code here. Do NOT delete this cell.\n",
    "test = 'AbcdEf00'\n",
    "t = '$0RQLpCHz49'\n",
    "x = 'ALKJDSLKFJDS'\n",
    "def validate(s): # INSTRUCTOR: This does not handle the size constraint. -2 points.\n",
    "    digit = s[-2:]\n",
    "    print(digit)\n",
    "    num = digit.isdigit()\n",
    "    alpha = str(s[:-2])\n",
    "    print(alpha)\n",
    "    char = alpha.isalpha()\n",
    "    if (num and char) == True:\n",
    "        return True\n",
    "    else:\n",
    "        return False\n",
    "     # The code should return a boolean True or boolean False, depending on the input.\n",
    "validate(x)"
   ]
  },
  {
   "cell_type": "code",
   "execution_count": null,
   "metadata": {},
   "outputs": [],
   "source": [
    "# INSTRUCTOR: Here is a solution.\n",
    "\n",
    "def validate(s):\n",
    "    if len(s) >= 8 and len(s) <= 12 and s[-2:].isdigit() and s[:-2].isalpha():\n",
    "        return True\n",
    "    return False"
   ]
  },
  {
   "cell_type": "code",
   "execution_count": 4,
   "metadata": {},
   "outputs": [
    {
     "name": "stdout",
     "output_type": "stream",
     "text": [
      "00\n",
      "AbcdEf\n",
      "49\n",
      "$0RQLpCHz\n",
      "00\n",
      "AA\n"
     ]
    },
    {
     "ename": "AssertionError",
     "evalue": "",
     "output_type": "error",
     "traceback": [
      "\u001b[0;31m---------------------------------------------------------------------------\u001b[0m",
      "\u001b[0;31mAssertionError\u001b[0m                            Traceback (most recent call last)",
      "Cell \u001b[0;32mIn[4], line 3\u001b[0m\n\u001b[1;32m      1\u001b[0m \u001b[38;5;28;01massert\u001b[39;00m(validate(\u001b[38;5;124m'\u001b[39m\u001b[38;5;124mAbcdEf00\u001b[39m\u001b[38;5;124m'\u001b[39m) \u001b[38;5;241m==\u001b[39m \u001b[38;5;28;01mTrue\u001b[39;00m)\n\u001b[1;32m      2\u001b[0m \u001b[38;5;28;01massert\u001b[39;00m(validate(\u001b[38;5;124m'\u001b[39m\u001b[38;5;124m$0RQLpCHz49\u001b[39m\u001b[38;5;124m'\u001b[39m) \u001b[38;5;241m==\u001b[39m \u001b[38;5;28;01mFalse\u001b[39;00m)\n\u001b[0;32m----> 3\u001b[0m \u001b[38;5;28;01massert\u001b[39;00m(validate(\u001b[38;5;124m'\u001b[39m\u001b[38;5;124mAA00\u001b[39m\u001b[38;5;124m'\u001b[39m) \u001b[38;5;241m==\u001b[39m \u001b[38;5;28;01mFalse\u001b[39;00m) \n\u001b[1;32m      4\u001b[0m \u001b[38;5;28;01massert\u001b[39;00m(validate(\u001b[38;5;124m'\u001b[39m\u001b[38;5;124mAAAAAAAAAAAAAAAAAAAAAAAAAAAAAAAAAAAAAAAA00\u001b[39m\u001b[38;5;124m'\u001b[39m) \u001b[38;5;241m==\u001b[39m \u001b[38;5;28;01mFalse\u001b[39;00m) \n\u001b[1;32m      5\u001b[0m \u001b[38;5;28;01massert\u001b[39;00m(validate(\u001b[38;5;124m'\u001b[39m\u001b[38;5;124mAAAAAAAAAA00\u001b[39m\u001b[38;5;124m'\u001b[39m) \u001b[38;5;241m==\u001b[39m \u001b[38;5;28;01mTrue\u001b[39;00m) \n",
      "\u001b[0;31mAssertionError\u001b[0m: "
     ]
    }
   ],
   "source": [
    "assert(validate('AbcdEf00') == True)\n",
    "assert(validate('$0RQLpCHz49') == False)\n",
    "assert(validate('AA00') == False) \n",
    "assert(validate('AAAAAAAAAAAAAAAAAAAAAAAAAAAAAAAAAAAAAAAA00') == False) \n",
    "assert(validate('AAAAAAAAAA00') == True) \n",
    "assert(validate('AAAAAAAAA0A') == False)\n",
    "assert(validate('AAAAAAAA0A00') == False)\n",
    "print(\"Asserts Completed Successfully\")\n"
   ]
  },
  {
   "cell_type": "markdown",
   "metadata": {},
   "source": [
    "The lines below give example inputs and correct outputs using asserts, and can be run to test the code. Passing these tests is necessary, but **NOT** sufficient to guarantee your implementation is correct. You may add additional test cases, but do not remove any tests."
   ]
  },
  {
   "cell_type": "code",
   "execution_count": 31,
   "metadata": {},
   "outputs": [
    {
     "name": "stdout",
     "output_type": "stream",
     "text": [
      "00\n",
      "AbcdEf\n",
      "49\n",
      "$0RQLpCHz\n",
      "Asserts Completed Successfully\n"
     ]
    }
   ],
   "source": [
    "assert(validate('AbcdEf00') == True)\n",
    "assert(validate('$0RQLpCHz49') == False)\n",
    "print(\"Asserts Completed Successfully\")"
   ]
  },
  {
   "cell_type": "markdown",
   "metadata": {},
   "source": [
    "## Exercise 2 (3 points)\n",
    "\n",
    "Given a sequence of the DNA bases {A, C, G, T}, stored as a string, returns a probability table in a data structure such that one base can be looked up to get the probability p(base). More specifically, write code to return a dictionary such that the value for each key is the probably of that key occuring the the string. For example, give the string \"abb\", p(a) is equal to $\\frac{1}{3}$ and p(b) is $\\frac{2}{3}$ Simply, divide the number of times each character appears by the total number of characters. So, the code should return the following dictionary:\n",
    "\n",
    "```{\"a\": 0.33333, \"b\": 0.6666}```\n",
    "\n",
    "You may use the collections module, but no other libraries."
   ]
  },
  {
   "cell_type": "code",
   "execution_count": 51,
   "metadata": {},
   "outputs": [
    {
     "data": {
      "text/plain": [
       "{'A': 0.2222222222222222,\n",
       " 'T': 0.2777777777777778,\n",
       " 'C': 0.2222222222222222,\n",
       " 'G': 0.2777777777777778}"
      ]
     },
     "execution_count": 51,
     "metadata": {},
     "output_type": "execute_result"
    }
   ],
   "source": [
    "test = 'ATCGATTGAGCTCTAGCG'\n",
    "def dna_prob1(seq):\n",
    "    dna_dict = {}\n",
    "    seq_total = 0\n",
    "    for base in seq:\n",
    "        seq_total += 1\n",
    "        dna_dict[base] = dna_dict.get(base, 0) + 1\n",
    "    for key in dna_dict:\n",
    "        dna_dict[key] =  float(dna_dict[key] / seq_total)\n",
    "    return dna_dict # The code should return a dictionary\n",
    "dna_prob1(test)"
   ]
  },
  {
   "cell_type": "code",
   "execution_count": null,
   "metadata": {},
   "outputs": [],
   "source": [
    "# INSTRUCTOR: Here is a another method\n",
    "\n",
    "def dna_prob1(seq):\n",
    "    probs = {}\n",
    "    for x in seq:\n",
    "        probs[x] = probs.get(x, 0) + 1/len(seq)\n",
    "    return probs"
   ]
  },
  {
   "cell_type": "markdown",
   "metadata": {},
   "source": [
    "The lines below give example inputs and correct outputs using asserts, and can be run to test the code. Passing these tests is **NOT** sufficient to guarantee your implementation is correct. You may add additional test cases, but do not remove any tests."
   ]
  },
  {
   "cell_type": "code",
   "execution_count": 49,
   "metadata": {},
   "outputs": [
    {
     "name": "stdout",
     "output_type": "stream",
     "text": [
      "Asserts Completed Successfully\n"
     ]
    }
   ],
   "source": [
    "tbl = dna_prob1('ATCGATTGAGCTCTAGCG')\n",
    "assert(tbl['T'] == 5/18)\n",
    "assert(tbl['G'] == 5/18)\n",
    "assert(tbl['C'] == 4/18)\n",
    "print(\"Asserts Completed Successfully\")"
   ]
  },
  {
   "cell_type": "markdown",
   "metadata": {},
   "source": [
    "## Exercise 3 (3 points)\n",
    "Given a string representing a sequence of DNA bases, returns the paired sequence, also as a string, where A is always paired with T and C with G, i.e., replace A with T, T with A, ...\n",
    "\n",
    "Do not use any libraries.\n",
    "\n",
    "Hint: this can be done in one line. (More than one line is okay too.)"
   ]
  },
  {
   "cell_type": "code",
   "execution_count": 56,
   "metadata": {},
   "outputs": [
    {
     "data": {
      "text/plain": [
       "'TAGCTAACTCGAGATCGC'"
      ]
     },
     "execution_count": 56,
     "metadata": {},
     "output_type": "execute_result"
    }
   ],
   "source": [
    "test = 'ATCGATTGAGCTCTAGCG'\n",
    "def dna_bp(seq):\n",
    "    temp_seq = seq.replace('A','1').replace('T','2').replace('C','3').replace('G','4')\n",
    "    new_seq = temp_seq.replace('1','T').replace('2','A').replace('3','G').replace('4','C')\n",
    "    return new_seq # The code should return a string\n",
    "# A -> T, T -> A, C -> G, G -> C\n",
    "dna_bp(test)"
   ]
  },
  {
   "cell_type": "code",
   "execution_count": null,
   "metadata": {},
   "outputs": [],
   "source": [
    "# Here is another solution\n",
    "\n",
    "def dna_bp(seq):\n",
    "    dna_bp = \"\"\n",
    "    for i in seq:\n",
    "        if i == \"A\":\n",
    "            dna_bp += \"T\"\n",
    "        elif i == \"C\":\n",
    "            dna_bp += \"G\"\n",
    "        elif i == \"T\":\n",
    "            dna_bp += \"A\"\n",
    "        elif i == \"G\":\n",
    "            dna_bp += \"C\"\n",
    "    return dna_bp"
   ]
  },
  {
   "cell_type": "markdown",
   "metadata": {},
   "source": [
    "The lines below give example inputs and correct outputs using asserts, and can be run to test the code. Passing these tests is **NOT** sufficient to guarantee your implementation is correct. You may add additional test cases, but do not remove any tests."
   ]
  },
  {
   "cell_type": "code",
   "execution_count": 57,
   "metadata": {},
   "outputs": [
    {
     "name": "stdout",
     "output_type": "stream",
     "text": [
      "Asserts Completed Successfully\n"
     ]
    }
   ],
   "source": [
    "assert(dna_bp('ATCGATTGAGCTCTAGCG') == 'TAGCTAACTCGAGATCGC')\n",
    "print(\"Asserts Completed Successfully\")"
   ]
  },
  {
   "cell_type": "markdown",
   "metadata": {},
   "source": [
    "## Extra Credit (2 points)\n",
    "\n",
    "Given a sequence of the DNA bases {A, C, G, T}, stored as a string, returns a conditional probability table in a data structure such that one base (b1) can be looked up, and then a second (b2), to get the probability p(b2 | b1) of the second base occurring immediately after the first. (Assumes the length of seq is >= 3, and that the probability of any b1 and b2 which have never been seen together is 0. Ignores the probability that b1 will be followed by the end of the string character.)\n",
    "\n",
    "Here is an example:\n",
    "```\n",
    "GAAAGG\n",
    "```\n",
    "\n",
    "P(A | G) = probability of A given the letter G occured directly before it = 1/2 = 0.5. The denominator is 2 instead of 3 because the last G does not have a letter after it. The denominator should be the number of times a letter appears with annother letter directly after it.\n",
    "\n",
    "P( G | G ) = probability of G given the letter G occured directly before it = 1/2 = 0.5\n",
    "\n",
    "P(G | A) = probability of G given the letter A occured directly before it = 1/3 = 0.33\n",
    "\n",
    "P(A | A) = probability of A given the letter A occured directly before it = 2/3 = .66\n",
    "\n",
    "The dictionary returned by dna_prob2 should be:\n",
    "\n",
    "```\n",
    "{'A': {'A': 2/3, 'G': 1/3, 'T': 0, 'C': 0}, 'G': {'A': 1/2, 'G': 1/2, 'T': 0, 'C': 0}, 'T': {'A': 0, 'T': 0, 'G': 0, 'C': 0}, 'C': {'A': 0, 'G': 0, 'T': 0, 'C': 0}}\n",
    "```\n",
    "\n",
    "Notice this is a \"nested\" dictionary, where the value of the outer dictionary is also a dictionary. All of the keys are strings.\n",
    "\n",
    "**Note**: 2 extra points adds 20% to your final homework grade. This can improve your grade substantially. So, I recommend working on this, if you are worried about the quizzes and Midterm."
   ]
  },
  {
   "cell_type": "code",
   "execution_count": 153,
   "metadata": {},
   "outputs": [
    {
     "data": {
      "text/plain": [
       "{'G': {'G': 0.0, 'A': 0.5, 'C': 0.5, 'T': 0.0},\n",
       " 'A': {'G': 0.5, 'A': 0.0, 'C': 0.0, 'T': 0.5},\n",
       " 'C': {'G': 0.5, 'A': 0.0, 'C': 0.0, 'T': 0.5},\n",
       " 'T': {'G': 0.2, 'A': 0.2, 'C': 0.4, 'T': 0.2}}"
      ]
     },
     "execution_count": 153,
     "metadata": {},
     "output_type": "execute_result"
    }
   ],
   "source": [
    "def dna_prob2(seq):\n",
    "    #INSTRUCTOR: Great work. +2 points\n",
    "    seq_total = 0\n",
    "    dna = {'G','C','T','A'}\n",
    "    dna_nest = {dna_out: {dna_in: 0 for dna_in in dna} for dna_out in dna}\n",
    "    seq_len = len(seq)\n",
    "    cnt = 0\n",
    "    for p in range(seq_len - 1):\n",
    "        dna_out = seq[p]\n",
    "        dna_in = seq[p+1]\n",
    "        dna_nest[(dna_out)][(dna_in)] += 1\n",
    "        #dna_nest[(dna_out)][(dna_in)] = dna_nest.get((dna_out,dna_in), 0) + 1\n",
    "    for dna_out in dna_nest:\n",
    "        seq_total = sum(dna_nest[dna_out].values())\n",
    "        if seq_total > 0:\n",
    "            for dna_in in dna_nest[dna_out]:\n",
    "                dna_nest[(dna_out)][(dna_in)] /= (seq_total)\n",
    "        else:\n",
    "            for dna_in in dna_nest[dna_out]:\n",
    "                dna_nest[(dna_out)][(dna_in)] = 0\n",
    "    #print(seq_total)\n",
    "    return dna_nest\n",
    "    # The code should return a dictionary\n",
    "dna_prob2('ATCGATTGAGCTCTAGCG')"
   ]
  },
  {
   "cell_type": "code",
   "execution_count": null,
   "metadata": {},
   "outputs": [],
   "source": [
    "# INSTRUCTOR: Here is a another version\n",
    "\n",
    "def dna_prob2(seq):\n",
    "    num = {\"A\": {\"A\": 0, \"C\": 0, \"T\": 0, \"G\": 0},\n",
    "           \"C\": {\"A\": 0, \"C\": 0, \"T\": 0, \"G\": 0},\n",
    "           \"T\": {\"A\": 0, \"C\": 0, \"T\": 0, \"G\": 0},\n",
    "           \"G\": {\"A\": 0, \"C\": 0, \"T\": 0, \"G\": 0}}\n",
    "    \n",
    "    denom = {\"A\": 0, \"C\": 0, \"T\": 0, \"G\": 0}\n",
    "    \n",
    "    # For that will create the denom (ignore last char)\n",
    "    for s in seq[:-1]:\n",
    "        denom[s] += 1\n",
    "    \n",
    "    # for loop for the numerator\n",
    "    for s1, s2 in zip(seq, seq[1:]):\n",
    "        num[s1][s2] += 1/denom[s1]\n",
    "\n",
    "    return num # The code should return a dictionary"
   ]
  },
  {
   "cell_type": "markdown",
   "metadata": {},
   "source": [
    "The lines below give example inputs and correct outputs using asserts, and can be run to test the code. Passing these tests is **NOT** sufficient to guarantee your implementation is correct. You may add additional test cases, but do not remove any tests."
   ]
  },
  {
   "cell_type": "code",
   "execution_count": 154,
   "metadata": {},
   "outputs": [
    {
     "name": "stdout",
     "output_type": "stream",
     "text": [
      "Asserts Completed Successfully\n"
     ]
    }
   ],
   "source": [
    "tbl = dna_prob2('ATCGATTGAGCTCTAGCG')\n",
    "assert(tbl['T']['T'] == 0.2)\n",
    "assert(tbl['G']['A'] == 0.5)\n",
    "assert(tbl['C']['G'] == 0.5)\n",
    "print(\"Asserts Completed Successfully\")"
   ]
  }
 ],
 "metadata": {
  "kernelspec": {
   "display_name": "Python 3 (ipykernel)",
   "language": "python",
   "name": "python3"
  },
  "language_info": {
   "codemirror_mode": {
    "name": "ipython",
    "version": 3
   },
   "file_extension": ".py",
   "mimetype": "text/x-python",
   "name": "python",
   "nbconvert_exporter": "python",
   "pygments_lexer": "ipython3",
   "version": "3.8.12"
  }
 },
 "nbformat": 4,
 "nbformat_minor": 4
}
