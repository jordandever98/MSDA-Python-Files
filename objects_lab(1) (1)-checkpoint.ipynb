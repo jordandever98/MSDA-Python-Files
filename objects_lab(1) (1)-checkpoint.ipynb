{
 "cells": [
  {
   "cell_type": "markdown",
   "id": "0f6469e1-be60-472b-9333-66c920aa83ef",
   "metadata": {},
   "source": [
    "# NOTES"
   ]
  },
  {
   "cell_type": "code",
   "execution_count": 2,
   "id": "b59c4235-ae91-4c96-9eb9-372059e5d70b",
   "metadata": {},
   "outputs": [],
   "source": [
    "# Midterm\n",
    "\n",
    "# Classes\n",
    "\n",
    "## Defining Classes Attributes and Methods\n",
    "\n",
    "## Using Classes\n",
    "\n",
    "## Operator Overloading\n",
    "\n",
    "## Special Methods"
   ]
  },
  {
   "cell_type": "markdown",
   "id": "bff54cb7-4a2a-4f5c-bd4e-1cb783852e61",
   "metadata": {},
   "source": [
    "# In-Class Exercises"
   ]
  },
  {
   "cell_type": "markdown",
   "id": "059ab0a3-fc94-4ad3-aa9e-5dd35154e8e2",
   "metadata": {
    "tags": []
   },
   "source": [
    "## Exercise 1\n",
    "\n",
    "For today's exercies, we will implement a class representing a vector. Vectors are essential for all things in data science, whether it is statistical analysis using linear regression or neural networks. All modern statistical and machine learning packages require that the input be a vector (or matrix) of numbers. Hence, having a basic understanding of how they work is important when developing new real-world systems.\n",
    "\n",
    "For Exercise 1, you will complete the method \"size()\" and \"magnitude()\". The method \"size()\" should return an integer indicating how many items are in the vector. For instance, a vector [1,1,1] has a size of 3, while the vector [1,1] has a size of 2. **HINT:** We are using lists to store items in a vector, you can get size with len().\n",
    "\n",
    "The magnitude() method should return a float indicating the magnitude of the vector. Magnitude is defined as\n",
    "$$\\text{magnitude} = \\sqrt{\\sum_i^N x_i^2} $$\n",
    "where $N$ is the total number of items in the vector. Hence, given the vector [1,2,3], the magnitude would be calculated as\n",
    "$$ \\sqrt{1^2 + 2^2 + 3^2} = \\sqrt{1 + 4 + 9} = \\sqrt{14} \\approx 3.74 $$\n",
    "\n",
    "**TIME**: 15 minutes\n"
   ]
  },
  {
   "cell_type": "code",
   "execution_count": null,
   "id": "f9a9df53-ba62-4860-9603-b37eb67bbddc",
   "metadata": {},
   "outputs": [],
   "source": [
    "# NO NEED TO MODIFY THIS CELL\n",
    "def sqrt(x):\n",
    "    return x**.5"
   ]
  },
  {
   "cell_type": "code",
   "execution_count": 29,
   "id": "5bdc909e-c28c-46bd-b62d-144fa59ec2f3",
   "metadata": {},
   "outputs": [],
   "source": [
    "class Vector:    \n",
    "    def __init__(self, items):\n",
    "        # YOU DO NOT NEED TO MODIFY THIS METHOD\n",
    "        # Checks if all items in list are int or float\n",
    "        assert(all([isinstance(x, int) or\n",
    "                    isinstance(x, float)\n",
    "                    for x in items]))\n",
    "        \n",
    "        self.items = items # Assigns items as an instance variable\n",
    "    \n",
    "    def size(self):\n",
    "        # COMPLETE THIS CODE FOR EX 1\n",
    "        # HINT: Take the \"len\" of self.items\n",
    "        pass # Remove this line when you code this\n",
    "    \n",
    "    def magnitude(self):\n",
    "        # COMPLETE THIS CODE FOR EX 1\n",
    "        # HINT: Use self.items\n",
    "        pass # Remove this line when you code this\n",
    "    \n",
    "    def dot(self, v2):\n",
    "        # COMPLETE THIS CODE FOR EX 2\n",
    "        # Start here, then do the __mul__ method\n",
    "        pass # Remove this line when you code this\n",
    "    \n",
    "    def __mul__(self, v2):\n",
    "        # COMPLETE THIS CODE FOR EX 2\n",
    "        pass # Remove this line when you code this"
   ]
  },
  {
   "cell_type": "code",
   "execution_count": 21,
   "id": "3542c1f7-0ec5-4841-91f3-5f530382d42d",
   "metadata": {},
   "outputs": [],
   "source": [
    "v1 = Vector([1,2,3])\n",
    "v2 = Vector([1,2,3,4])\n",
    "assert(v1.size() == 3) # Check if size is correct.\n",
    "assert(v2.size() == 4) # Check if size is correct.\n",
    "assert(sqrt(1+4+9) == v2.magnitude()) # Check if magnitude is correct.\n",
    "assert(sqrt(1+4+9+16) == v2.magnitude()) # Check if magnitude is correct.\n",
    "print(\"Test Cases Completed Successfully\")"
   ]
  },
  {
   "cell_type": "markdown",
   "id": "eaa6a3b1-0468-4844-ba00-f86d64d62814",
   "metadata": {},
   "source": [
    "## Exercise 2\n",
    "\n",
    "\n",
    "For this exercise, you should implement the \"dot()\" and \"\\_\\_mul\\_\\_()\" methods to perform a dot (inner) preduct. The inner prodcut is important for models such as Linear Regression, Logistic Regression, and Neural Networks. Formally, the dot product is defined as\n",
    "$$ dot(\\mathbf{x}, \\mathbf{y}) = \\mathbf{x}^T \\mathbf{y} = \\sum_i^N x_i y_i$$\n",
    "where $N$ is the number of items (size) of $\\mathbf{x}$ and $\\mathbf{y}$. For example, given two vectors $x = [1,2,3]$ and $y = [4,5,6]$, we can calcuate the dot product as\n",
    "$$1*4 + 2*5 + 6*3 = 4 + 10 + 18 = 32 $$\n",
    "Intuively, we are just multiplying and summing each corresponding element in both vectors. This will be important to know after the Midterm when we start using machine learning packages :) \n",
    "\n",
    "**TIME**: 15 minutes"
   ]
  },
  {
   "cell_type": "code",
   "execution_count": null,
   "id": "438629ec-7a38-4e8c-9592-544a1aced2a2",
   "metadata": {},
   "outputs": [],
   "source": [
    "# Test cases. You can modify the code in the Vector class defined above.\n",
    "v1 = Vector([3,3,3])\n",
    "v2 = Vector([2,2,2])\n",
    "\n",
    "assert(v1.dot(v2) == 18)\n",
    "assert(v2.dot(v2) == 12)\n",
    "assert(v1 * v2 == 18)\n",
    "assert(v2 * v2 == 12)\n",
    "print(\"Test Cases Completed Successfully\")"
   ]
  }
 ],
 "metadata": {
  "kernelspec": {
   "display_name": "Python 3 (ipykernel)",
   "language": "python",
   "name": "python3"
  },
  "language_info": {
   "codemirror_mode": {
    "name": "ipython",
    "version": 3
   },
   "file_extension": ".py",
   "mimetype": "text/x-python",
   "name": "python",
   "nbconvert_exporter": "python",
   "pygments_lexer": "ipython3",
   "version": "3.8.12"
  }
 },
 "nbformat": 4,
 "nbformat_minor": 5
}
