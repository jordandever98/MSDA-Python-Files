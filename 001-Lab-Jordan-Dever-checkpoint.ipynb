{
 "cells": [
  {
   "cell_type": "markdown",
   "metadata": {
    "tags": []
   },
   "source": [
    "# Python as a Calculator\n",
    "\n",
    "Blank notebook to be used for class exercises.\n",
    "\n",
    "Name: Jordan Dever\n",
    "\n",
    "abc123: xfd461"
   ]
  },
  {
   "cell_type": "markdown",
   "metadata": {},
   "source": [
    "## Exercise 1\n",
    "\n",
    "Change Hello to Goodbye, then run the cell."
   ]
  },
  {
   "cell_type": "code",
   "execution_count": 1,
   "metadata": {
    "tags": []
   },
   "outputs": [
    {
     "name": "stdout",
     "output_type": "stream",
     "text": [
      "Goodbye World!\n"
     ]
    }
   ],
   "source": [
    "print(\"Goodbye World!\")"
   ]
  },
  {
   "cell_type": "markdown",
   "metadata": {},
   "source": [
    "## Exercise 2\n",
    "In the cell below, calculate the following expressions (cast to integers using int()):\n",
    "\n",
    "| a | b|\n",
    "----|---- |\n",
    "| 12 + 4  | 12 + 5 |\n",
    "| 12 -4   | 12 - 5 |\n",
    "| 12 $\\times$ 4 | 12 $\\times$ 5 |\n",
    "| 12 $\\div$ 4 | 12 $\\div$ 5|\n",
    "| $12^4$ | $12^5$ |\n",
    "\n",
    "Which is wrong?"
   ]
  },
  {
   "cell_type": "code",
   "execution_count": 2,
   "metadata": {},
   "outputs": [
    {
     "data": {
      "text/plain": [
       "16"
      ]
     },
     "execution_count": 2,
     "metadata": {},
     "output_type": "execute_result"
    }
   ],
   "source": [
    "# This is  a comment. Make sure you wrap all the expressions like the example below.\n",
    "# Also, create a new cell for each expression (i.e., press the + button in Jupyter Lab)\n",
    "int(12 + 4) # I have done the first one for you. You can create new cells for the others."
   ]
  },
  {
   "cell_type": "code",
   "execution_count": 12,
   "metadata": {
    "tags": []
   },
   "outputs": [
    {
     "name": "stdout",
     "output_type": "stream",
     "text": [
      "[16, 8, 48, 3, 20736]\n"
     ]
    }
   ],
   "source": [
    "#a\n",
    "a = [int(12+4),\n",
    "int(12-4),\n",
    "int(12*4),\n",
    "int(12/4),\n",
    "int(12**4)]\n",
    "print(a)"
   ]
  },
  {
   "cell_type": "code",
   "execution_count": 13,
   "metadata": {
    "tags": []
   },
   "outputs": [
    {
     "name": "stdout",
     "output_type": "stream",
     "text": [
      "[17, 7, 60, 2, 248832]\n"
     ]
    }
   ],
   "source": [
    "#b\n",
    "b = [int(12+5),\n",
    "     int(12-5),\n",
    "     int(12*5),\n",
    "     int(12/5),\n",
    "     int(12**5)]\n",
    "print(b)"
   ]
  },
  {
   "cell_type": "markdown",
   "metadata": {},
   "source": [
    "## Exercise 3\n",
    "\n",
    "In a cell for each item, alculate the following expressions one at a time:\n",
    "\n",
    "1. 12.0 + 4.0\n",
    "2. 12.0 $\\div$ 4.0\n",
    "3. $25.0^{0.5}$\n",
    "4. $5.0^{-1.0}$\n",
    "5. 5.0 $\\div$ 2"
   ]
  },
  {
   "cell_type": "code",
   "execution_count": 14,
   "metadata": {
    "tags": []
   },
   "outputs": [
    {
     "data": {
      "text/plain": [
       "16.0"
      ]
     },
     "execution_count": 14,
     "metadata": {},
     "output_type": "execute_result"
    }
   ],
   "source": [
    "#1\n",
    "12.0 + 4.0"
   ]
  },
  {
   "cell_type": "code",
   "execution_count": 15,
   "metadata": {
    "tags": []
   },
   "outputs": [
    {
     "data": {
      "text/plain": [
       "3.0"
      ]
     },
     "execution_count": 15,
     "metadata": {},
     "output_type": "execute_result"
    }
   ],
   "source": [
    "#2\n",
    "12.0 / 4.0"
   ]
  },
  {
   "cell_type": "code",
   "execution_count": 17,
   "metadata": {
    "tags": []
   },
   "outputs": [
    {
     "data": {
      "text/plain": [
       "5.0"
      ]
     },
     "execution_count": 17,
     "metadata": {},
     "output_type": "execute_result"
    }
   ],
   "source": [
    "#3\n",
    "25.0 ** 0.5"
   ]
  },
  {
   "cell_type": "code",
   "execution_count": 45,
   "metadata": {
    "tags": []
   },
   "outputs": [
    {
     "data": {
      "text/plain": [
       "0.2"
      ]
     },
     "execution_count": 45,
     "metadata": {},
     "output_type": "execute_result"
    }
   ],
   "source": [
    "#4\n",
    "5.0**-1.0"
   ]
  },
  {
   "cell_type": "code",
   "execution_count": 19,
   "metadata": {
    "tags": []
   },
   "outputs": [
    {
     "data": {
      "text/plain": [
       "2.5"
      ]
     },
     "execution_count": 19,
     "metadata": {},
     "output_type": "execute_result"
    }
   ],
   "source": [
    "#5\n",
    "5.0 / 2"
   ]
  },
  {
   "cell_type": "markdown",
   "metadata": {},
   "source": [
    "## Exercise 4\n",
    "\n",
    "First, predict what the python result will be. Next, in the cell below, calculate the following expressions one at a time:\n",
    "\n",
    "1. 'Hello, ' + \"world!\"\n",
    "2. 'Hello!' * 3\n",
    "3. '' * 10000000000 # two adjacent single quotes\n",
    "4. '4' + '2'"
   ]
  },
  {
   "cell_type": "code",
   "execution_count": 21,
   "metadata": {
    "tags": []
   },
   "outputs": [
    {
     "name": "stdout",
     "output_type": "stream",
     "text": [
      "Hello, world!\n"
     ]
    }
   ],
   "source": [
    "#1 Hello, world!\n",
    "print('Hello, ' + \"world!\")"
   ]
  },
  {
   "cell_type": "code",
   "execution_count": 22,
   "metadata": {
    "tags": []
   },
   "outputs": [
    {
     "name": "stdout",
     "output_type": "stream",
     "text": [
      "Hello! Hello! Hello! \n"
     ]
    }
   ],
   "source": [
    "#2 Hello!Hello!Hello!\n",
    "print('Hello! ' * 3)"
   ]
  },
  {
   "cell_type": "code",
   "execution_count": 25,
   "metadata": {
    "tags": []
   },
   "outputs": [
    {
     "name": "stdout",
     "output_type": "stream",
     "text": [
      "\n"
     ]
    }
   ],
   "source": [
    "#3\n",
    "print('' * 10000000000)"
   ]
  },
  {
   "cell_type": "code",
   "execution_count": 26,
   "metadata": {
    "tags": []
   },
   "outputs": [
    {
     "name": "stdout",
     "output_type": "stream",
     "text": [
      "42\n"
     ]
    }
   ],
   "source": [
    "#4 42?\n",
    "print('4' + '2')"
   ]
  },
  {
   "cell_type": "markdown",
   "metadata": {},
   "source": [
    "## Exercise 5\n",
    "\n",
    "Predict whether Python will print True or False before you type the following expressions.\n",
    "\n",
    "1. 1 > 2 or 2 > 1\n",
    "2. 1 > 2 or not 2 > 1\n",
    "3. not True\n",
    "4. 1 > 2 or True"
   ]
  },
  {
   "cell_type": "code",
   "execution_count": 28,
   "metadata": {
    "tags": []
   },
   "outputs": [
    {
     "name": "stdout",
     "output_type": "stream",
     "text": [
      "True\n"
     ]
    }
   ],
   "source": [
    "#1 True\n",
    "print(1 > 2 or 2 > 1)"
   ]
  },
  {
   "cell_type": "code",
   "execution_count": 29,
   "metadata": {
    "tags": []
   },
   "outputs": [
    {
     "name": "stdout",
     "output_type": "stream",
     "text": [
      "False\n"
     ]
    }
   ],
   "source": [
    "#2 False\n",
    "print(1 > 2 or not 2 > 1)"
   ]
  },
  {
   "cell_type": "code",
   "execution_count": 30,
   "metadata": {
    "tags": []
   },
   "outputs": [
    {
     "name": "stdout",
     "output_type": "stream",
     "text": [
      "False\n"
     ]
    }
   ],
   "source": [
    "#3 False\n",
    "print(not True)"
   ]
  },
  {
   "cell_type": "code",
   "execution_count": 31,
   "metadata": {
    "tags": []
   },
   "outputs": [
    {
     "name": "stdout",
     "output_type": "stream",
     "text": [
      "True\n"
     ]
    }
   ],
   "source": [
    "#4 True\n",
    "print(1 > 2 or True)"
   ]
  },
  {
   "cell_type": "markdown",
   "metadata": {},
   "source": [
    "## Exercise 6\n",
    "\n",
    "Write the if, elif, else statements to process a score between 0.0 and 1.0. If the score is out of range, print an error message. If the score is between 0.0 and 1.0, print the grade using the following table:\n",
    "\n",
    "| Score | Grade |\n",
    "| ----- | ----- |\n",
    "| $\\geq$ 0.9 | A |\n",
    "| $\\geq$ 0.8 | B |\n",
    "| $\\geq$ 0.7 | C |\n",
    "| $\\geq$ 0.6 | D |\n",
    "| $<$ 0.6 | F |"
   ]
  },
  {
   "cell_type": "code",
   "execution_count": 3,
   "metadata": {},
   "outputs": [],
   "source": [
    "score = 0.72"
   ]
  },
  {
   "cell_type": "code",
   "execution_count": 48,
   "metadata": {
    "tags": []
   },
   "outputs": [
    {
     "name": "stdout",
     "output_type": "stream",
     "text": [
      "C\n"
     ]
    }
   ],
   "source": [
    "# Delete the example if and else, then write code here\n",
    "score = 0.72\n",
    "if 1.0 > score >= 0.9:\n",
    "    print(\"A\")\n",
    "elif 0.9 > score >= 0.8:\n",
    "    print('B')\n",
    "elif 0.8 > score >= 0.7:\n",
    "    print('C')\n",
    "elif 0.7 > score >= 0.6:\n",
    "    print('D')\n",
    "elif 0.6 > score >= 0.0:\n",
    "    print('F')\n",
    "else:\n",
    "    print ('Error: Score {} outside of range (0.0 - 1.0)'.format(score))\n",
    "                "
   ]
  },
  {
   "cell_type": "code",
   "execution_count": null,
   "metadata": {},
   "outputs": [],
   "source": []
  }
 ],
 "metadata": {
  "kernelspec": {
   "display_name": "Python 3 (ipykernel)",
   "language": "python",
   "name": "python3"
  },
  "language_info": {
   "codemirror_mode": {
    "name": "ipython",
    "version": 3
   },
   "file_extension": ".py",
   "mimetype": "text/x-python",
   "name": "python",
   "nbconvert_exporter": "python",
   "pygments_lexer": "ipython3",
   "version": "3.11.4"
  }
 },
 "nbformat": 4,
 "nbformat_minor": 4
}
