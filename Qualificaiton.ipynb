{
 "cells": [
  {
   "cell_type": "code",
   "execution_count": 39,
   "id": "5c0efb48-f491-4b19-a69a-f5cd7b5189d3",
   "metadata": {
    "tags": []
   },
   "outputs": [
    {
     "data": {
      "text/plain": [
       "'town history indicate buy each design cost offer current temperature skin less object sugar her idea neighbor money case like section column people written'"
      ]
     },
     "execution_count": 39,
     "metadata": {},
     "output_type": "execute_result"
    }
   ],
   "source": [
    "#Replace with the file you want to decode\n",
    "in_file = 'coding_qual_input.txt'\n",
    "\n",
    "#Define our decode object\n",
    "def decode(in_file):\n",
    "    encoded_dict = {}\n",
    "    total_num = 0\n",
    "    with open(in_file, 'r') as file:\n",
    "        #Now we set up a dictionary of key,value pairs and get the total number of lines\n",
    "        for line in file:\n",
    "            num, word = line.split()\n",
    "            encoded_dict[int(num)] = word\n",
    "            total_num += 1\n",
    "        \n",
    "    #Setting up our pyramid variables\n",
    "    line_pyramid = []\n",
    "    current_num = 1\n",
    "    line_num = 1\n",
    "    #Incrementing our pyramid to create a new line after adding a new value to the end of the current line\n",
    "    while current_num <= total_num:\n",
    "        pyramid_rows = [x for x in range(current_num, min(current_num + line_num, total_num + 1))]\n",
    "        line_pyramid.append(pyramid_rows)\n",
    "        current_num += line_num\n",
    "        line_num += 1\n",
    "    #This gives us the last element of each line in the pyramid\n",
    "    encoded_message = [row[-1] for row in line_pyramid]\n",
    "    #Now we use the numbers from the encoded_message to decode\n",
    "    decoded_message = [encoded_dict[num] for num in encoded_message]\n",
    "    final_string = ' '.join(decoded_message)\n",
    "    return final_string\n",
    "decode(in_file)"
   ]
  },
  {
   "cell_type": "code",
   "execution_count": 45,
   "id": "0f641ba0-825a-44ae-9157-d4014871cf3a",
   "metadata": {
    "tags": []
   },
   "outputs": [
    {
     "data": {
      "text/plain": [
       "[[1], [2, 3], [4, 5, 6]]"
      ]
     },
     "execution_count": 45,
     "metadata": {},
     "output_type": "execute_result"
    }
   ],
   "source": [
    "def is_staircase(nums):\n",
    "    col_length = 0\n",
    "    staircase = []\n",
    "\n",
    "    while len(nums) > 0:\n",
    "        col_length = col_length + 1\n",
    "        column = []\n",
    "\n",
    "        for i in range(0, col_length):\n",
    "            column.append(nums.pop(0))\n",
    "\n",
    "            if (len(nums) == 0):\n",
    "                if i < col_length - 1:\n",
    "                    return False\n",
    "                return staircase\n",
    "        staircase.append(column)\n",
    "list = [1,2,3,4,5,6]\n",
    "list2 = [1,2,3,4,5,6,7,8,9,10]\n",
    "is_staircase(list2)\n",
    "#Correct, but invalid output, only does a list of"
   ]
  },
  {
   "cell_type": "code",
   "execution_count": 47,
   "id": "92d625ee-abe4-443e-84ec-163cfda53667",
   "metadata": {
    "tags": []
   },
   "outputs": [
    {
     "data": {
      "text/plain": [
       "[[1], [2, 3], [4, 5, 6], [7, 8, 9, 10]]"
      ]
     },
     "execution_count": 47,
     "metadata": {},
     "output_type": "execute_result"
    }
   ],
   "source": [
    "def is_staircase(nums):\n",
    "    col_length = 0\n",
    "    staircase = []\n",
    "    input_list = nums.copy()\n",
    "\n",
    "    while len(input_list) > 0:\n",
    "        col_length = col_length + 1\n",
    "        column = []\n",
    "\n",
    "        for i in range(0, col_length):\n",
    "            column.append(input_list.pop(0))\n",
    "\n",
    "            if (len(input_list) == 0):\n",
    "                if i < col_length - 1:\n",
    "                    return False\n",
    "                staircase.append(column)\n",
    "                return staircase\n",
    "        staircase.append(column)\n",
    "list = [1,2,3,4,5,6]\n",
    "list2 = [1,2,3,4,5,6,7,8,9,10]\n",
    "is_staircase(list2)"
   ]
  }
 ],
 "metadata": {
  "kernelspec": {
   "display_name": "Python 3 (ipykernel)",
   "language": "python",
   "name": "python3"
  },
  "language_info": {
   "codemirror_mode": {
    "name": "ipython",
    "version": 3
   },
   "file_extension": ".py",
   "mimetype": "text/x-python",
   "name": "python",
   "nbconvert_exporter": "python",
   "pygments_lexer": "ipython3",
   "version": "3.11.4"
  }
 },
 "nbformat": 4,
 "nbformat_minor": 5
}
