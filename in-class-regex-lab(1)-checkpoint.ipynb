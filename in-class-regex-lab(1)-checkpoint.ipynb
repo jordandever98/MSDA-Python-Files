{
 "cells": [
  {
   "cell_type": "code",
   "execution_count": 62,
   "id": "34abc875-65ab-442e-84a2-b2c7a4b372c0",
   "metadata": {
    "tags": []
   },
   "outputs": [
    {
     "name": "stdout",
     "output_type": "stream",
     "text": [
      "['www.google.com']\n"
     ]
    },
    {
     "data": {
      "text/plain": [
       "'Anthony sucks,he is not Anthony'"
      ]
     },
     "execution_count": 62,
     "metadata": {},
     "output_type": "execute_result"
    }
   ],
   "source": [
    "# QUESTIONS?\n",
    "\n",
    "# Regular Expressions\n",
    "# - allows us to extract emails based on basic patterns\n",
    "\n",
    "## Basic Patterns\n",
    "\n",
    "#abc\n",
    "\n",
    "import re\n",
    "\n",
    "#re.match() - matches apattern starting from the beginning of a string\n",
    "\n",
    "myString = 'abc'\n",
    "re.match(r'a', myString) # If match, returns match object, if no match - nothing\n",
    "\n",
    "#re.search() - matches the first pattern anywhere in the string\n",
    "\n",
    "re.search(r'a', myString)\n",
    "\n",
    "#re.findall() - matches all of the paterns in the string\n",
    "\n",
    "re.findall('a',myString)\n",
    "\n",
    "#re.sub() - replace matches\n",
    "\n",
    "### [] \n",
    "# - allow us to search for all characters in the square brackets\n",
    "\n",
    "myString = 'zezzzqzab11Vcde'\n",
    "\n",
    "re.search(r'[abcde]',myString)# look for a or b or c or d or e\n",
    "\n",
    "\n",
    "#search for all lowercase alphabetic characters\n",
    "re.search(r'[a-z]',myString)\n",
    "#all upercase\n",
    "re.search(r'[A-Z]',myString)\n",
    "#matches first thing found\n",
    "re.search(r'[a-zA-Z]',myString)\n",
    "#all digits\n",
    "re.search(r'[0-9]',myString)\n",
    "\n",
    "myString = 'aaaaaaaaaabbbbb00'\n",
    "re.match('[a-zA-Z]{4,8}[0-9][0-9]',myString)\n",
    "# return the first match for any of them\n",
    "re.search(r'.',myString)\n",
    "\n",
    "### ^$\n",
    "# when used at the start of a RE, represents the beginning of a string\n",
    "myString = 'bca'\n",
    "re.search(r'^a',myString) #returns nothing since it only does the beginning\n",
    "\n",
    "# $ will match the end of the string\n",
    "re.search(r'a$',myString) # will return since a is at the end\n",
    "\n",
    "## IF ^ is in the [], and it is the first thing in the square brackets, it represents Negation\n",
    "myString = 'abc'\n",
    "re.search(r'[^ab]',myString) # match anything that is NOT an ab (first one tho) any character\n",
    "re.search(r'[a-z^]',myString) # now it just means ^ sign\n",
    "\n",
    "### * +\n",
    "# * represents 0 or more of the previous thing\n",
    "myString = 'aabac'\n",
    "re.search(r'a*',myString) #returns the sequential sequence of a's\n",
    "#  for the one above if we remove 'a', then it would just returns '' because it is 0\n",
    "myString = 'color'\n",
    "re.search(r'colou*r',myString)\n",
    "\n",
    "# + for 1 or more of the previous thing\n",
    "myString = 'moooo'\n",
    "re.search(r'mo+',myString)\n",
    "\n",
    "\n",
    "### | (regex \"or\")\n",
    "email = '2@gmail.com   blah@utsa.edu '\n",
    "re.search(r'blah@utsa.edu|2@gmail.com',email) #matches the first one it finds, #findall would give both\n",
    "\n",
    "\n",
    "### groups\n",
    "email = 'anthony@utsa.edu'\n",
    "re.search(r'([a-z]+)@utsa.edu|([a-z]+)@gmail.com|([a-z]+)@aol.com',email) # or we can reduce this too\n",
    "match = re.search(r'([a-z]+)@(utsa\\.edu|gmail\\.com|aol\\.com)',email)\n",
    "\n",
    "match.group(2) #parses out the info and returns the () group info\n",
    "#good use case is to scrap URLs\n",
    "url = 'www.google.com\\irfn [iornf[oif[b[o\\asfasg'\n",
    "m = re.findall(r'www\\.google\\.(?:com|edu|net)',url)\n",
    "print(m)\n",
    "# ?: creates unmatched groups which is also useful in parsing URLs if we grouped the data\n",
    "\n",
    "\n",
    "\n",
    "#FP - matching something we dont want to\n",
    "#False Positive - Precision\n",
    "#FN - missing things we wanted (not matching)\n",
    "#False Negative - Recall\n",
    "\n",
    "#\n",
    "\n",
    "## Advanced Patterns\n",
    "\n",
    "### Unmatched Groups (?: ) (e.g., URLs)\n",
    "\n",
    "### Look Ahead (?=foo) (e.g., passwords)\n",
    "password = 'utsAAA1A'\n",
    "\n",
    "re.match(r'(?=.*[0-9])[a-zA-Z0-9]*',password) #checks string for a number before processing\n",
    "#creates a constraint before completing the rest of the RE\n",
    "\n",
    "myString = 'Anthony is cool'\n",
    "re.sub(r'(Anthony) is (co+l)', r'\\1 sucks,he is not \\1',myString)\n",
    "\n",
    "\n",
    "# search, findall, sub"
   ]
  },
  {
   "cell_type": "code",
   "execution_count": null,
   "id": "0f3a1916-b4d2-439a-ae81-21c55e809a64",
   "metadata": {},
   "outputs": [],
   "source": []
  },
  {
   "cell_type": "code",
   "execution_count": null,
   "id": "8185f9e1-116e-4495-851d-b908c6f4c266",
   "metadata": {},
   "outputs": [],
   "source": [
    "# Example: Passwords"
   ]
  },
  {
   "cell_type": "markdown",
   "id": "84bc674e-a566-4424-af2b-d5956154f7d7",
   "metadata": {},
   "source": [
    "# Exercise 1\n",
    "Write regular expressions for the following languages.\n",
    "1. the set of all alphabetic strings;\n",
    "2. the set of all lower case alphabetic strings ending in a b;\n",
    "3. the set of all strings from the alphabet a,b such that each a is immediately preceded by and immediately followed by a b;\n",
    "\n",
    "**TIME: 10 minutes**"
   ]
  },
  {
   "cell_type": "code",
   "execution_count": 80,
   "id": "54b94fb3-be6a-4400-8729-a56b39f1b58e",
   "metadata": {
    "tags": []
   },
   "outputs": [
    {
     "data": {
      "text/plain": [
       "<re.Match object; span=(0, 5), match='babab'>"
      ]
     },
     "execution_count": 80,
     "metadata": {},
     "output_type": "execute_result"
    }
   ],
   "source": [
    "myString = 'abc'\n",
    "re.search(r'[a-zA-Z]+',myString)\n",
    "\n",
    "myString = 'sfsfsdfasb'\n",
    "re.search(r'[a-z]+b$',myString)\n",
    "\n",
    "myString = 'babab'\n",
    "re.search(r'^b+(ab+)*$',myString)"
   ]
  },
  {
   "cell_type": "markdown",
   "id": "58fe0ca7-b9e6-4e71-8c6b-aad4e23b68f3",
   "metadata": {},
   "source": [
    "# Exercise 2\n",
    "\n",
    "ELIZA is an early natural language processing computer program created from 1964 to 1966 at the MIT Artificial Intelligence Laboratory by Joseph Weizenbaum. Created to demonstrate the superficiality of communication between man and machine, Eliza simulated conversation by using a 'pattern matching' and substitution methodology that gave users an illusion of understanding on the part of the program, but had no built in framework for contextualizing events. Perhaps the most well known variation was called DOCTOR. This was made to respond like a Rogerian psychotherapist. In this instance, the therapist \"reflects\" on questions by turning the questions back at the patient.\n",
    "\n",
    "1. [eliza] Hi, I'm a psychotherapist. What is your name?\n",
    "2. [user] **My name is** Anthony.\n",
    "3. [eliza] Hi Anthony. How can I help you today?\n",
    "4. [user] **I want** to rule the world.\n",
    "5. [eliza] Anthony, why do you want to rule the world? [transform statement into ?]\n",
    "6. [user] I don't know, I think I **crave** power.\n",
    "7. [eliza] Why don't you tell me more about your cravings? [word spot \"crave\" and respond.]\n",
    "\n",
    "Look at the conversation above. Your job is to add two regular expressions that can generate statements 5 and 7. Finally, come up with at least one other expression. Add an extra expressions that can either modify the input from the user (e.g., like \"I want\" above) while keeping some of the original response intact, or an expression that completely changes it (e.g., \"crave\" example above).\n",
    "\n",
    "**HINT:** You will need a re.sub() command that has a regex that looks for \"I want\" and one that looks for \"crave\"\n",
    "\n",
    "**EXTRA:** If you finish early, play with the code! Add extra expressions that both modify the input from the user (e.g., like \"I want\" above) and expressions that completely changes it (e.g., \"crave\" example above). Likewise, what happens if you try to change the bot from being a psychiatrist to an expert on dad jokes, e.g., \"[user] My name is Anthony\" -> \"[eliza] Hi Anthony, I'm Dad. What else should i know about you?\"\n",
    "\n",
    "**TIME: 20+ minutes**"
   ]
  },
  {
   "cell_type": "code",
   "execution_count": null,
   "id": "cda5adf7-c3c9-4053-a278-872bd33e64f3",
   "metadata": {},
   "outputs": [],
   "source": [
    "import re\n",
    "\n",
    "def process_text_name(text):\n",
    "    text_0 = text\n",
    "    text = re.sub(r\"(My name is )*([A-Za-z]+)\",\n",
    "                  r\"Hi \\2. How can I help you today?\",\n",
    "                  text_0, flags=re.IGNORECASE)\n",
    "    \n",
    "    name = re.search(r\"My name is ([A-Za-z]+)\", text_0)\n",
    "    return name, text\n",
    "\n",
    "def process_text(text, name):\n",
    "    text_0 = text\n",
    "    ############################################################\n",
    "    # WRITE CODE IN THIS BLOCK\n",
    "    \n",
    "    text = re.sub(r\".*i'm (depressed|sad).*\",\n",
    "                  r\"I am sorry to hear you are \\1. Why do you think you are \\1?\",\n",
    "                  text, flags=re.IGNORECASE)\n",
    "    text = re.sub(r\".*i am (depressed|sad).*\",\n",
    "                  r\"Why do you think you are \\1?\",\n",
    "                  text, flags=re.IGNORECASE)\n",
    "    text = re.sub(r\".*all.*\",\n",
    "                  r\"In what way?\",\n",
    "                  text, flags=re.IGNORECASE)\n",
    "    text = re.sub(r\".* always .*\",\n",
    "                  r\"Can you think of a specific example?\",\n",
    "                  text, flags=re.IGNORECASE)\n",
    "    \n",
    "    # END CODE BLOCK\n",
    "    ############################################################\n",
    "    if text == text_0:\n",
    "        text = 'Can you restate that in a different way?'\n",
    "    return text"
   ]
  },
  {
   "cell_type": "code",
   "execution_count": null,
   "id": "6cbef45e-fea0-4b5d-940b-9458f6176f2c",
   "metadata": {},
   "outputs": [],
   "source": [
    "user_input = input(\"[ELIZA]: Hi, I'm a psychotherapist. What is your name?\\n\\n\")\n",
    "\n",
    "name, output = process_text_name(user_input)\n",
    "\n",
    "user_input = input(\"\\n[ELIZA]: \" + output+\"\\n\\n\")\n",
    "while user_input.lower() != 'end':\n",
    "    output = process_text(user_input, name)\n",
    "    user_input = input(\"\\n[ELIZA]: \" + output+\"\\n\\n\")"
   ]
  },
  {
   "cell_type": "code",
   "execution_count": null,
   "id": "8cf05791-b121-4df3-b25b-83e61a7160b5",
   "metadata": {},
   "outputs": [],
   "source": []
  }
 ],
 "metadata": {
  "kernelspec": {
   "display_name": "Python 3 (ipykernel)",
   "language": "python",
   "name": "python3"
  },
  "language_info": {
   "codemirror_mode": {
    "name": "ipython",
    "version": 3
   },
   "file_extension": ".py",
   "mimetype": "text/x-python",
   "name": "python",
   "nbconvert_exporter": "python",
   "pygments_lexer": "ipython3",
   "version": "3.11.4"
  }
 },
 "nbformat": 4,
 "nbformat_minor": 5
}
